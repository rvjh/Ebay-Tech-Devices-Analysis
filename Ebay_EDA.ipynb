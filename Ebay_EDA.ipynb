{
  "nbformat": 4,
  "nbformat_minor": 0,
  "metadata": {
    "colab": {
      "name": "Ebay_EDA.ipynb",
      "provenance": []
    },
    "kernelspec": {
      "name": "python3",
      "display_name": "Python 3"
    },
    "language_info": {
      "name": "python"
    }
  },
  "cells": [
    {
      "cell_type": "markdown",
      "metadata": {
        "id": "zz1Vbhtau78B"
      },
      "source": [
        "This ipynb is basically for Ebay Tech Devices Analysis.\n",
        "\n",
        "You can upload and explore **all csv relared to this project** . Like for Mobile, Watch etc.\n",
        "\n",
        "Most of the functionality are same but for diffrent circumstances you need to change manually."
      ]
    },
    {
      "cell_type": "markdown",
      "metadata": {
        "id": "PRwG3K1-ie6A"
      },
      "source": [
        "importing relevent library"
      ]
    },
    {
      "cell_type": "code",
      "metadata": {
        "id": "m26E_s0yhys7"
      },
      "source": [
        "## importing relevent library\n",
        "\n",
        "import numpy as np \n",
        "import pandas as pd \n",
        "import matplotlib.pyplot as plt\n",
        "import seaborn as sns\n",
        "import plotly.graph_objects as go"
      ],
      "execution_count": 63,
      "outputs": []
    },
    {
      "cell_type": "markdown",
      "metadata": {
        "id": "Keck2BJCihZ_"
      },
      "source": [
        "reading the csv dataset"
      ]
    },
    {
      "cell_type": "code",
      "metadata": {
        "id": "JnYEGqMsiMfg"
      },
      "source": [
        "## you can try different dataset\n",
        "\n",
        "df = pd.read_csv('Watch1.csv')"
      ],
      "execution_count": 112,
      "outputs": []
    },
    {
      "cell_type": "code",
      "metadata": {
        "colab": {
          "base_uri": "https://localhost:8080/",
          "height": 204
        },
        "id": "B-opXAF-irl2",
        "outputId": "ae615c54-0b33-41bb-db77-5ca1aa0bc9f0"
      },
      "source": [
        "df.head()"
      ],
      "execution_count": 65,
      "outputs": [
        {
          "output_type": "execute_result",
          "data": {
            "text/html": [
              "<div>\n",
              "<style scoped>\n",
              "    .dataframe tbody tr th:only-of-type {\n",
              "        vertical-align: middle;\n",
              "    }\n",
              "\n",
              "    .dataframe tbody tr th {\n",
              "        vertical-align: top;\n",
              "    }\n",
              "\n",
              "    .dataframe thead th {\n",
              "        text-align: right;\n",
              "    }\n",
              "</style>\n",
              "<table border=\"1\" class=\"dataframe\">\n",
              "  <thead>\n",
              "    <tr style=\"text-align: right;\">\n",
              "      <th></th>\n",
              "      <th>Title</th>\n",
              "      <th>Price</th>\n",
              "      <th>Rating</th>\n",
              "      <th>Sold</th>\n",
              "    </tr>\n",
              "  </thead>\n",
              "  <tbody>\n",
              "    <tr>\n",
              "      <th>0</th>\n",
              "      <td>NaN</td>\n",
              "      <td>68.95</td>\n",
              "      <td>6.326323e+06</td>\n",
              "      <td>135.0</td>\n",
              "    </tr>\n",
              "    <tr>\n",
              "      <th>1</th>\n",
              "      <td>Mens Dual Time Flywheel Automatic Mechanical W...</td>\n",
              "      <td>59.94</td>\n",
              "      <td>1.692040e+05</td>\n",
              "      <td>134.0</td>\n",
              "    </tr>\n",
              "    <tr>\n",
              "      <th>2</th>\n",
              "      <td>Invicta Men's 32632 Specialty Mechanical 3 Han...</td>\n",
              "      <td>49.99</td>\n",
              "      <td>1.751720e+07</td>\n",
              "      <td>3544.0</td>\n",
              "    </tr>\n",
              "    <tr>\n",
              "      <th>3</th>\n",
              "      <td>Invicta Men's Watch Pro Diver Blue Dial Quartz...</td>\n",
              "      <td>78.99</td>\n",
              "      <td>2.277471e+09</td>\n",
              "      <td>621.0</td>\n",
              "    </tr>\n",
              "    <tr>\n",
              "      <th>4</th>\n",
              "      <td>Invicta Men's Watch Aviator Chronograph Gunmet...</td>\n",
              "      <td>48.98</td>\n",
              "      <td>6.224140e+05</td>\n",
              "      <td>617.0</td>\n",
              "    </tr>\n",
              "  </tbody>\n",
              "</table>\n",
              "</div>"
            ],
            "text/plain": [
              "                                               Title  ...    Sold\n",
              "0                                                NaN  ...   135.0\n",
              "1  Mens Dual Time Flywheel Automatic Mechanical W...  ...   134.0\n",
              "2  Invicta Men's 32632 Specialty Mechanical 3 Han...  ...  3544.0\n",
              "3  Invicta Men's Watch Pro Diver Blue Dial Quartz...  ...   621.0\n",
              "4  Invicta Men's Watch Aviator Chronograph Gunmet...  ...   617.0\n",
              "\n",
              "[5 rows x 4 columns]"
            ]
          },
          "metadata": {
            "tags": []
          },
          "execution_count": 65
        }
      ]
    },
    {
      "cell_type": "markdown",
      "metadata": {
        "id": "RKX9-v-si5M7"
      },
      "source": [
        "showing different statistical characteristics of data"
      ]
    },
    {
      "cell_type": "code",
      "metadata": {
        "colab": {
          "base_uri": "https://localhost:8080/"
        },
        "id": "G62-HYeEi1pu",
        "outputId": "2eeaf5fc-be7b-4411-a481-d3b06f6d4bd3"
      },
      "source": [
        "df.info()"
      ],
      "execution_count": 66,
      "outputs": [
        {
          "output_type": "stream",
          "text": [
            "<class 'pandas.core.frame.DataFrame'>\n",
            "RangeIndex: 257 entries, 0 to 256\n",
            "Data columns (total 4 columns):\n",
            " #   Column  Non-Null Count  Dtype  \n",
            "---  ------  --------------  -----  \n",
            " 0   Title   251 non-null    object \n",
            " 1   Price   256 non-null    object \n",
            " 2   Rating  40 non-null     float64\n",
            " 3   Sold    46 non-null     float64\n",
            "dtypes: float64(2), object(2)\n",
            "memory usage: 8.2+ KB\n"
          ],
          "name": "stdout"
        }
      ]
    },
    {
      "cell_type": "code",
      "metadata": {
        "colab": {
          "base_uri": "https://localhost:8080/",
          "height": 297
        },
        "id": "Yx_kygrGjCa4",
        "outputId": "9e77d6c0-569c-4749-c536-152c4c104c42"
      },
      "source": [
        "df.describe()"
      ],
      "execution_count": 67,
      "outputs": [
        {
          "output_type": "execute_result",
          "data": {
            "text/html": [
              "<div>\n",
              "<style scoped>\n",
              "    .dataframe tbody tr th:only-of-type {\n",
              "        vertical-align: middle;\n",
              "    }\n",
              "\n",
              "    .dataframe tbody tr th {\n",
              "        vertical-align: top;\n",
              "    }\n",
              "\n",
              "    .dataframe thead th {\n",
              "        text-align: right;\n",
              "    }\n",
              "</style>\n",
              "<table border=\"1\" class=\"dataframe\">\n",
              "  <thead>\n",
              "    <tr style=\"text-align: right;\">\n",
              "      <th></th>\n",
              "      <th>Rating</th>\n",
              "      <th>Sold</th>\n",
              "    </tr>\n",
              "  </thead>\n",
              "  <tbody>\n",
              "    <tr>\n",
              "      <th>count</th>\n",
              "      <td>4.000000e+01</td>\n",
              "      <td>46.000000</td>\n",
              "    </tr>\n",
              "    <tr>\n",
              "      <th>mean</th>\n",
              "      <td>2.601154e+16</td>\n",
              "      <td>197.086957</td>\n",
              "    </tr>\n",
              "    <tr>\n",
              "      <th>std</th>\n",
              "      <td>1.643930e+17</td>\n",
              "      <td>555.147781</td>\n",
              "    </tr>\n",
              "    <tr>\n",
              "      <th>min</th>\n",
              "      <td>1.231300e+04</td>\n",
              "      <td>4.000000</td>\n",
              "    </tr>\n",
              "    <tr>\n",
              "      <th>25%</th>\n",
              "      <td>7.826530e+05</td>\n",
              "      <td>16.500000</td>\n",
              "    </tr>\n",
              "    <tr>\n",
              "      <th>50%</th>\n",
              "      <td>1.542978e+07</td>\n",
              "      <td>30.000000</td>\n",
              "    </tr>\n",
              "    <tr>\n",
              "      <th>75%</th>\n",
              "      <td>7.601275e+08</td>\n",
              "      <td>121.000000</td>\n",
              "    </tr>\n",
              "    <tr>\n",
              "      <th>max</th>\n",
              "      <td>1.039731e+18</td>\n",
              "      <td>3544.000000</td>\n",
              "    </tr>\n",
              "  </tbody>\n",
              "</table>\n",
              "</div>"
            ],
            "text/plain": [
              "             Rating         Sold\n",
              "count  4.000000e+01    46.000000\n",
              "mean   2.601154e+16   197.086957\n",
              "std    1.643930e+17   555.147781\n",
              "min    1.231300e+04     4.000000\n",
              "25%    7.826530e+05    16.500000\n",
              "50%    1.542978e+07    30.000000\n",
              "75%    7.601275e+08   121.000000\n",
              "max    1.039731e+18  3544.000000"
            ]
          },
          "metadata": {
            "tags": []
          },
          "execution_count": 67
        }
      ]
    },
    {
      "cell_type": "markdown",
      "metadata": {
        "id": "WXpP2B9FjPxO"
      },
      "source": [
        "showing null value present in the dataset"
      ]
    },
    {
      "cell_type": "code",
      "metadata": {
        "colab": {
          "base_uri": "https://localhost:8080/"
        },
        "id": "iTiV-1NQjPIt",
        "outputId": "c469bfa5-8ff0-4852-f2eb-12aad5631c84"
      },
      "source": [
        "df.isna().sum()"
      ],
      "execution_count": 68,
      "outputs": [
        {
          "output_type": "execute_result",
          "data": {
            "text/plain": [
              "Title       6\n",
              "Price       1\n",
              "Rating    217\n",
              "Sold      211\n",
              "dtype: int64"
            ]
          },
          "metadata": {
            "tags": []
          },
          "execution_count": 68
        }
      ]
    },
    {
      "cell_type": "code",
      "metadata": {
        "colab": {
          "base_uri": "https://localhost:8080/",
          "height": 286
        },
        "id": "QYsF8pcgjFcu",
        "outputId": "ef2404c2-df54-42a6-e18a-780c100dcadb"
      },
      "source": [
        "#graphically\n",
        "sns.heatmap(df.isnull(), cmap='viridis')"
      ],
      "execution_count": 69,
      "outputs": [
        {
          "output_type": "execute_result",
          "data": {
            "text/plain": [
              "<matplotlib.axes._subplots.AxesSubplot at 0x7fce13074590>"
            ]
          },
          "metadata": {
            "tags": []
          },
          "execution_count": 69
        },
        {
          "output_type": "display_data",
          "data": {
            "image/png": "[encoded data removed]",
            "text/plain": [
              "<Figure size 432x288 with 2 Axes>"
            ]
          },
          "metadata": {
            "tags": [],
            "needs_background": "light"
          }
        }
      ]
    },
    {
      "cell_type": "markdown",
      "metadata": {
        "id": "q3sFSNNDjioq"
      },
      "source": [
        "to see how many columns present "
      ]
    },
    {
      "cell_type": "code",
      "metadata": {
        "colab": {
          "base_uri": "https://localhost:8080/"
        },
        "id": "ZW2ZaVhcjeVo",
        "outputId": "216156f9-2787-46bc-e282-6b4528ceb2cc"
      },
      "source": [
        "df.columns"
      ],
      "execution_count": 70,
      "outputs": [
        {
          "output_type": "execute_result",
          "data": {
            "text/plain": [
              "Index(['Title', 'Price', 'Rating', 'Sold'], dtype='object')"
            ]
          },
          "metadata": {
            "tags": []
          },
          "execution_count": 70
        }
      ]
    },
    {
      "cell_type": "markdown",
      "metadata": {
        "id": "7iHRlePUjyRO"
      },
      "source": [
        "Try to open the cvs in the system and explore different features .\n",
        "\n",
        "It may contain different data type like string, float ,missing values etc."
      ]
    },
    {
      "cell_type": "code",
      "metadata": {
        "colab": {
          "base_uri": "https://localhost:8080/",
          "height": 204
        },
        "id": "Ut6gaDRojmSU",
        "outputId": "0ad42a45-6f2a-4504-df00-1b50c4f7e3d4"
      },
      "source": [
        "df.head()"
      ],
      "execution_count": 71,
      "outputs": [
        {
          "output_type": "execute_result",
          "data": {
            "text/html": [
              "<div>\n",
              "<style scoped>\n",
              "    .dataframe tbody tr th:only-of-type {\n",
              "        vertical-align: middle;\n",
              "    }\n",
              "\n",
              "    .dataframe tbody tr th {\n",
              "        vertical-align: top;\n",
              "    }\n",
              "\n",
              "    .dataframe thead th {\n",
              "        text-align: right;\n",
              "    }\n",
              "</style>\n",
              "<table border=\"1\" class=\"dataframe\">\n",
              "  <thead>\n",
              "    <tr style=\"text-align: right;\">\n",
              "      <th></th>\n",
              "      <th>Title</th>\n",
              "      <th>Price</th>\n",
              "      <th>Rating</th>\n",
              "      <th>Sold</th>\n",
              "    </tr>\n",
              "  </thead>\n",
              "  <tbody>\n",
              "    <tr>\n",
              "      <th>0</th>\n",
              "      <td>NaN</td>\n",
              "      <td>68.95</td>\n",
              "      <td>6.326323e+06</td>\n",
              "      <td>135.0</td>\n",
              "    </tr>\n",
              "    <tr>\n",
              "      <th>1</th>\n",
              "      <td>Mens Dual Time Flywheel Automatic Mechanical W...</td>\n",
              "      <td>59.94</td>\n",
              "      <td>1.692040e+05</td>\n",
              "      <td>134.0</td>\n",
              "    </tr>\n",
              "    <tr>\n",
              "      <th>2</th>\n",
              "      <td>Invicta Men's 32632 Specialty Mechanical 3 Han...</td>\n",
              "      <td>49.99</td>\n",
              "      <td>1.751720e+07</td>\n",
              "      <td>3544.0</td>\n",
              "    </tr>\n",
              "    <tr>\n",
              "      <th>3</th>\n",
              "      <td>Invicta Men's Watch Pro Diver Blue Dial Quartz...</td>\n",
              "      <td>78.99</td>\n",
              "      <td>2.277471e+09</td>\n",
              "      <td>621.0</td>\n",
              "    </tr>\n",
              "    <tr>\n",
              "      <th>4</th>\n",
              "      <td>Invicta Men's Watch Aviator Chronograph Gunmet...</td>\n",
              "      <td>48.98</td>\n",
              "      <td>6.224140e+05</td>\n",
              "      <td>617.0</td>\n",
              "    </tr>\n",
              "  </tbody>\n",
              "</table>\n",
              "</div>"
            ],
            "text/plain": [
              "                                               Title  ...    Sold\n",
              "0                                                NaN  ...   135.0\n",
              "1  Mens Dual Time Flywheel Automatic Mechanical W...  ...   134.0\n",
              "2  Invicta Men's 32632 Specialty Mechanical 3 Han...  ...  3544.0\n",
              "3  Invicta Men's Watch Pro Diver Blue Dial Quartz...  ...   621.0\n",
              "4  Invicta Men's Watch Aviator Chronograph Gunmet...  ...   617.0\n",
              "\n",
              "[5 rows x 4 columns]"
            ]
          },
          "metadata": {
            "tags": []
          },
          "execution_count": 71
        }
      ]
    },
    {
      "cell_type": "markdown",
      "metadata": {
        "id": "ANd7_uu7kVzp"
      },
      "source": [
        "some features contains string inside numeric values .\n",
        "\n",
        "so need to remove them ***manually*** before applying it to a model "
      ]
    },
    {
      "cell_type": "code",
      "metadata": {
        "colab": {
          "base_uri": "https://localhost:8080/",
          "height": 419
        },
        "id": "QYoZQI3zkCTG",
        "outputId": "cf676c46-16c2-44aa-9a25-20157d25dd08"
      },
      "source": [
        "### try to do it manually many dataset may not contains special characters and may contain other features.\n",
        "\n",
        "df['Price'] = np.where((df.Price == '189.98 to $225.98'),225.98,df.Price)\n",
        "df['Price'] = np.where((df.Price == '175.98 to $238.98'),238.98,df.Price)\n",
        "df['Price'] = np.where((df.Price == '115.98 to $118.98'),120.00,df.Price)\n",
        "df['Price'] = np.where((df.Price == '458.98 to $469.98'),469.98,df.Price)\n",
        "df['Price'] = np.where((df.Price == '159.99 to $189.99'),189.99,df.Price)\n",
        "df['Price'] = np.where((df.Price == '379.95 to $419.95'),419.95,df.Price)\n",
        "df['Price'] = np.where((df.Price == '235.98 to $298.98'),298.98,df.Price)\n",
        "df['Price'] = np.where((df.Price == '8.99 to $9.99'),9.99,df.Price)\n",
        "df['Price'] = np.where((df.Price == '189.98 to $239.98'),239.98,df.Price)\n",
        "df"
      ],
      "execution_count": 113,
      "outputs": [
        {
          "output_type": "execute_result",
          "data": {
            "text/html": [
              "<div>\n",
              "<style scoped>\n",
              "    .dataframe tbody tr th:only-of-type {\n",
              "        vertical-align: middle;\n",
              "    }\n",
              "\n",
              "    .dataframe tbody tr th {\n",
              "        vertical-align: top;\n",
              "    }\n",
              "\n",
              "    .dataframe thead th {\n",
              "        text-align: right;\n",
              "    }\n",
              "</style>\n",
              "<table border=\"1\" class=\"dataframe\">\n",
              "  <thead>\n",
              "    <tr style=\"text-align: right;\">\n",
              "      <th></th>\n",
              "      <th>Title</th>\n",
              "      <th>Price</th>\n",
              "      <th>Rating</th>\n",
              "      <th>Sold</th>\n",
              "    </tr>\n",
              "  </thead>\n",
              "  <tbody>\n",
              "    <tr>\n",
              "      <th>0</th>\n",
              "      <td>NaN</td>\n",
              "      <td>68.95</td>\n",
              "      <td>6.326323e+06</td>\n",
              "      <td>135.0</td>\n",
              "    </tr>\n",
              "    <tr>\n",
              "      <th>1</th>\n",
              "      <td>Mens Dual Time Flywheel Automatic Mechanical W...</td>\n",
              "      <td>59.94</td>\n",
              "      <td>1.692040e+05</td>\n",
              "      <td>134.0</td>\n",
              "    </tr>\n",
              "    <tr>\n",
              "      <th>2</th>\n",
              "      <td>Invicta Men's 32632 Specialty Mechanical 3 Han...</td>\n",
              "      <td>49.99</td>\n",
              "      <td>1.751720e+07</td>\n",
              "      <td>3544.0</td>\n",
              "    </tr>\n",
              "    <tr>\n",
              "      <th>3</th>\n",
              "      <td>Invicta Men's Watch Pro Diver Blue Dial Quartz...</td>\n",
              "      <td>78.99</td>\n",
              "      <td>2.277471e+09</td>\n",
              "      <td>621.0</td>\n",
              "    </tr>\n",
              "    <tr>\n",
              "      <th>4</th>\n",
              "      <td>Invicta Men's Watch Aviator Chronograph Gunmet...</td>\n",
              "      <td>48.98</td>\n",
              "      <td>6.224140e+05</td>\n",
              "      <td>617.0</td>\n",
              "    </tr>\n",
              "    <tr>\n",
              "      <th>...</th>\n",
              "      <td>...</td>\n",
              "      <td>...</td>\n",
              "      <td>...</td>\n",
              "      <td>...</td>\n",
              "    </tr>\n",
              "    <tr>\n",
              "      <th>252</th>\n",
              "      <td>Victorinox Swiss Army Men's Watch I.N.O.X. Blu...</td>\n",
              "      <td>369.98</td>\n",
              "      <td>NaN</td>\n",
              "      <td>NaN</td>\n",
              "    </tr>\n",
              "    <tr>\n",
              "      <th>253</th>\n",
              "      <td>New ListingNixon Women's Watch Kensington Quar...</td>\n",
              "      <td>80.00</td>\n",
              "      <td>NaN</td>\n",
              "      <td>NaN</td>\n",
              "    </tr>\n",
              "    <tr>\n",
              "      <th>254</th>\n",
              "      <td>New ListingVintage Gold &amp; Black Chanel Premier...</td>\n",
              "      <td>1,395.00</td>\n",
              "      <td>NaN</td>\n",
              "      <td>NaN</td>\n",
              "    </tr>\n",
              "    <tr>\n",
              "      <th>255</th>\n",
              "      <td>Mens Silver Automatic Mechanical Watch White D...</td>\n",
              "      <td>118.95</td>\n",
              "      <td>NaN</td>\n",
              "      <td>NaN</td>\n",
              "    </tr>\n",
              "    <tr>\n",
              "      <th>256</th>\n",
              "      <td>Mens Automatic Mechanical Watch Date Day Silve...</td>\n",
              "      <td>84.99</td>\n",
              "      <td>NaN</td>\n",
              "      <td>NaN</td>\n",
              "    </tr>\n",
              "  </tbody>\n",
              "</table>\n",
              "<p>257 rows × 4 columns</p>\n",
              "</div>"
            ],
            "text/plain": [
              "                                                 Title  ...    Sold\n",
              "0                                                  NaN  ...   135.0\n",
              "1    Mens Dual Time Flywheel Automatic Mechanical W...  ...   134.0\n",
              "2    Invicta Men's 32632 Specialty Mechanical 3 Han...  ...  3544.0\n",
              "3    Invicta Men's Watch Pro Diver Blue Dial Quartz...  ...   621.0\n",
              "4    Invicta Men's Watch Aviator Chronograph Gunmet...  ...   617.0\n",
              "..                                                 ...  ...     ...\n",
              "252  Victorinox Swiss Army Men's Watch I.N.O.X. Blu...  ...     NaN\n",
              "253  New ListingNixon Women's Watch Kensington Quar...  ...     NaN\n",
              "254  New ListingVintage Gold & Black Chanel Premier...  ...     NaN\n",
              "255  Mens Silver Automatic Mechanical Watch White D...  ...     NaN\n",
              "256  Mens Automatic Mechanical Watch Date Day Silve...  ...     NaN\n",
              "\n",
              "[257 rows x 4 columns]"
            ]
          },
          "metadata": {
            "tags": []
          },
          "execution_count": 113
        }
      ]
    },
    {
      "cell_type": "markdown",
      "metadata": {
        "id": "gcQ8z9LIlgtB"
      },
      "source": [
        "some values in the Price contains commas and special character removing them ."
      ]
    },
    {
      "cell_type": "code",
      "metadata": {
        "id": "qVcIAaYPlflv"
      },
      "source": [
        "df[\"Price\"] = [float(str(i).replace(\",\", \"\")) for i in df[\"Price\"]]\n",
        "df['Price'] = df['Price'].replace(\"$\",\"\", regex=True).astype(float)"
      ],
      "execution_count": 73,
      "outputs": []
    },
    {
      "cell_type": "markdown",
      "metadata": {
        "id": "o5HChwlEl2Ek"
      },
      "source": [
        "finding the Nan values with the mean .."
      ]
    },
    {
      "cell_type": "code",
      "metadata": {
        "id": "gTG29kMRl9Aq"
      },
      "source": [
        "def get_mean(a):\n",
        "  mean_value = a.mean()\n",
        "  print('mean value :',mean_value)\n",
        "\n",
        "  a.fillna(value=mean_value, inplace=True)\n",
        "  print('mean value filled in place of nan ' ,a)"
      ],
      "execution_count": 74,
      "outputs": []
    },
    {
      "cell_type": "code",
      "metadata": {
        "colab": {
          "base_uri": "https://localhost:8080/"
        },
        "id": "3jyIY1FTnvz5",
        "outputId": "502e0170-75b8-45f2-8b3a-9dce280c73be"
      },
      "source": [
        "##for price\n",
        "get_mean(df['Price'])"
      ],
      "execution_count": 75,
      "outputs": [
        {
          "output_type": "stream",
          "text": [
            "mean value : 1451.0104687499995\n",
            "mean value filled in place of nan  0        68.95\n",
            "1        59.94\n",
            "2        49.99\n",
            "3        78.99\n",
            "4        48.98\n",
            "        ...   \n",
            "252     369.98\n",
            "253      80.00\n",
            "254    1395.00\n",
            "255     118.95\n",
            "256      84.99\n",
            "Name: Price, Length: 257, dtype: float64\n"
          ],
          "name": "stdout"
        }
      ]
    },
    {
      "cell_type": "markdown",
      "metadata": {
        "id": "qMvoxJSLlHjO"
      },
      "source": [
        "visualization ..."
      ]
    },
    {
      "cell_type": "code",
      "metadata": {
        "id": "VygEXUb0k5dr"
      },
      "source": [
        "def feature_show(a):\n",
        "  fig = go.Figure(data=go.Bar(y=a))\n",
        "  fig.show()"
      ],
      "execution_count": 76,
      "outputs": []
    },
    {
      "cell_type": "code",
      "metadata": {
        "colab": {
          "base_uri": "https://localhost:8080/",
          "height": 542
        },
        "id": "2snl1bfbmyXg",
        "outputId": "b07f0b89-5d21-4fd9-d456-823bca03a92e"
      },
      "source": [
        "## for price\n",
        "feature_show(df['Price'])"
      ],
      "execution_count": 77,
      "outputs": [
        {
          "output_type": "display_data",
          "data": {
            "text/html": [
              "<html>\n",
              "<head><meta charset=\"utf-8\" /></head>\n",
              "<body>\n",
              "    <div>\n",
              "            <script src=\"https://cdnjs.cloudflare.com/ajax/libs/mathjax/2.7.5/MathJax.js?config=TeX-AMS-MML_SVG\"></script><script type=\"text/javascript\">if (window.MathJax) {MathJax.Hub.Config({SVG: {font: \"STIX-Web\"}});}</script>\n",
              "                <script type=\"text/javascript\">window.PlotlyConfig = {MathJaxConfig: 'local'};</script>\n",
              "        <script src=\"https://cdn.plot.ly/plotly-latest.min.js\"></script>    \n",
              "            <div id=\"732758d1-f3d8-4929-a9da-6f5e2030f0cc\" class=\"plotly-graph-div\" style=\"height:525px; width:100%;\"></div>\n",
              "            <script type=\"text/javascript\">\n",
              "                \n",
              "                    window.PLOTLYENV=window.PLOTLYENV || {};\n",
              "                    \n",
              "                if (document.getElementById(\"732758d1-f3d8-4929-a9da-6f5e2030f0cc\")) {\n",
              "                    Plotly.newPlot(\n",
              "                        '732758d1-f3d8-4929-a9da-6f5e2030f0cc',\n",
              "                        [{\"type\": \"bar\", \"y\": [68.95, 59.94, 49.99, 78.99, 48.98, 79.93, 25.0, 75.0, 29.99, 9.99, 345.0, 30.0, 75.0, 400.0, 209.99, 160.99, 114.95, 790.0, 99.0, 39.99, 59.94, 1645.0, 9.99, 64.29, 2475.0, 46.0, 60.99, 1495.0, 5600.0, 0.99, 528.08, 49.99, 1199.0, 60.99, 20.0, 5995.0, 99.99, 15.0, 199.0, 517.39, 2425.0, 119.99, 10999.0, 795.0, 43.99, 24.99, 3395.0, 90.0, 217.0, 195.0, 1999.0, 0.99, 79.99, 49.99, 9.99, 250.0, 219.88, 35.0, 20.0, 20.0, 94.95, 299.0, 1451.0104687499995, 37.9, 110.0, 496.0, 68.95, 4105.04, 49.0, 16.0, 0.99, 0.99, 96.2, 1745.0, 2122.0, 144.95, 3100.0, 8286.55, 114.95, 470.14, 299.0, 128.95, 11.3, 20.0, 96.95, 20.0, 119.99, 98.0, 143.0, 10.0, 242.88, 110.0, 95.0, 200.0, 12.0, 9.99, 21.2, 202.5, 1199.0, 9.99, 25.0, 329.0, 11799.0, 40.0, 109.9, 110.0, 99.99, 8575.0, 1350.0, 1075.0, 4.99, 42.0, 67.99, 5093.05, 1819.0, 12743.21, 199.99, 7499.0, 25.2, 20.5, 0.99, 245.0, 899.0, 115.0, 325.0, 24.86, 47.99, 24.99, 68.0, 108.0, 128.95, 124.95, 78.95, 124.95, 94.95, 279.0, 129.0, 124.99, 99.99, 1890.0, 51999.0, 9.99, 48.98, 118.95, 49.0, 29.99, 104.95, 39.99, 1099.0, 302.0, 19.99, 129.99, 3199.0, 4600.0, 6495.0, 250.0, 350.0, 299.0, 899.99, 936.0, 10.0, 85.0, 64.9, 229.0, 29493.92, 28.0, 141.95, 4800.0, 124.95, 128.95, 3500.0, 5781.0, 110.0, 945.0, 3699.99, 999.0, 2800.0, 400.0, 3989.0, 1499.99, 6685.0, 99.0, 1499.99, 59.99, 104.09, 80.0, 1560.32, 36.0, 9.99, 47.99, 2995.0, 84.95, 124.95, 118.95, 130.0, 48.98, 84.99, 99.0, 84.95, 1499.99, 59.99, 80.0, 1560.32, 104.09, 36.0, 9.99, 47.99, 599.99, 49.0, 114.95, 48.98, 20.0, 158.0, 2995.0, 1199.0, 75.0, 234.0, 375.0, 20.0, 20.0, 110.0, 4.99, 155.0, 338.0, 12.0, 17.99, 3861.0, 1895.0, 2872.0, 9.99, 235.0, 249.99, 28.0, 8493.48, 75.95, 134.99, 8799.0, 139.75, 3500.0, 5000.0, 162.95, 8995.0, 10.0, 20.0, 44990.0, 264.94, 79.99, 0.99, 800.0, 95.0, 622.0, 69.99, 369.98, 80.0, 1395.0, 118.95, 84.99]}],\n",
              "                        {\"template\": {\"data\": {\"bar\": [{\"error_x\": {\"color\": \"#2a3f5f\"}, \"error_y\": {\"color\": \"#2a3f5f\"}, \"marker\": {\"line\": {\"color\": \"#E5ECF6\", \"width\": 0.5}}, \"type\": \"bar\"}], \"barpolar\": [{\"marker\": {\"line\": {\"color\": \"#E5ECF6\", \"width\": 0.5}}, \"type\": \"barpolar\"}], \"carpet\": [{\"aaxis\": {\"endlinecolor\": \"#2a3f5f\", \"gridcolor\": \"white\", \"linecolor\": \"white\", \"minorgridcolor\": \"white\", \"startlinecolor\": \"#2a3f5f\"}, \"baxis\": {\"endlinecolor\": \"#2a3f5f\", \"gridcolor\": \"white\", \"linecolor\": \"white\", \"minorgridcolor\": \"white\", \"startlinecolor\": \"#2a3f5f\"}, \"type\": \"carpet\"}], \"choropleth\": [{\"colorbar\": {\"outlinewidth\": 0, \"ticks\": \"\"}, \"type\": \"choropleth\"}], \"contour\": [{\"colorbar\": {\"outlinewidth\": 0, \"ticks\": \"\"}, \"colorscale\": [[0.0, \"#0d0887\"], [0.1111111111111111, \"#46039f\"], [0.2222222222222222, \"#7201a8\"], [0.3333333333333333, \"#9c179e\"], [0.4444444444444444, \"#bd3786\"], [0.5555555555555556, \"#d8576b\"], [0.6666666666666666, \"#ed7953\"], [0.7777777777777778, \"#fb9f3a\"], [0.8888888888888888, \"#fdca26\"], [1.0, \"#f0f921\"]], \"type\": \"contour\"}], \"contourcarpet\": [{\"colorbar\": {\"outlinewidth\": 0, \"ticks\": \"\"}, \"type\": \"contourcarpet\"}], \"heatmap\": [{\"colorbar\": {\"outlinewidth\": 0, \"ticks\": \"\"}, \"colorscale\": [[0.0, \"#0d0887\"], [0.1111111111111111, \"#46039f\"], [0.2222222222222222, \"#7201a8\"], [0.3333333333333333, \"#9c179e\"], [0.4444444444444444, \"#bd3786\"], [0.5555555555555556, \"#d8576b\"], [0.6666666666666666, \"#ed7953\"], [0.7777777777777778, \"#fb9f3a\"], [0.8888888888888888, \"#fdca26\"], [1.0, \"#f0f921\"]], \"type\": \"heatmap\"}], \"heatmapgl\": [{\"colorbar\": {\"outlinewidth\": 0, \"ticks\": \"\"}, \"colorscale\": [[0.0, \"#0d0887\"], [0.1111111111111111, \"#46039f\"], [0.2222222222222222, \"#7201a8\"], [0.3333333333333333, \"#9c179e\"], [0.4444444444444444, \"#bd3786\"], [0.5555555555555556, \"#d8576b\"], [0.6666666666666666, \"#ed7953\"], [0.7777777777777778, \"#fb9f3a\"], [0.8888888888888888, \"#fdca26\"], [1.0, \"#f0f921\"]], \"type\": \"heatmapgl\"}], \"histogram\": [{\"marker\": {\"colorbar\": {\"outlinewidth\": 0, \"ticks\": \"\"}}, \"type\": \"histogram\"}], \"histogram2d\": [{\"colorbar\": {\"outlinewidth\": 0, \"ticks\": \"\"}, \"colorscale\": [[0.0, \"#0d0887\"], [0.1111111111111111, \"#46039f\"], [0.2222222222222222, \"#7201a8\"], [0.3333333333333333, \"#9c179e\"], [0.4444444444444444, \"#bd3786\"], [0.5555555555555556, \"#d8576b\"], [0.6666666666666666, \"#ed7953\"], [0.7777777777777778, \"#fb9f3a\"], [0.8888888888888888, \"#fdca26\"], [1.0, \"#f0f921\"]], \"type\": \"histogram2d\"}], \"histogram2dcontour\": [{\"colorbar\": {\"outlinewidth\": 0, \"ticks\": \"\"}, \"colorscale\": [[0.0, \"#0d0887\"], [0.1111111111111111, \"#46039f\"], [0.2222222222222222, \"#7201a8\"], [0.3333333333333333, \"#9c179e\"], [0.4444444444444444, \"#bd3786\"], [0.5555555555555556, \"#d8576b\"], [0.6666666666666666, \"#ed7953\"], [0.7777777777777778, \"#fb9f3a\"], [0.8888888888888888, \"#fdca26\"], [1.0, \"#f0f921\"]], \"type\": \"histogram2dcontour\"}], \"mesh3d\": [{\"colorbar\": {\"outlinewidth\": 0, \"ticks\": \"\"}, \"type\": \"mesh3d\"}], \"parcoords\": [{\"line\": {\"colorbar\": {\"outlinewidth\": 0, \"ticks\": \"\"}}, \"type\": \"parcoords\"}], \"pie\": [{\"automargin\": true, \"type\": \"pie\"}], \"scatter\": [{\"marker\": {\"colorbar\": {\"outlinewidth\": 0, \"ticks\": \"\"}}, \"type\": \"scatter\"}], \"scatter3d\": [{\"line\": {\"colorbar\": {\"outlinewidth\": 0, \"ticks\": \"\"}}, \"marker\": {\"colorbar\": {\"outlinewidth\": 0, \"ticks\": \"\"}}, \"type\": \"scatter3d\"}], \"scattercarpet\": [{\"marker\": {\"colorbar\": {\"outlinewidth\": 0, \"ticks\": \"\"}}, \"type\": \"scattercarpet\"}], \"scattergeo\": [{\"marker\": {\"colorbar\": {\"outlinewidth\": 0, \"ticks\": \"\"}}, \"type\": \"scattergeo\"}], \"scattergl\": [{\"marker\": {\"colorbar\": {\"outlinewidth\": 0, \"ticks\": \"\"}}, \"type\": \"scattergl\"}], \"scattermapbox\": [{\"marker\": {\"colorbar\": {\"outlinewidth\": 0, \"ticks\": \"\"}}, \"type\": \"scattermapbox\"}], \"scatterpolar\": [{\"marker\": {\"colorbar\": {\"outlinewidth\": 0, \"ticks\": \"\"}}, \"type\": \"scatterpolar\"}], \"scatterpolargl\": [{\"marker\": {\"colorbar\": {\"outlinewidth\": 0, \"ticks\": \"\"}}, \"type\": \"scatterpolargl\"}], \"scatterternary\": [{\"marker\": {\"colorbar\": {\"outlinewidth\": 0, \"ticks\": \"\"}}, \"type\": \"scatterternary\"}], \"surface\": [{\"colorbar\": {\"outlinewidth\": 0, \"ticks\": \"\"}, \"colorscale\": [[0.0, \"#0d0887\"], [0.1111111111111111, \"#46039f\"], [0.2222222222222222, \"#7201a8\"], [0.3333333333333333, \"#9c179e\"], [0.4444444444444444, \"#bd3786\"], [0.5555555555555556, \"#d8576b\"], [0.6666666666666666, \"#ed7953\"], [0.7777777777777778, \"#fb9f3a\"], [0.8888888888888888, \"#fdca26\"], [1.0, \"#f0f921\"]], \"type\": \"surface\"}], \"table\": [{\"cells\": {\"fill\": {\"color\": \"#EBF0F8\"}, \"line\": {\"color\": \"white\"}}, \"header\": {\"fill\": {\"color\": \"#C8D4E3\"}, \"line\": {\"color\": \"white\"}}, \"type\": \"table\"}]}, \"layout\": {\"annotationdefaults\": {\"arrowcolor\": \"#2a3f5f\", \"arrowhead\": 0, \"arrowwidth\": 1}, \"coloraxis\": {\"colorbar\": {\"outlinewidth\": 0, \"ticks\": \"\"}}, \"colorscale\": {\"diverging\": [[0, \"#8e0152\"], [0.1, \"#c51b7d\"], [0.2, \"#de77ae\"], [0.3, \"#f1b6da\"], [0.4, \"#fde0ef\"], [0.5, \"#f7f7f7\"], [0.6, \"#e6f5d0\"], [0.7, \"#b8e186\"], [0.8, \"#7fbc41\"], [0.9, \"#4d9221\"], [1, \"#276419\"]], \"sequential\": [[0.0, \"#0d0887\"], [0.1111111111111111, \"#46039f\"], [0.2222222222222222, \"#7201a8\"], [0.3333333333333333, \"#9c179e\"], [0.4444444444444444, \"#bd3786\"], [0.5555555555555556, \"#d8576b\"], [0.6666666666666666, \"#ed7953\"], [0.7777777777777778, \"#fb9f3a\"], [0.8888888888888888, \"#fdca26\"], [1.0, \"#f0f921\"]], \"sequentialminus\": [[0.0, \"#0d0887\"], [0.1111111111111111, \"#46039f\"], [0.2222222222222222, \"#7201a8\"], [0.3333333333333333, \"#9c179e\"], [0.4444444444444444, \"#bd3786\"], [0.5555555555555556, \"#d8576b\"], [0.6666666666666666, \"#ed7953\"], [0.7777777777777778, \"#fb9f3a\"], [0.8888888888888888, \"#fdca26\"], [1.0, \"#f0f921\"]]}, \"colorway\": [\"#636efa\", \"#EF553B\", \"#00cc96\", \"#ab63fa\", \"#FFA15A\", \"#19d3f3\", \"#FF6692\", \"#B6E880\", \"#FF97FF\", \"#FECB52\"], \"font\": {\"color\": \"#2a3f5f\"}, \"geo\": {\"bgcolor\": \"white\", \"lakecolor\": \"white\", \"landcolor\": \"#E5ECF6\", \"showlakes\": true, \"showland\": true, \"subunitcolor\": \"white\"}, \"hoverlabel\": {\"align\": \"left\"}, \"hovermode\": \"closest\", \"mapbox\": {\"style\": \"light\"}, \"paper_bgcolor\": \"white\", \"plot_bgcolor\": \"#E5ECF6\", \"polar\": {\"angularaxis\": {\"gridcolor\": \"white\", \"linecolor\": \"white\", \"ticks\": \"\"}, \"bgcolor\": \"#E5ECF6\", \"radialaxis\": {\"gridcolor\": \"white\", \"linecolor\": \"white\", \"ticks\": \"\"}}, \"scene\": {\"xaxis\": {\"backgroundcolor\": \"#E5ECF6\", \"gridcolor\": \"white\", \"gridwidth\": 2, \"linecolor\": \"white\", \"showbackground\": true, \"ticks\": \"\", \"zerolinecolor\": \"white\"}, \"yaxis\": {\"backgroundcolor\": \"#E5ECF6\", \"gridcolor\": \"white\", \"gridwidth\": 2, \"linecolor\": \"white\", \"showbackground\": true, \"ticks\": \"\", \"zerolinecolor\": \"white\"}, \"zaxis\": {\"backgroundcolor\": \"#E5ECF6\", \"gridcolor\": \"white\", \"gridwidth\": 2, \"linecolor\": \"white\", \"showbackground\": true, \"ticks\": \"\", \"zerolinecolor\": \"white\"}}, \"shapedefaults\": {\"line\": {\"color\": \"#2a3f5f\"}}, \"ternary\": {\"aaxis\": {\"gridcolor\": \"white\", \"linecolor\": \"white\", \"ticks\": \"\"}, \"baxis\": {\"gridcolor\": \"white\", \"linecolor\": \"white\", \"ticks\": \"\"}, \"bgcolor\": \"#E5ECF6\", \"caxis\": {\"gridcolor\": \"white\", \"linecolor\": \"white\", \"ticks\": \"\"}}, \"title\": {\"x\": 0.05}, \"xaxis\": {\"automargin\": true, \"gridcolor\": \"white\", \"linecolor\": \"white\", \"ticks\": \"\", \"title\": {\"standoff\": 15}, \"zerolinecolor\": \"white\", \"zerolinewidth\": 2}, \"yaxis\": {\"automargin\": true, \"gridcolor\": \"white\", \"linecolor\": \"white\", \"ticks\": \"\", \"title\": {\"standoff\": 15}, \"zerolinecolor\": \"white\", \"zerolinewidth\": 2}}}},\n",
              "                        {\"responsive\": true}\n",
              "                    ).then(function(){\n",
              "                            \n",
              "var gd = document.getElementById('732758d1-f3d8-4929-a9da-6f5e2030f0cc');\n",
              "var x = new MutationObserver(function (mutations, observer) {{\n",
              "        var display = window.getComputedStyle(gd).display;\n",
              "        if (!display || display === 'none') {{\n",
              "            console.log([gd, 'removed!']);\n",
              "            Plotly.purge(gd);\n",
              "            observer.disconnect();\n",
              "        }}\n",
              "}});\n",
              "\n",
              "// Listen for the removal of the full notebook cells\n",
              "var notebookContainer = gd.closest('#notebook-container');\n",
              "if (notebookContainer) {{\n",
              "    x.observe(notebookContainer, {childList: true});\n",
              "}}\n",
              "\n",
              "// Listen for the clearing of the current output cell\n",
              "var outputEl = gd.closest('.output');\n",
              "if (outputEl) {{\n",
              "    x.observe(outputEl, {childList: true});\n",
              "}}\n",
              "\n",
              "                        })\n",
              "                };\n",
              "                \n",
              "            </script>\n",
              "        </div>\n",
              "</body>\n",
              "</html>"
            ]
          },
          "metadata": {
            "tags": []
          }
        }
      ]
    },
    {
      "cell_type": "markdown",
      "metadata": {
        "id": "c48eqHYyoup8"
      },
      "source": [
        "For Rating"
      ]
    },
    {
      "cell_type": "code",
      "metadata": {
        "colab": {
          "base_uri": "https://localhost:8080/"
        },
        "id": "D38yImEcm22B",
        "outputId": "05ad6ec8-94c4-415e-a3de-8e67b7586b7e"
      },
      "source": [
        "df['Rating'].unique()\n"
      ],
      "execution_count": 78,
      "outputs": [
        {
          "output_type": "execute_result",
          "data": {
            "text/plain": [
              "array([6.32632300e+06, 1.69204000e+05, 1.75172040e+07, 2.27747115e+09,\n",
              "       6.22414000e+05, 3.52650000e+06, 6.43051000e+05, 1.20321032e+09,\n",
              "       8.29187000e+05, 1.82961000e+05, 1.29186000e+05, 1.33894200e+06,\n",
              "       1.23130000e+04, 1.24255520e+07, 5.01174111e+09,            nan,\n",
              "       4.23535300e+06, 7.21030422e+14, 2.24764000e+05, 1.03973113e+18,\n",
              "       1.45810622e+09, 9.20084012e+12, 2.11427036e+08, 2.21490500e+07,\n",
              "       5.51585440e+07, 3.77471762e+08, 5.26180000e+04, 3.22141822e+10,\n",
              "       1.33423540e+07, 1.10402000e+05, 1.23513500e+07, 2.73747176e+09,\n",
              "       2.11378518e+08, 4.17747176e+09, 1.11662240e+08, 2.29761540e+07,\n",
              "       1.76572000e+06, 6.12433210e+08, 2.32417241e+08])"
            ]
          },
          "metadata": {
            "tags": []
          },
          "execution_count": 78
        }
      ]
    },
    {
      "cell_type": "code",
      "metadata": {
        "colab": {
          "base_uri": "https://localhost:8080/"
        },
        "id": "u1iu_nbgpM69",
        "outputId": "bddfc635-e3b6-402e-8f9f-a55b7f74bfdc"
      },
      "source": [
        "df['Rating'].isna().sum()"
      ],
      "execution_count": 79,
      "outputs": [
        {
          "output_type": "execute_result",
          "data": {
            "text/plain": [
              "217"
            ]
          },
          "metadata": {
            "tags": []
          },
          "execution_count": 79
        }
      ]
    },
    {
      "cell_type": "code",
      "metadata": {
        "colab": {
          "base_uri": "https://localhost:8080/"
        },
        "id": "ItRwMLXZpM4F",
        "outputId": "ece2759e-4d57-4fa1-a314-9b63dd9cd753"
      },
      "source": [
        "get_mean(df['Rating'])"
      ],
      "execution_count": 80,
      "outputs": [
        {
          "output_type": "stream",
          "text": [
            "mean value : 2.6011535367252904e+16\n",
            "mean value filled in place of nan  0      6.326323e+06\n",
            "1      1.692040e+05\n",
            "2      1.751720e+07\n",
            "3      2.277471e+09\n",
            "4      6.224140e+05\n",
            "           ...     \n",
            "252    2.601154e+16\n",
            "253    2.601154e+16\n",
            "254    2.601154e+16\n",
            "255    2.601154e+16\n",
            "256    2.601154e+16\n",
            "Name: Rating, Length: 257, dtype: float64\n"
          ],
          "name": "stdout"
        }
      ]
    },
    {
      "cell_type": "code",
      "metadata": {
        "colab": {
          "base_uri": "https://localhost:8080/",
          "height": 542
        },
        "id": "z9zaB7XTo1zE",
        "outputId": "1ed7024b-ac30-47c0-93ef-635b555ca809"
      },
      "source": [
        "feature_show(df['Rating'])"
      ],
      "execution_count": 81,
      "outputs": [
        {
          "output_type": "display_data",
          "data": {
            "text/html": [
              "<html>\n",
              "<head><meta charset=\"utf-8\" /></head>\n",
              "<body>\n",
              "    <div>\n",
              "            <script src=\"https://cdnjs.cloudflare.com/ajax/libs/mathjax/2.7.5/MathJax.js?config=TeX-AMS-MML_SVG\"></script><script type=\"text/javascript\">if (window.MathJax) {MathJax.Hub.Config({SVG: {font: \"STIX-Web\"}});}</script>\n",
              "                <script type=\"text/javascript\">window.PlotlyConfig = {MathJaxConfig: 'local'};</script>\n",
              "        <script src=\"https://cdn.plot.ly/plotly-latest.min.js\"></script>    \n",
              "            <div id=\"44557e57-b91b-42f6-945d-ac5700e99fbc\" class=\"plotly-graph-div\" style=\"height:525px; width:100%;\"></div>\n",
              "            <script type=\"text/javascript\">\n",
              "                \n",
              "                    window.PLOTLYENV=window.PLOTLYENV || {};\n",
              "                    \n",
              "                if (document.getElementById(\"44557e57-b91b-42f6-945d-ac5700e99fbc\")) {\n",
              "                    Plotly.newPlot(\n",
              "                        '44557e57-b91b-42f6-945d-ac5700e99fbc',\n",
              "                        [{\"type\": \"bar\", \"y\": [6326323.0, 169204.0, 17517204.0, 2277471146.0, 622414.0, 3526500.0, 643051.0, 1203210320.0, 829187.0, 182961.0, 129186.0, 1338942.0, 12313.0, 12425552.0, 5011741108.0, 2.6011535367252904e+16, 2.6011535367252904e+16, 2.6011535367252904e+16, 2.6011535367252904e+16, 2.6011535367252904e+16, 2.6011535367252904e+16, 2.6011535367252904e+16, 2.6011535367252904e+16, 2.6011535367252904e+16, 2.6011535367252904e+16, 2.6011535367252904e+16, 2.6011535367252904e+16, 2.6011535367252904e+16, 2.6011535367252904e+16, 2.6011535367252904e+16, 2.6011535367252904e+16, 2.6011535367252904e+16, 2.6011535367252904e+16, 2.6011535367252904e+16, 2.6011535367252904e+16, 2.6011535367252904e+16, 2.6011535367252904e+16, 2.6011535367252904e+16, 2.6011535367252904e+16, 2.6011535367252904e+16, 2.6011535367252904e+16, 2.6011535367252904e+16, 2.6011535367252904e+16, 2.6011535367252904e+16, 2.6011535367252904e+16, 2.6011535367252904e+16, 2.6011535367252904e+16, 2.6011535367252904e+16, 2.6011535367252904e+16, 2.6011535367252904e+16, 2.6011535367252904e+16, 2.6011535367252904e+16, 2.6011535367252904e+16, 2.6011535367252904e+16, 2.6011535367252904e+16, 2.6011535367252904e+16, 2.6011535367252904e+16, 2.6011535367252904e+16, 2.6011535367252904e+16, 2.6011535367252904e+16, 2.6011535367252904e+16, 2.6011535367252904e+16, 2.6011535367252904e+16, 4235353.0, 721030422003001.0, 224764.0, 1.039731132403001e+18, 1458106219.0, 9200840116710.0, 211427036.0, 2.6011535367252904e+16, 2.6011535367252904e+16, 2.6011535367252904e+16, 2.6011535367252904e+16, 2.6011535367252904e+16, 2.6011535367252904e+16, 2.6011535367252904e+16, 2.6011535367252904e+16, 2.6011535367252904e+16, 2.6011535367252904e+16, 2.6011535367252904e+16, 2.6011535367252904e+16, 2.6011535367252904e+16, 2.6011535367252904e+16, 2.6011535367252904e+16, 2.6011535367252904e+16, 2.6011535367252904e+16, 2.6011535367252904e+16, 2.6011535367252904e+16, 2.6011535367252904e+16, 2.6011535367252904e+16, 2.6011535367252904e+16, 2.6011535367252904e+16, 2.6011535367252904e+16, 2.6011535367252904e+16, 2.6011535367252904e+16, 2.6011535367252904e+16, 2.6011535367252904e+16, 2.6011535367252904e+16, 2.6011535367252904e+16, 2.6011535367252904e+16, 2.6011535367252904e+16, 2.6011535367252904e+16, 2.6011535367252904e+16, 2.6011535367252904e+16, 2.6011535367252904e+16, 2.6011535367252904e+16, 2.6011535367252904e+16, 2.6011535367252904e+16, 2.6011535367252904e+16, 2.6011535367252904e+16, 2.6011535367252904e+16, 2.6011535367252904e+16, 2.6011535367252904e+16, 2.6011535367252904e+16, 2.6011535367252904e+16, 2.6011535367252904e+16, 2.6011535367252904e+16, 2.6011535367252904e+16, 2.6011535367252904e+16, 2.6011535367252904e+16, 2.6011535367252904e+16, 2.6011535367252904e+16, 2.6011535367252904e+16, 2.6011535367252904e+16, 2.6011535367252904e+16, 2.6011535367252904e+16, 2.6011535367252904e+16, 2.6011535367252904e+16, 22149050.0, 55158544.0, 377471762.0, 52618.0, 32214182206.0, 13342354.0, 110402.0, 12351350.0, 2.6011535367252904e+16, 2.6011535367252904e+16, 2.6011535367252904e+16, 2.6011535367252904e+16, 2.6011535367252904e+16, 2.6011535367252904e+16, 2.6011535367252904e+16, 2.6011535367252904e+16, 2.6011535367252904e+16, 2.6011535367252904e+16, 2.6011535367252904e+16, 2.6011535367252904e+16, 2.6011535367252904e+16, 2.6011535367252904e+16, 2.6011535367252904e+16, 2.6011535367252904e+16, 2.6011535367252904e+16, 2.6011535367252904e+16, 2.6011535367252904e+16, 2.6011535367252904e+16, 2.6011535367252904e+16, 2.6011535367252904e+16, 2.6011535367252904e+16, 2.6011535367252904e+16, 2.6011535367252904e+16, 2.6011535367252904e+16, 2.6011535367252904e+16, 2.6011535367252904e+16, 2.6011535367252904e+16, 2.6011535367252904e+16, 2.6011535367252904e+16, 2.6011535367252904e+16, 2.6011535367252904e+16, 2.6011535367252904e+16, 2.6011535367252904e+16, 2.6011535367252904e+16, 2.6011535367252904e+16, 2.6011535367252904e+16, 2.6011535367252904e+16, 2.6011535367252904e+16, 2.6011535367252904e+16, 2.6011535367252904e+16, 2.6011535367252904e+16, 2.6011535367252904e+16, 2.6011535367252904e+16, 2.6011535367252904e+16, 2.6011535367252904e+16, 2.6011535367252904e+16, 2.6011535367252904e+16, 2.6011535367252904e+16, 2.6011535367252904e+16, 2.6011535367252904e+16, 2.6011535367252904e+16, 2.6011535367252904e+16, 2.6011535367252904e+16, 2.6011535367252904e+16, 2737471763.0, 211378518.0, 110402.0, 4177471760.0, 12351350.0, 111662240.0, 22976154.0, 1765720.0, 612433210.0, 232417241.0, 2.6011535367252904e+16, 2.6011535367252904e+16, 2.6011535367252904e+16, 2.6011535367252904e+16, 2.6011535367252904e+16, 2.6011535367252904e+16, 2.6011535367252904e+16, 2.6011535367252904e+16, 2.6011535367252904e+16, 2.6011535367252904e+16, 2.6011535367252904e+16, 2.6011535367252904e+16, 2.6011535367252904e+16, 2.6011535367252904e+16, 2.6011535367252904e+16, 2.6011535367252904e+16, 2.6011535367252904e+16, 2.6011535367252904e+16, 2.6011535367252904e+16, 2.6011535367252904e+16, 2.6011535367252904e+16, 2.6011535367252904e+16, 2.6011535367252904e+16, 2.6011535367252904e+16, 2.6011535367252904e+16, 2.6011535367252904e+16, 2.6011535367252904e+16, 2.6011535367252904e+16, 2.6011535367252904e+16, 2.6011535367252904e+16, 2.6011535367252904e+16, 2.6011535367252904e+16, 2.6011535367252904e+16, 2.6011535367252904e+16, 2.6011535367252904e+16, 2.6011535367252904e+16, 2.6011535367252904e+16, 2.6011535367252904e+16, 2.6011535367252904e+16, 2.6011535367252904e+16, 2.6011535367252904e+16, 2.6011535367252904e+16, 2.6011535367252904e+16, 2.6011535367252904e+16, 2.6011535367252904e+16, 2.6011535367252904e+16, 2.6011535367252904e+16, 2.6011535367252904e+16, 2.6011535367252904e+16, 2.6011535367252904e+16, 2.6011535367252904e+16, 2.6011535367252904e+16, 2.6011535367252904e+16, 2.6011535367252904e+16]}],\n",
              "                        {\"template\": {\"data\": {\"bar\": [{\"error_x\": {\"color\": \"#2a3f5f\"}, \"error_y\": {\"color\": \"#2a3f5f\"}, \"marker\": {\"line\": {\"color\": \"#E5ECF6\", \"width\": 0.5}}, \"type\": \"bar\"}], \"barpolar\": [{\"marker\": {\"line\": {\"color\": \"#E5ECF6\", \"width\": 0.5}}, \"type\": \"barpolar\"}], \"carpet\": [{\"aaxis\": {\"endlinecolor\": \"#2a3f5f\", \"gridcolor\": \"white\", \"linecolor\": \"white\", \"minorgridcolor\": \"white\", \"startlinecolor\": \"#2a3f5f\"}, \"baxis\": {\"endlinecolor\": \"#2a3f5f\", \"gridcolor\": \"white\", \"linecolor\": \"white\", \"minorgridcolor\": \"white\", \"startlinecolor\": \"#2a3f5f\"}, \"type\": \"carpet\"}], \"choropleth\": [{\"colorbar\": {\"outlinewidth\": 0, \"ticks\": \"\"}, \"type\": \"choropleth\"}], \"contour\": [{\"colorbar\": {\"outlinewidth\": 0, \"ticks\": \"\"}, \"colorscale\": [[0.0, \"#0d0887\"], [0.1111111111111111, \"#46039f\"], [0.2222222222222222, \"#7201a8\"], [0.3333333333333333, \"#9c179e\"], [0.4444444444444444, \"#bd3786\"], [0.5555555555555556, \"#d8576b\"], [0.6666666666666666, \"#ed7953\"], [0.7777777777777778, \"#fb9f3a\"], [0.8888888888888888, \"#fdca26\"], [1.0, \"#f0f921\"]], \"type\": \"contour\"}], \"contourcarpet\": [{\"colorbar\": {\"outlinewidth\": 0, \"ticks\": \"\"}, \"type\": \"contourcarpet\"}], \"heatmap\": [{\"colorbar\": {\"outlinewidth\": 0, \"ticks\": \"\"}, \"colorscale\": [[0.0, \"#0d0887\"], [0.1111111111111111, \"#46039f\"], [0.2222222222222222, \"#7201a8\"], [0.3333333333333333, \"#9c179e\"], [0.4444444444444444, \"#bd3786\"], [0.5555555555555556, \"#d8576b\"], [0.6666666666666666, \"#ed7953\"], [0.7777777777777778, \"#fb9f3a\"], [0.8888888888888888, \"#fdca26\"], [1.0, \"#f0f921\"]], \"type\": \"heatmap\"}], \"heatmapgl\": [{\"colorbar\": {\"outlinewidth\": 0, \"ticks\": \"\"}, \"colorscale\": [[0.0, \"#0d0887\"], [0.1111111111111111, \"#46039f\"], [0.2222222222222222, \"#7201a8\"], [0.3333333333333333, \"#9c179e\"], [0.4444444444444444, \"#bd3786\"], [0.5555555555555556, \"#d8576b\"], [0.6666666666666666, \"#ed7953\"], [0.7777777777777778, \"#fb9f3a\"], [0.8888888888888888, \"#fdca26\"], [1.0, \"#f0f921\"]], \"type\": \"heatmapgl\"}], \"histogram\": [{\"marker\": {\"colorbar\": {\"outlinewidth\": 0, \"ticks\": \"\"}}, \"type\": \"histogram\"}], \"histogram2d\": [{\"colorbar\": {\"outlinewidth\": 0, \"ticks\": \"\"}, \"colorscale\": [[0.0, \"#0d0887\"], [0.1111111111111111, \"#46039f\"], [0.2222222222222222, \"#7201a8\"], [0.3333333333333333, \"#9c179e\"], [0.4444444444444444, \"#bd3786\"], [0.5555555555555556, \"#d8576b\"], [0.6666666666666666, \"#ed7953\"], [0.7777777777777778, \"#fb9f3a\"], [0.8888888888888888, \"#fdca26\"], [1.0, \"#f0f921\"]], \"type\": \"histogram2d\"}], \"histogram2dcontour\": [{\"colorbar\": {\"outlinewidth\": 0, \"ticks\": \"\"}, \"colorscale\": [[0.0, \"#0d0887\"], [0.1111111111111111, \"#46039f\"], [0.2222222222222222, \"#7201a8\"], [0.3333333333333333, \"#9c179e\"], [0.4444444444444444, \"#bd3786\"], [0.5555555555555556, \"#d8576b\"], [0.6666666666666666, \"#ed7953\"], [0.7777777777777778, \"#fb9f3a\"], [0.8888888888888888, \"#fdca26\"], [1.0, \"#f0f921\"]], \"type\": \"histogram2dcontour\"}], \"mesh3d\": [{\"colorbar\": {\"outlinewidth\": 0, \"ticks\": \"\"}, \"type\": \"mesh3d\"}], \"parcoords\": [{\"line\": {\"colorbar\": {\"outlinewidth\": 0, \"ticks\": \"\"}}, \"type\": \"parcoords\"}], \"pie\": [{\"automargin\": true, \"type\": \"pie\"}], \"scatter\": [{\"marker\": {\"colorbar\": {\"outlinewidth\": 0, \"ticks\": \"\"}}, \"type\": \"scatter\"}], \"scatter3d\": [{\"line\": {\"colorbar\": {\"outlinewidth\": 0, \"ticks\": \"\"}}, \"marker\": {\"colorbar\": {\"outlinewidth\": 0, \"ticks\": \"\"}}, \"type\": \"scatter3d\"}], \"scattercarpet\": [{\"marker\": {\"colorbar\": {\"outlinewidth\": 0, \"ticks\": \"\"}}, \"type\": \"scattercarpet\"}], \"scattergeo\": [{\"marker\": {\"colorbar\": {\"outlinewidth\": 0, \"ticks\": \"\"}}, \"type\": \"scattergeo\"}], \"scattergl\": [{\"marker\": {\"colorbar\": {\"outlinewidth\": 0, \"ticks\": \"\"}}, \"type\": \"scattergl\"}], \"scattermapbox\": [{\"marker\": {\"colorbar\": {\"outlinewidth\": 0, \"ticks\": \"\"}}, \"type\": \"scattermapbox\"}], \"scatterpolar\": [{\"marker\": {\"colorbar\": {\"outlinewidth\": 0, \"ticks\": \"\"}}, \"type\": \"scatterpolar\"}], \"scatterpolargl\": [{\"marker\": {\"colorbar\": {\"outlinewidth\": 0, \"ticks\": \"\"}}, \"type\": \"scatterpolargl\"}], \"scatterternary\": [{\"marker\": {\"colorbar\": {\"outlinewidth\": 0, \"ticks\": \"\"}}, \"type\": \"scatterternary\"}], \"surface\": [{\"colorbar\": {\"outlinewidth\": 0, \"ticks\": \"\"}, \"colorscale\": [[0.0, \"#0d0887\"], [0.1111111111111111, \"#46039f\"], [0.2222222222222222, \"#7201a8\"], [0.3333333333333333, \"#9c179e\"], [0.4444444444444444, \"#bd3786\"], [0.5555555555555556, \"#d8576b\"], [0.6666666666666666, \"#ed7953\"], [0.7777777777777778, \"#fb9f3a\"], [0.8888888888888888, \"#fdca26\"], [1.0, \"#f0f921\"]], \"type\": \"surface\"}], \"table\": [{\"cells\": {\"fill\": {\"color\": \"#EBF0F8\"}, \"line\": {\"color\": \"white\"}}, \"header\": {\"fill\": {\"color\": \"#C8D4E3\"}, \"line\": {\"color\": \"white\"}}, \"type\": \"table\"}]}, \"layout\": {\"annotationdefaults\": {\"arrowcolor\": \"#2a3f5f\", \"arrowhead\": 0, \"arrowwidth\": 1}, \"coloraxis\": {\"colorbar\": {\"outlinewidth\": 0, \"ticks\": \"\"}}, \"colorscale\": {\"diverging\": [[0, \"#8e0152\"], [0.1, \"#c51b7d\"], [0.2, \"#de77ae\"], [0.3, \"#f1b6da\"], [0.4, \"#fde0ef\"], [0.5, \"#f7f7f7\"], [0.6, \"#e6f5d0\"], [0.7, \"#b8e186\"], [0.8, \"#7fbc41\"], [0.9, \"#4d9221\"], [1, \"#276419\"]], \"sequential\": [[0.0, \"#0d0887\"], [0.1111111111111111, \"#46039f\"], [0.2222222222222222, \"#7201a8\"], [0.3333333333333333, \"#9c179e\"], [0.4444444444444444, \"#bd3786\"], [0.5555555555555556, \"#d8576b\"], [0.6666666666666666, \"#ed7953\"], [0.7777777777777778, \"#fb9f3a\"], [0.8888888888888888, \"#fdca26\"], [1.0, \"#f0f921\"]], \"sequentialminus\": [[0.0, \"#0d0887\"], [0.1111111111111111, \"#46039f\"], [0.2222222222222222, \"#7201a8\"], [0.3333333333333333, \"#9c179e\"], [0.4444444444444444, \"#bd3786\"], [0.5555555555555556, \"#d8576b\"], [0.6666666666666666, \"#ed7953\"], [0.7777777777777778, \"#fb9f3a\"], [0.8888888888888888, \"#fdca26\"], [1.0, \"#f0f921\"]]}, \"colorway\": [\"#636efa\", \"#EF553B\", \"#00cc96\", \"#ab63fa\", \"#FFA15A\", \"#19d3f3\", \"#FF6692\", \"#B6E880\", \"#FF97FF\", \"#FECB52\"], \"font\": {\"color\": \"#2a3f5f\"}, \"geo\": {\"bgcolor\": \"white\", \"lakecolor\": \"white\", \"landcolor\": \"#E5ECF6\", \"showlakes\": true, \"showland\": true, \"subunitcolor\": \"white\"}, \"hoverlabel\": {\"align\": \"left\"}, \"hovermode\": \"closest\", \"mapbox\": {\"style\": \"light\"}, \"paper_bgcolor\": \"white\", \"plot_bgcolor\": \"#E5ECF6\", \"polar\": {\"angularaxis\": {\"gridcolor\": \"white\", \"linecolor\": \"white\", \"ticks\": \"\"}, \"bgcolor\": \"#E5ECF6\", \"radialaxis\": {\"gridcolor\": \"white\", \"linecolor\": \"white\", \"ticks\": \"\"}}, \"scene\": {\"xaxis\": {\"backgroundcolor\": \"#E5ECF6\", \"gridcolor\": \"white\", \"gridwidth\": 2, \"linecolor\": \"white\", \"showbackground\": true, \"ticks\": \"\", \"zerolinecolor\": \"white\"}, \"yaxis\": {\"backgroundcolor\": \"#E5ECF6\", \"gridcolor\": \"white\", \"gridwidth\": 2, \"linecolor\": \"white\", \"showbackground\": true, \"ticks\": \"\", \"zerolinecolor\": \"white\"}, \"zaxis\": {\"backgroundcolor\": \"#E5ECF6\", \"gridcolor\": \"white\", \"gridwidth\": 2, \"linecolor\": \"white\", \"showbackground\": true, \"ticks\": \"\", \"zerolinecolor\": \"white\"}}, \"shapedefaults\": {\"line\": {\"color\": \"#2a3f5f\"}}, \"ternary\": {\"aaxis\": {\"gridcolor\": \"white\", \"linecolor\": \"white\", \"ticks\": \"\"}, \"baxis\": {\"gridcolor\": \"white\", \"linecolor\": \"white\", \"ticks\": \"\"}, \"bgcolor\": \"#E5ECF6\", \"caxis\": {\"gridcolor\": \"white\", \"linecolor\": \"white\", \"ticks\": \"\"}}, \"title\": {\"x\": 0.05}, \"xaxis\": {\"automargin\": true, \"gridcolor\": \"white\", \"linecolor\": \"white\", \"ticks\": \"\", \"title\": {\"standoff\": 15}, \"zerolinecolor\": \"white\", \"zerolinewidth\": 2}, \"yaxis\": {\"automargin\": true, \"gridcolor\": \"white\", \"linecolor\": \"white\", \"ticks\": \"\", \"title\": {\"standoff\": 15}, \"zerolinecolor\": \"white\", \"zerolinewidth\": 2}}}},\n",
              "                        {\"responsive\": true}\n",
              "                    ).then(function(){\n",
              "                            \n",
              "var gd = document.getElementById('44557e57-b91b-42f6-945d-ac5700e99fbc');\n",
              "var x = new MutationObserver(function (mutations, observer) {{\n",
              "        var display = window.getComputedStyle(gd).display;\n",
              "        if (!display || display === 'none') {{\n",
              "            console.log([gd, 'removed!']);\n",
              "            Plotly.purge(gd);\n",
              "            observer.disconnect();\n",
              "        }}\n",
              "}});\n",
              "\n",
              "// Listen for the removal of the full notebook cells\n",
              "var notebookContainer = gd.closest('#notebook-container');\n",
              "if (notebookContainer) {{\n",
              "    x.observe(notebookContainer, {childList: true});\n",
              "}}\n",
              "\n",
              "// Listen for the clearing of the current output cell\n",
              "var outputEl = gd.closest('.output');\n",
              "if (outputEl) {{\n",
              "    x.observe(outputEl, {childList: true});\n",
              "}}\n",
              "\n",
              "                        })\n",
              "                };\n",
              "                \n",
              "            </script>\n",
              "        </div>\n",
              "</body>\n",
              "</html>"
            ]
          },
          "metadata": {
            "tags": []
          }
        }
      ]
    },
    {
      "cell_type": "markdown",
      "metadata": {
        "id": "tkXJOZrdpf8H"
      },
      "source": [
        "For Sold"
      ]
    },
    {
      "cell_type": "code",
      "metadata": {
        "colab": {
          "base_uri": "https://localhost:8080/"
        },
        "id": "98Ap5cw8pZLP",
        "outputId": "70fa8884-3002-4b29-f627-545dc7997e25"
      },
      "source": [
        "df['Sold'].isna().sum()"
      ],
      "execution_count": 82,
      "outputs": [
        {
          "output_type": "execute_result",
          "data": {
            "text/plain": [
              "211"
            ]
          },
          "metadata": {
            "tags": []
          },
          "execution_count": 82
        }
      ]
    },
    {
      "cell_type": "code",
      "metadata": {
        "colab": {
          "base_uri": "https://localhost:8080/"
        },
        "id": "n2ZK9uiMppfr",
        "outputId": "69d51624-663a-4bd5-d877-b96607e0245a"
      },
      "source": [
        "df['Sold'].unique()"
      ],
      "execution_count": 83,
      "outputs": [
        {
          "output_type": "execute_result",
          "data": {
            "text/plain": [
              "array([ 135.,  134., 3544.,  621.,  617.,   88.,  188.,  168.,   52.,\n",
              "        136.,   10.,   25.,   46.,   41., 1255.,  105.,   42.,   62.,\n",
              "         nan,   24.,   22.,  124.,   28.,   18.,   26.,  108.,   31.,\n",
              "         29.,  112.,   12.,    4.,   27.,   16.,   15.,  368.,    5.,\n",
              "        647.])"
            ]
          },
          "metadata": {
            "tags": []
          },
          "execution_count": 83
        }
      ]
    },
    {
      "cell_type": "code",
      "metadata": {
        "colab": {
          "base_uri": "https://localhost:8080/"
        },
        "id": "hd7mA3eaprmC",
        "outputId": "e821b077-c3a2-4901-d947-713de87fe15f"
      },
      "source": [
        "get_mean(df['Sold'])"
      ],
      "execution_count": 84,
      "outputs": [
        {
          "output_type": "stream",
          "text": [
            "mean value : 197.08695652173913\n",
            "mean value filled in place of nan  0       135.000000\n",
            "1       134.000000\n",
            "2      3544.000000\n",
            "3       621.000000\n",
            "4       617.000000\n",
            "          ...     \n",
            "252     197.086957\n",
            "253     197.086957\n",
            "254     197.086957\n",
            "255     197.086957\n",
            "256     197.086957\n",
            "Name: Sold, Length: 257, dtype: float64\n"
          ],
          "name": "stdout"
        }
      ]
    },
    {
      "cell_type": "code",
      "metadata": {
        "id": "ri4gUPLPpwPh"
      },
      "source": [
        "df['Sold'] = df['Sold'].astype(int)"
      ],
      "execution_count": 85,
      "outputs": []
    },
    {
      "cell_type": "code",
      "metadata": {
        "colab": {
          "base_uri": "https://localhost:8080/",
          "height": 542
        },
        "id": "6ylek1gjp0Cb",
        "outputId": "4326ccef-0faf-4660-f272-2764c8050463"
      },
      "source": [
        "feature_show(df['Sold'])"
      ],
      "execution_count": 86,
      "outputs": [
        {
          "output_type": "display_data",
          "data": {
            "text/html": [
              "<html>\n",
              "<head><meta charset=\"utf-8\" /></head>\n",
              "<body>\n",
              "    <div>\n",
              "            <script src=\"https://cdnjs.cloudflare.com/ajax/libs/mathjax/2.7.5/MathJax.js?config=TeX-AMS-MML_SVG\"></script><script type=\"text/javascript\">if (window.MathJax) {MathJax.Hub.Config({SVG: {font: \"STIX-Web\"}});}</script>\n",
              "                <script type=\"text/javascript\">window.PlotlyConfig = {MathJaxConfig: 'local'};</script>\n",
              "        <script src=\"https://cdn.plot.ly/plotly-latest.min.js\"></script>    \n",
              "            <div id=\"7af88b94-ae4d-4c57-a854-3b5f7ceb9f7f\" class=\"plotly-graph-div\" style=\"height:525px; width:100%;\"></div>\n",
              "            <script type=\"text/javascript\">\n",
              "                \n",
              "                    window.PLOTLYENV=window.PLOTLYENV || {};\n",
              "                    \n",
              "                if (document.getElementById(\"7af88b94-ae4d-4c57-a854-3b5f7ceb9f7f\")) {\n",
              "                    Plotly.newPlot(\n",
              "                        '7af88b94-ae4d-4c57-a854-3b5f7ceb9f7f',\n",
              "                        [{\"type\": \"bar\", \"y\": [135, 134, 3544, 621, 617, 88, 188, 168, 52, 136, 10, 25, 10, 46, 41, 1255, 10, 105, 42, 62, 197, 197, 197, 197, 197, 197, 197, 197, 197, 197, 197, 197, 197, 197, 197, 197, 197, 197, 197, 197, 197, 197, 197, 197, 197, 197, 197, 197, 197, 197, 197, 197, 197, 197, 197, 197, 197, 197, 197, 197, 197, 197, 197, 24, 197, 22, 124, 28, 18, 26, 197, 197, 197, 197, 197, 197, 197, 197, 197, 197, 197, 197, 197, 197, 197, 197, 197, 197, 197, 197, 197, 197, 197, 197, 197, 197, 197, 197, 197, 197, 197, 197, 197, 197, 197, 197, 197, 197, 197, 197, 197, 197, 197, 197, 197, 197, 197, 197, 197, 197, 197, 197, 197, 197, 197, 197, 197, 197, 197, 108, 197, 31, 29, 112, 12, 197, 197, 4, 27, 197, 10, 16, 197, 197, 197, 197, 197, 197, 197, 197, 197, 197, 197, 197, 197, 197, 197, 197, 197, 197, 197, 197, 197, 197, 197, 197, 197, 197, 197, 197, 197, 197, 197, 197, 197, 197, 197, 197, 197, 197, 197, 197, 197, 197, 197, 197, 197, 197, 197, 197, 197, 197, 197, 16, 197, 15, 10, 197, 27, 18, 46, 368, 10, 5, 647, 24, 197, 197, 197, 197, 197, 197, 197, 197, 197, 197, 197, 197, 197, 197, 197, 197, 197, 197, 197, 197, 197, 197, 197, 197, 197, 197, 197, 197, 197, 197, 197, 197, 197, 197, 197, 197, 197, 197, 197, 197, 197, 197, 197, 197, 197, 197, 197, 197, 197, 197, 197]}],\n",
              "                        {\"template\": {\"data\": {\"bar\": [{\"error_x\": {\"color\": \"#2a3f5f\"}, \"error_y\": {\"color\": \"#2a3f5f\"}, \"marker\": {\"line\": {\"color\": \"#E5ECF6\", \"width\": 0.5}}, \"type\": \"bar\"}], \"barpolar\": [{\"marker\": {\"line\": {\"color\": \"#E5ECF6\", \"width\": 0.5}}, \"type\": \"barpolar\"}], \"carpet\": [{\"aaxis\": {\"endlinecolor\": \"#2a3f5f\", \"gridcolor\": \"white\", \"linecolor\": \"white\", \"minorgridcolor\": \"white\", \"startlinecolor\": \"#2a3f5f\"}, \"baxis\": {\"endlinecolor\": \"#2a3f5f\", \"gridcolor\": \"white\", \"linecolor\": \"white\", \"minorgridcolor\": \"white\", \"startlinecolor\": \"#2a3f5f\"}, \"type\": \"carpet\"}], \"choropleth\": [{\"colorbar\": {\"outlinewidth\": 0, \"ticks\": \"\"}, \"type\": \"choropleth\"}], \"contour\": [{\"colorbar\": {\"outlinewidth\": 0, \"ticks\": \"\"}, \"colorscale\": [[0.0, \"#0d0887\"], [0.1111111111111111, \"#46039f\"], [0.2222222222222222, \"#7201a8\"], [0.3333333333333333, \"#9c179e\"], [0.4444444444444444, \"#bd3786\"], [0.5555555555555556, \"#d8576b\"], [0.6666666666666666, \"#ed7953\"], [0.7777777777777778, \"#fb9f3a\"], [0.8888888888888888, \"#fdca26\"], [1.0, \"#f0f921\"]], \"type\": \"contour\"}], \"contourcarpet\": [{\"colorbar\": {\"outlinewidth\": 0, \"ticks\": \"\"}, \"type\": \"contourcarpet\"}], \"heatmap\": [{\"colorbar\": {\"outlinewidth\": 0, \"ticks\": \"\"}, \"colorscale\": [[0.0, \"#0d0887\"], [0.1111111111111111, \"#46039f\"], [0.2222222222222222, \"#7201a8\"], [0.3333333333333333, \"#9c179e\"], [0.4444444444444444, \"#bd3786\"], [0.5555555555555556, \"#d8576b\"], [0.6666666666666666, \"#ed7953\"], [0.7777777777777778, \"#fb9f3a\"], [0.8888888888888888, \"#fdca26\"], [1.0, \"#f0f921\"]], \"type\": \"heatmap\"}], \"heatmapgl\": [{\"colorbar\": {\"outlinewidth\": 0, \"ticks\": \"\"}, \"colorscale\": [[0.0, \"#0d0887\"], [0.1111111111111111, \"#46039f\"], [0.2222222222222222, \"#7201a8\"], [0.3333333333333333, \"#9c179e\"], [0.4444444444444444, \"#bd3786\"], [0.5555555555555556, \"#d8576b\"], [0.6666666666666666, \"#ed7953\"], [0.7777777777777778, \"#fb9f3a\"], [0.8888888888888888, \"#fdca26\"], [1.0, \"#f0f921\"]], \"type\": \"heatmapgl\"}], \"histogram\": [{\"marker\": {\"colorbar\": {\"outlinewidth\": 0, \"ticks\": \"\"}}, \"type\": \"histogram\"}], \"histogram2d\": [{\"colorbar\": {\"outlinewidth\": 0, \"ticks\": \"\"}, \"colorscale\": [[0.0, \"#0d0887\"], [0.1111111111111111, \"#46039f\"], [0.2222222222222222, \"#7201a8\"], [0.3333333333333333, \"#9c179e\"], [0.4444444444444444, \"#bd3786\"], [0.5555555555555556, \"#d8576b\"], [0.6666666666666666, \"#ed7953\"], [0.7777777777777778, \"#fb9f3a\"], [0.8888888888888888, \"#fdca26\"], [1.0, \"#f0f921\"]], \"type\": \"histogram2d\"}], \"histogram2dcontour\": [{\"colorbar\": {\"outlinewidth\": 0, \"ticks\": \"\"}, \"colorscale\": [[0.0, \"#0d0887\"], [0.1111111111111111, \"#46039f\"], [0.2222222222222222, \"#7201a8\"], [0.3333333333333333, \"#9c179e\"], [0.4444444444444444, \"#bd3786\"], [0.5555555555555556, \"#d8576b\"], [0.6666666666666666, \"#ed7953\"], [0.7777777777777778, \"#fb9f3a\"], [0.8888888888888888, \"#fdca26\"], [1.0, \"#f0f921\"]], \"type\": \"histogram2dcontour\"}], \"mesh3d\": [{\"colorbar\": {\"outlinewidth\": 0, \"ticks\": \"\"}, \"type\": \"mesh3d\"}], \"parcoords\": [{\"line\": {\"colorbar\": {\"outlinewidth\": 0, \"ticks\": \"\"}}, \"type\": \"parcoords\"}], \"pie\": [{\"automargin\": true, \"type\": \"pie\"}], \"scatter\": [{\"marker\": {\"colorbar\": {\"outlinewidth\": 0, \"ticks\": \"\"}}, \"type\": \"scatter\"}], \"scatter3d\": [{\"line\": {\"colorbar\": {\"outlinewidth\": 0, \"ticks\": \"\"}}, \"marker\": {\"colorbar\": {\"outlinewidth\": 0, \"ticks\": \"\"}}, \"type\": \"scatter3d\"}], \"scattercarpet\": [{\"marker\": {\"colorbar\": {\"outlinewidth\": 0, \"ticks\": \"\"}}, \"type\": \"scattercarpet\"}], \"scattergeo\": [{\"marker\": {\"colorbar\": {\"outlinewidth\": 0, \"ticks\": \"\"}}, \"type\": \"scattergeo\"}], \"scattergl\": [{\"marker\": {\"colorbar\": {\"outlinewidth\": 0, \"ticks\": \"\"}}, \"type\": \"scattergl\"}], \"scattermapbox\": [{\"marker\": {\"colorbar\": {\"outlinewidth\": 0, \"ticks\": \"\"}}, \"type\": \"scattermapbox\"}], \"scatterpolar\": [{\"marker\": {\"colorbar\": {\"outlinewidth\": 0, \"ticks\": \"\"}}, \"type\": \"scatterpolar\"}], \"scatterpolargl\": [{\"marker\": {\"colorbar\": {\"outlinewidth\": 0, \"ticks\": \"\"}}, \"type\": \"scatterpolargl\"}], \"scatterternary\": [{\"marker\": {\"colorbar\": {\"outlinewidth\": 0, \"ticks\": \"\"}}, \"type\": \"scatterternary\"}], \"surface\": [{\"colorbar\": {\"outlinewidth\": 0, \"ticks\": \"\"}, \"colorscale\": [[0.0, \"#0d0887\"], [0.1111111111111111, \"#46039f\"], [0.2222222222222222, \"#7201a8\"], [0.3333333333333333, \"#9c179e\"], [0.4444444444444444, \"#bd3786\"], [0.5555555555555556, \"#d8576b\"], [0.6666666666666666, \"#ed7953\"], [0.7777777777777778, \"#fb9f3a\"], [0.8888888888888888, \"#fdca26\"], [1.0, \"#f0f921\"]], \"type\": \"surface\"}], \"table\": [{\"cells\": {\"fill\": {\"color\": \"#EBF0F8\"}, \"line\": {\"color\": \"white\"}}, \"header\": {\"fill\": {\"color\": \"#C8D4E3\"}, \"line\": {\"color\": \"white\"}}, \"type\": \"table\"}]}, \"layout\": {\"annotationdefaults\": {\"arrowcolor\": \"#2a3f5f\", \"arrowhead\": 0, \"arrowwidth\": 1}, \"coloraxis\": {\"colorbar\": {\"outlinewidth\": 0, \"ticks\": \"\"}}, \"colorscale\": {\"diverging\": [[0, \"#8e0152\"], [0.1, \"#c51b7d\"], [0.2, \"#de77ae\"], [0.3, \"#f1b6da\"], [0.4, \"#fde0ef\"], [0.5, \"#f7f7f7\"], [0.6, \"#e6f5d0\"], [0.7, \"#b8e186\"], [0.8, \"#7fbc41\"], [0.9, \"#4d9221\"], [1, \"#276419\"]], \"sequential\": [[0.0, \"#0d0887\"], [0.1111111111111111, \"#46039f\"], [0.2222222222222222, \"#7201a8\"], [0.3333333333333333, \"#9c179e\"], [0.4444444444444444, \"#bd3786\"], [0.5555555555555556, \"#d8576b\"], [0.6666666666666666, \"#ed7953\"], [0.7777777777777778, \"#fb9f3a\"], [0.8888888888888888, \"#fdca26\"], [1.0, \"#f0f921\"]], \"sequentialminus\": [[0.0, \"#0d0887\"], [0.1111111111111111, \"#46039f\"], [0.2222222222222222, \"#7201a8\"], [0.3333333333333333, \"#9c179e\"], [0.4444444444444444, \"#bd3786\"], [0.5555555555555556, \"#d8576b\"], [0.6666666666666666, \"#ed7953\"], [0.7777777777777778, \"#fb9f3a\"], [0.8888888888888888, \"#fdca26\"], [1.0, \"#f0f921\"]]}, \"colorway\": [\"#636efa\", \"#EF553B\", \"#00cc96\", \"#ab63fa\", \"#FFA15A\", \"#19d3f3\", \"#FF6692\", \"#B6E880\", \"#FF97FF\", \"#FECB52\"], \"font\": {\"color\": \"#2a3f5f\"}, \"geo\": {\"bgcolor\": \"white\", \"lakecolor\": \"white\", \"landcolor\": \"#E5ECF6\", \"showlakes\": true, \"showland\": true, \"subunitcolor\": \"white\"}, \"hoverlabel\": {\"align\": \"left\"}, \"hovermode\": \"closest\", \"mapbox\": {\"style\": \"light\"}, \"paper_bgcolor\": \"white\", \"plot_bgcolor\": \"#E5ECF6\", \"polar\": {\"angularaxis\": {\"gridcolor\": \"white\", \"linecolor\": \"white\", \"ticks\": \"\"}, \"bgcolor\": \"#E5ECF6\", \"radialaxis\": {\"gridcolor\": \"white\", \"linecolor\": \"white\", \"ticks\": \"\"}}, \"scene\": {\"xaxis\": {\"backgroundcolor\": \"#E5ECF6\", \"gridcolor\": \"white\", \"gridwidth\": 2, \"linecolor\": \"white\", \"showbackground\": true, \"ticks\": \"\", \"zerolinecolor\": \"white\"}, \"yaxis\": {\"backgroundcolor\": \"#E5ECF6\", \"gridcolor\": \"white\", \"gridwidth\": 2, \"linecolor\": \"white\", \"showbackground\": true, \"ticks\": \"\", \"zerolinecolor\": \"white\"}, \"zaxis\": {\"backgroundcolor\": \"#E5ECF6\", \"gridcolor\": \"white\", \"gridwidth\": 2, \"linecolor\": \"white\", \"showbackground\": true, \"ticks\": \"\", \"zerolinecolor\": \"white\"}}, \"shapedefaults\": {\"line\": {\"color\": \"#2a3f5f\"}}, \"ternary\": {\"aaxis\": {\"gridcolor\": \"white\", \"linecolor\": \"white\", \"ticks\": \"\"}, \"baxis\": {\"gridcolor\": \"white\", \"linecolor\": \"white\", \"ticks\": \"\"}, \"bgcolor\": \"#E5ECF6\", \"caxis\": {\"gridcolor\": \"white\", \"linecolor\": \"white\", \"ticks\": \"\"}}, \"title\": {\"x\": 0.05}, \"xaxis\": {\"automargin\": true, \"gridcolor\": \"white\", \"linecolor\": \"white\", \"ticks\": \"\", \"title\": {\"standoff\": 15}, \"zerolinecolor\": \"white\", \"zerolinewidth\": 2}, \"yaxis\": {\"automargin\": true, \"gridcolor\": \"white\", \"linecolor\": \"white\", \"ticks\": \"\", \"title\": {\"standoff\": 15}, \"zerolinecolor\": \"white\", \"zerolinewidth\": 2}}}},\n",
              "                        {\"responsive\": true}\n",
              "                    ).then(function(){\n",
              "                            \n",
              "var gd = document.getElementById('7af88b94-ae4d-4c57-a854-3b5f7ceb9f7f');\n",
              "var x = new MutationObserver(function (mutations, observer) {{\n",
              "        var display = window.getComputedStyle(gd).display;\n",
              "        if (!display || display === 'none') {{\n",
              "            console.log([gd, 'removed!']);\n",
              "            Plotly.purge(gd);\n",
              "            observer.disconnect();\n",
              "        }}\n",
              "}});\n",
              "\n",
              "// Listen for the removal of the full notebook cells\n",
              "var notebookContainer = gd.closest('#notebook-container');\n",
              "if (notebookContainer) {{\n",
              "    x.observe(notebookContainer, {childList: true});\n",
              "}}\n",
              "\n",
              "// Listen for the clearing of the current output cell\n",
              "var outputEl = gd.closest('.output');\n",
              "if (outputEl) {{\n",
              "    x.observe(outputEl, {childList: true});\n",
              "}}\n",
              "\n",
              "                        })\n",
              "                };\n",
              "                \n",
              "            </script>\n",
              "        </div>\n",
              "</body>\n",
              "</html>"
            ]
          },
          "metadata": {
            "tags": []
          }
        }
      ]
    },
    {
      "cell_type": "markdown",
      "metadata": {
        "id": "XYj5uWJQqBA-"
      },
      "source": [
        "For Title"
      ]
    },
    {
      "cell_type": "code",
      "metadata": {
        "colab": {
          "base_uri": "https://localhost:8080/"
        },
        "id": "Hb9UByAOp89_",
        "outputId": "2a0063b3-7621-46ee-9e28-f3e79b87e525"
      },
      "source": [
        "df['Title'].isna().sum()"
      ],
      "execution_count": 87,
      "outputs": [
        {
          "output_type": "execute_result",
          "data": {
            "text/plain": [
              "6"
            ]
          },
          "metadata": {
            "tags": []
          },
          "execution_count": 87
        }
      ]
    },
    {
      "cell_type": "code",
      "metadata": {
        "colab": {
          "base_uri": "https://localhost:8080/"
        },
        "id": "C_VSiRtmqGrt",
        "outputId": "ada6f6a1-f4ec-4cfc-c1ef-de8a0352eb23"
      },
      "source": [
        "df['Title'].unique()"
      ],
      "execution_count": 88,
      "outputs": [
        {
          "output_type": "execute_result",
          "data": {
            "text/plain": [
              "array([nan,\n",
              "       'Mens Dual Time Flywheel Automatic Mechanical Watch Rose Gold White Dial Brown ',\n",
              "       \"Invicta Men's 32632 Specialty Mechanical 3 Hand Black Dial Watch\",\n",
              "       \"Invicta Men's Watch Pro Diver Blue Dial Quartz Dive Silver Tone Bracelet 9204OB\",\n",
              "       \"Invicta Men's Watch Aviator Chronograph Gunmetal Dial Steel Bracelet 17204\",\n",
              "       \"One Hand Luch Mechanical Wristwatch Men's leather Vintage White 77471146 RUS\",\n",
              "       \"Invicta Men's Pro Diver Gold-Tone Quartz Black Dial Stainless Steel Watch 22414\",\n",
              "       \"New ListingRAYMOND WEIL - Swiss Quarts Men's Watch  \",\n",
              "       'New ListingBulova Automatic Watch',\n",
              "       \"Timex Men's Watch Command Digital Black Dial Orange Rubber Strap TW5M26500\",\n",
              "       'New Listing#1 MENSWEAR Tissot 1853 T063639A Traditional Silver Black Dial Wristwatch Watch',\n",
              "       'New ListingMens or Ladies Tag Heuer 2000 18K Gold plate & SS Professional watch - Gold Dial',\n",
              "       'New ListingVintage Helbros Two-Tone Black-Dial womens quartz watch  ',\n",
              "       'New ListingLL BEAN BY Hamilton mens automatic watch ',\n",
              "       'New ListingSeiko 100m Chronograph 3 register watch 7A28 nice ',\n",
              "       \"Luminox Watch Navy Seal Men's Swiss Colormark Blackout 3051.BO AUTHORIZED DEALER\",\n",
              "       \"Luminox 0321.BO Sea Turtle Giant 0320 Men's Black Band Watch\",\n",
              "       'Mens Rose Gold Bridge Manual Mechanical Watch - Blue Leather DIASTERIA 1688',\n",
              "       \"New ListingRegulateur 24K Goldplated Watch Antique 1910's Vintage Watch Men's, Hand Engravi\",\n",
              "       \"New ListingRare Vintage 1940's Military Mimocean (MIMO-Girard Perregaux) WW2  Men's watch\",\n",
              "       'New ListingGivenchy Paris Men Lady Dual Tone Swiss Analog Quartz Watch Hour~Date~New Batter',\n",
              "       \"Invicta Women's Watch Pro Diver Quartz Blue Dial Stainless Steel Bracelet 29187\",\n",
              "       'New ListingLadies Omega Speedmaster 18K Gold & SS Watch - Automatic - Gold Dial',\n",
              "       'New ListingFERO FEIDMANN 17J GOLD TONE BLUE CLOISONNE 22mm BALL PENDANT WATCH - RUNS',\n",
              "       \"Invicta Women's Watch Pro Diver Blue MOP Dial Two Tone Steel Bracelet 2961\",\n",
              "       'New ListingLadies Omega Constellation 18K ROSE Gold & SS Watch - DIAMOND BEZEL - 1360.75',\n",
              "       \"New ListingVintage Men's Seiko 6139-8029 Stainless Automatic Chronograph Wristwatch Running\",\n",
              "       \"Invicta Women's Watch Pro Diver Quartz Black Dial Silver Tone Bracelet 29186\",\n",
              "       'New Listing1917 WWI Waltham Trench Watch, 15j, BIG 0s, Fahys ARMORED Case, Khaki Strap',\n",
              "       'New ListingCartier Tank Solo watch Stainless Steel with Diamonds,Blue Sapphires',\n",
              "       'New Listingtimex watch women vintage',\n",
              "       \"New Tissot Seastar 1000 Green Dial Stainless Men's Watch T120.407.11.091.00\",\n",
              "       'New ListingPulsar YM92-X231 Men Silver Steel Chronograph Analog Quartz Watch Hours~New Batt',\n",
              "       'New ListingZENITH SOLID  18K  GOLD DATE WATCH',\n",
              "       \"Invicta Women's Watch Pro Diver Quartz Blue Dial Two Tone Steel Bracelet 8942\",\n",
              "       'New ListingVintage Guess Gold -Tone White -Dial Leather Band Womens Watch ',\n",
              "       'New ListingVacheron Constantin Phidias 48020 18K Gold/SS Diamond Bezel Automatic Watch 35mm',\n",
              "       'New ListingNew Mens Invicta 24254 Subaqua Chronograph Black Rubber Strap Watch ',\n",
              "       \"New ListingVintage NINE WEST Black-Dial Silver-Tone Case Women's Watch\",\n",
              "       \"New ListingRussian Military Soviet Vintage Watch Gift Men's Gift . 1950's\",\n",
              "       'New ListingVersace Mens Hellenyium Gold 42mmmm Bracelet Fashion Watch',\n",
              "       'New ListingLadies Tag Heuer Link Watch - Pink DIAMOND Dial - Automatic - WAT2313',\n",
              "       'New ListingNew Mens Invicta 24255 52mm Subaqua Chronograph Silicone Strap Watch',\n",
              "       'New ListingRolex Submariner 16610 Oyster Stainless Steel Blue Bezel Diamond Dial Watch MINT',\n",
              "       'New ListingZeno Watch Basel OS Pilot Pointer Date 47mm Swiss ETA Automatic Black Dial',\n",
              "       \"Wenger Men's Watch Urban Classic White Dial Brown Leather Strap 01.1741.108\",\n",
              "       'New ListingSECTOR $395 MENS  PILOT-MASTER CHRONOGRAPH WATCH, SILVER/BLACK, R3273679025',\n",
              "       'New ListingKaventsmann Bronze Triggerfish 1/1 Dial 40mm Swiss Automatic 1000m Diver',\n",
              "       'New ListingCitizen Quartz Watch',\n",
              "       \"New ListingVintage Gruen 510ss CD Men's manual winding watch day/date 17Jewels swiss 1960s\",\n",
              "       'New ListingTRUSSARDI Watch T-WORLD 40 mm Blue Dial Stainless Steel Mesh R2453116003',\n",
              "       \"New ListingVintage 1947 Omega 14k Solid Yellow Gold Bumper Automatic Men's Watch \",\n",
              "       'New ListingTommy Hilfiger Women Quartz Analog White Silicone Watch (1781073) USED',\n",
              "       'New ListingVINTAGE SUPER SHELL 17 JEWEL MECHANICAL WRIST WATCH',\n",
              "       'New ListingArmani Exchange Lady Banks Quartz Black Dial Ladies Watch AX4369',\n",
              "       'New ListingVtg CASIO A168 ALARM CHRONO ILLUMINATOR WATER RESIST WATCH w/ORIG BAND - RUNS',\n",
              "       \"New ListingRenato Men's Vintage Beast Watch, Swiss Ronda 715, Green Dial, Limited\",\n",
              "       \"New Tissot T-Race Chronograph Cycling Rose Gold Men's Watch T111.417.37.441.07\",\n",
              "       \"New ListingLadies' Hamilton Vintage Watch\",\n",
              "       \"New ListingVintage Lucerne Men's Wrist Watch\",\n",
              "       \"New ListingVintage Kronotron Men's Wrist Watch\",\n",
              "       'Mens Double Flywheel Automatic Mechanical Watch Silver White Stainless Steel',\n",
              "       \"New ListingRussian Soviet Vintage Watch Gift Men's Gift . 1950's\",\n",
              "       'GENUINE SEIKO (SII) NH35/NH35A AUTOMATIC WATCH MOVEMENT DATE 3 W/WHITE DATE NEW',\n",
              "       'New ListingTRUSSARDI Watch T-Evolution Ladies Stainless Steel Blue Leather R2451120504',\n",
              "       'LEON 1.22tcw Diamond Stainless Steel Chronograph Wrist Watch',\n",
              "       'Mens Silver Army Automatic Mechanical Watch Lumious White Dial Stainless Steel',\n",
              "       \"New Omega Seamaster  Blue Men's Watch 210.30.42.20.03.001\",\n",
              "       'Bebe Crystal Chronograph Watch',\n",
              "       'New Listingfossil watch men blue',\n",
              "       \"New ListingRADO DIASTAR DAY DATE SEALED AUTOMATIC MEN'S EXCELLENT WRIST WATCH.'\",\n",
              "       \"New ListingRADO DIASTAR DAY DATE SEALED AUTOMATIC MEN'S EXCELLENT WRIST WATCH.\",\n",
              "       \"Invicta Men's Watch Pro Diver Black Dial Stainless Steel Bracelet 24764\",\n",
              "       'New ListingLadies Omega Deville Prestige SS Watch - 27MM - MOP Dial - 424.10.27.60.05.001',\n",
              "       \"New Frederique Constant Classic Worldtimer Grey Dial Men's Watch FC-718DGWM4H4\",\n",
              "       'New ListingINVICTA WATCH CHRONOGRAPH NEW IN BOX  BEAUTIFUL TIMEPIECE !!',\n",
              "       'New ListingCartier Watch',\n",
              "       'Mens Silver Bridge Manual Mechanical Watch - Stainless Steel DIASTERIA 1688W',\n",
              "       'New ListingVersace Mens Hellenyium Two Tone 42mmmm Bracelet Fashion Watch',\n",
              "       \"New ListingRussian USSR Soviet Vintage Watch Gift Men's Gift . 1950's\",\n",
              "       'Mens Double Flywheel Automatic Mechanical Watch Silver Black Dial Purple Leather',\n",
              "       'New ListingHoraflex mens 17J windup running swiss watch',\n",
              "       'New ListingModern Croton Ladies Wrist Watch',\n",
              "       \"Invicta 33472 Pro Diver Men's Watch NEW 45MM Silver Dial Swiss Quartz Bracelet\",\n",
              "       'New ListingVintage Waltham Ladies Wrist Watch',\n",
              "       \"New ListingNew Bulova 96B219 Men's Chronograph Steel Dress BLUE Dial Watch\",\n",
              "       'New ListingCitizen 8 DIAMOND Eco-drive Ladies Bracelet Watch White CERAMIC NEW +BOX',\n",
              "       'New ListingWatch Lot Deimos',\n",
              "       \"New Movado Ultra Slim Green Dial Green Leather Strap Men's Watch 0607258\",\n",
              "       \"New ListingLacoste Madrid Men's Watch Leather Black Strap Watch 2011032 New \",\n",
              "       'New Listingfossil watch women silver',\n",
              "       'New ListinglK Colouring automatic mens running watch 98226G',\n",
              "       \"New ListingSwiss Legend Chronograph Black Dial Stainless Steel Running Men's Watch \",\n",
              "       'New ListingBOSS ORANGE MENS DIGITAL watch HB147.1.29.2380',\n",
              "       \"New Listing1961 Men's Bulova Accutron 14K Yellow Gold Alpha Wristwatch Parts/Repair/Gold\",\n",
              "       \"New ListingMAN'S IWC SCHAFFNAUSEN SOLID 18K GOLD WATCH\",\n",
              "       \"New ListingLot of 38 Stauer Casio Caravelle Timex Citizen Quartz Men's Watches\",\n",
              "       'New ListingBulova Ambassador',\n",
              "       'New ListingRare Vintage 1930s Art Deco Bulova Miss America Sapphire Ladies Watch Jewelry',\n",
              "       'New ListingRolex Submariner 16610 Steel Blue Bezel Diamond Dial Watch MINT FULLY SERVICE!',\n",
              "       'New ListingCitizen 90s Vintage Quartz Chronograph Watch Daytona Style Blue Dial',\n",
              "       'New ListingVostok Komandirskie 650852 automatic Russia Military Watch',\n",
              "       'New ListingTRUSSARDI Watch T-Princess Stainless Steel Blue Leather R2451119506',\n",
              "       'New ListingRoberto Cavalli R7253692145 Venom White Dial Chronograph Date Mens Swiss Watch',\n",
              "       'New ListingRolex Datejust 26 Pink Dial Jubilee Bracelet Diamond Women’s Watch 179174-PNKDJ',\n",
              "       'New ListingNew Seiko Prospex  Limited Edition 140th Anniversary Watch SPB207',\n",
              "       'New ListingDaniel JeanRichard Paramount Ref 31108 Chronograph Men`s Watch',\n",
              "       \"New ListingVintage 1969 Men's Bulova Oceanographer 333 Feet Automatic Wristwatch Running \",\n",
              "       'New ListingMENS CITIZEN ECO DRIVE BLACK SOLAR WATCH E111 S049377',\n",
              "       'New ListingSwiss Army Victorinox Men 100m Black Steel Analog Quartz Watch Hours~New Battery',\n",
              "       'New ListingOmega Speedmaster Moonwatch Steel 39.7mm Chronograph Watch 311.32.40.30.01.001',\n",
              "       \"New Tag Heuer Connected Modular 45 Digital Dial Men's Watch SBG8A10.BT6219\",\n",
              "       'New ListingMINT 2008 Rolex GMT-Master II Black Stainless Steel 40mm Ceramic 116710 LN Watch',\n",
              "       'New ListingLady Hamilton 14K White Gold Ladies Watch w Diamonds 769 17j Case Works 13.6g',\n",
              "       'New ListingRolex Explorer I 114270 Stainless Steel Oyster 36mm Black Dial Watch *MINT*',\n",
              "       'New ListingESQ Mens running swiss watch 300213',\n",
              "       \"New ListingAquacy Hei Matau Cave Diver Open Heart Men's AUTOMATIC 200M Abalone Dive Watch\",\n",
              "       'New ListingVINTAGE WALTHAM DAY-DATE CAL 1563 BROWN DIAL WRISTWATCH 17 JEWEL STAINLESS STEEL',\n",
              "       \"New ListingCroton Women's diamond bezel watch New Battery \",\n",
              "       '100% Authentic PatekPhilippe Calatrava 18K White Gold MENS Watch Box',\n",
              "       'New ListingJudith Ripka Diamonique Rose Gold Tone Chronograph Watch NEW Battery ',\n",
              "       'New ListingLadies Tag Heuer Formula One F1 Watch - Black / Yellow - Rare Combo',\n",
              "       'New ListingWomens Fossil Date Watch All Stainless Steel White Waffle Face JA208',\n",
              "       'New ListingJules Jurgensen Mens Gold Tone Analog Quartz Chronograph Watch Hours~New Battery',\n",
              "       'AXEL QUARTZ watch, silver bracelet green face  ',\n",
              "       'Authentic Mood Watch Stainless Steel Mesh Band',\n",
              "       'Ammon Watch Black Leather Band Silver Tone Rectangle Face 100M WR WORKING!',\n",
              "       'Mens Automatic Mechanical Watch - Rose Gold Black Dial Leather DIASTERIA 13868',\n",
              "       'Mens Automatic Mechanical Watch Date Day Watch Silver Black Purple Leather',\n",
              "       'Mens Automatic Mechanical Date Watch Silver White Dial Blue Leather Deployant',\n",
              "       \"Citizen Men's AW1490-50A Eco-Drive Stainless Steel Day-Date Silver Tone Watch\",\n",
              "       'Mens Double Flywheel Automatic Mechanical Watch Silver White Dial Blue Leather',\n",
              "       'New ListingSwarovski 5158544 Rose-Gold Tone PVD Grey Leather Crystalline Watch',\n",
              "       'New ListingCitizen Diamond Accent Eco Drive Date Watch Gold Tone ',\n",
              "       \"New Listing$385 Mephisto Women's Stainless Steel Black Leather Band Chronograph Watch\",\n",
              "       ' NWT. DUXOT MENS LEATHER STRAP BRONZE COLOR WATCH',\n",
              "       'New ListingMens Movado Kingmatic HS360 35mm 14k Solid Gold 1960s Automatic Swiss LV437',\n",
              "       \"New ListingRolex Sky-Dweller 326938 18K Yellow Gold Oyster Men's Watch BOX/PAPERS MINT\",\n",
              "       \"New Listing$1,000 13.15CT NATURAL GARNET, BLACK ONYX & CRYSTAL .925 SILVER WOMEN'S WATCH \",\n",
              "       \"One Hand Luch Mechanical Wristwatch Men's leather Vintage Silver 77471762 RUS\",\n",
              "       'Mens Double Flywheel Automatic Mechanical Watch Rose Gold White Green Deployant',\n",
              "       \"Bebe Women's Crysytal Chronograph Watch\", 'Caravelle Watch',\n",
              "       'Mens Automatic Mechanical Watch Rose Gold Black Green Leather Deployant Buckle',\n",
              "       \"New ListingWEIDE Men's Sports Quartz Analog and LCD Digital Watch Alarm Stopwatch\",\n",
              "       \"New ListingMOVADO LIMITED EDITION MAN'S SOLID 18K   WATCH  W BOX\",\n",
              "       'New ListingGenuine BMW Luminox Tritium Classic Design Watch 99000002290',\n",
              "       'New Listingvintage gruen precision mens watch',\n",
              "       \"New ListingVictorinox Swiss Army Men's Maverick Sport Black Nylon Strap Watch 241674\",\n",
              "       \"New ListingMAN'S VACHERON CONSTANTIN 18K ULTRA SLIM WATCH\",\n",
              "       'New ListingLadies Roger Dubuis horloger genevois 18K White Gold Watch & BOX',\n",
              "       \"New ListingRolex DateJust 26mm Steel - 18 Karat Gold Women's Watch with White Diamond Dial\",\n",
              "       'New ListingNew Thomas Earnshaw Beaufort Anatolia Automatic Mechanical Watch',\n",
              "       \"New ListingStunning! Vintage 1965 Bulova Automatic Roman Numerals Dial Men's Watch\",\n",
              "       'New Listing1969 ACCUTRON 214 M9 SPACEVIEW CUSHION TUNING FORK WATCH w/TURQUOISE BRACELET',\n",
              "       \"New ListingNew Oris Classic Date Silver Dial Women's Watch 01 561 7718 4371-07 5 14 32\",\n",
              "       'New Listingtimex watch mens indiglo',\n",
              "       'New ListingVintage 1962 Bulova 10K R.G.P. Bezel Self-Winding Men’s Watch',\n",
              "       \"New ListingVintage USSR Wostok 2214 Vostok 18J Mechanical Men's Russian Wrist Watch #2206\",\n",
              "       'New ListingDEEP BLUE MASTER 1000 AUTOMATIC DIVER-  NORTH AMERICA SATELLITE FULL LUME DIAL',\n",
              "       'New ListingBRAND NEW Rolex Sky-Dweller Steel White Gold BLUE DIAL 42mm Oyster Watch 326934',\n",
              "       'New ListingBulova Accutron 214 M3 1963 Watch Case Back Stainless Steel 30.5mm Excellent',\n",
              "       'Invicta 33423 Pro Diver Men 54MM Red Metal Dial Automatic SS Bracelet Watch NEW',\n",
              "       'New ListingJaeger-LeCoultre Master Compressor Stainless Steel Watch',\n",
              "       'Mens Luxury Bling Bridge Automatic Mechanical Watch - Rose Gold Black Dial',\n",
              "       'Mens Double Flywheel Automatic Mechanical Watch Silver Black Dial Blue Leather',\n",
              "       \"New ListingIWC Portofino Automatic Silver Dial Black Leather Men's Watch IW356517-PO\",\n",
              "       \"New ListingNew Breitling Chronomat 44 Silver Dial Steel Men's Watch AB011011/G676-375A\",\n",
              "       'New ListingTrussardi T Genus Men’s Watch Camouflage NATO Blue Fabric Strap R2451113005',\n",
              "       \"New ListingVictorinox Swiss Army Men's Watch Airboss Mechanical Automatic Strap 249150\",\n",
              "       'New ListingDAVID YURMAN 18K GOLD DIAMOND THOROUGHBRED WATCH',\n",
              "       \"New ListingMAN'S RARE GIRARD PERREGAUX 18K CHRONOMETRE SINEWAVE APRIOR  WATCH\",\n",
              "       'New ListingZIXEN 24 HOUR G.C.T, RARE 48MM USA MOVEMENT PILOT WATCH, MECHANICAL WIND',\n",
              "       \"New ListingRARE! Raymond Weil Tango 5563 Men's Quartz Wristwatch Red Bezel\",\n",
              "       \"New ListingNew Breitling Superocean Black Dial Steel Men's Watch A1334102/BA81-134A\",\n",
              "       'New ListingDAVID YURMAN 18K GOLD CASE , SS CABLE BRACELET WATCH ',\n",
              "       \"New ListingRolex DateJust 26mm Steel and 18 Karat Gold Women's Watch with Black 1.35 Carat\",\n",
              "       'New ListingVintage Duval Swiss manual wind date Watch Working',\n",
              "       'New Listing$3750 DAVID YURMAN 14K GOLD CASE , SS CABLE WATCH ',\n",
              "       'New ListingVTG Seiko 5Y30-7009 Men Ultra Thin Gold Tone Analog Quartz Watch Hour~New Batter',\n",
              "       \"Invicta Men's Watch Speedway Chronograph Quartz Diver Stainless Bracelet 17023\",\n",
              "       'New ListingSEIKO KINETIC Automatic Quartz Mens Stainless Steel Wristwatch 5M62-OCXO',\n",
              "       \"New Baume & Mercier Clifton Automatic Limited Edition Indian Men's Watch 10402\",\n",
              "       'New ListingFossil NIT MENS New RUNNING WATCH FS-2445',\n",
              "       'New ListingHamilton LL Bean Vintage 24hr Military Pilot/Field Watch 9931 Swiss 7j ETA 955',\n",
              "       'New ListingTen Beats Men Lady 30m Green Black Rubber Analog Quartz Watch Hours~New Battery',\n",
              "       'New ListingOMEGA SPEEDMASTER 3513.50 AUTOMATIC CHRONOGRAPH BLACK MENS STEEL DATE WATCH',\n",
              "       'Mens Automatic Mechanical Watch Date Day Silver White Blue Leather Deployant',\n",
              "       'Mens Automatic Mechanical Watch Date Day Watch Silver Black Orange Leather',\n",
              "       'Mens Double Flywheel Automatic Mechanical Watch Rose Gold White Blue Deployant',\n",
              "       \"men's watex automatic swiss made original watch black and red\",\n",
              "       \"One Hand Luch Mechanical Wristwatch Men's leather Vintage Black 37471763 RUS\",\n",
              "       \"Invicta Men's 13785 Specialty Chronograph Dark Blue Dial 18k Gold Ion-Plated ...\",\n",
              "       'Stainless Steel Automatic Movement Luxury Icy Band Bezel Custom Analog Watch',\n",
              "       'New Listing1970s NOS Mint Gold & White Lausanne Ladies  Direct Read Jump Hour Windup Watch',\n",
              "       'Mens Silver Bridge Manual Mechanical Watch - Orange Leather DIASTERIA 1688',\n",
              "       \"One Hand Luch Mechanical Wristwatch Men's leather Vintage White 77471760 RUS\",\n",
              "       'New ListingAntique Julgar Ladies Wrist Watch',\n",
              "       'New ListingTimex Red Dot QUARTZ Watch W/wave Dial',\n",
              "       \"New ListingMAN'S RARE GIRARD PERREGAUX   18K CHRONOMETRE SINEWAVE APRIOR  WATCH\",\n",
              "       \" 1972 Timex with Date Vintage Men's Watch\",\n",
              "       'New Listinggucci watch women leather',\n",
              "       'New ListingVintage Elgin Art Deco Watch (Thrift series #674). Excellent Original Condition.',\n",
              "       \"New ListingModern Timex Indiglo Men's Wrist Watch\",\n",
              "       \"New ListingModern Timex Expedition Men's Wrist Watch\",\n",
              "       'New ListingParis Hilton Watch ￼ 11159W',\n",
              "       \"New ListingVtg Men's Seiko 5606-5019 Automatic 23j Stainless Wristwatch Green Dial Running\",\n",
              "       \"New ListingNixon Women's Watch Sala Quartz Black IP Stainless Steel Bracelet A994010\",\n",
              "       'New ListingMOVADO MUSEUM 84-41-860 BLACK STAINLESS STEEL QUARTZ WATCH ',\n",
              "       'New ListingFossil watch women',\n",
              "       'New ListingUnused Batman By Accutime Mens Japan Movt Analog Quartz Watch Hours~New Battery',\n",
              "       \"New ListingNew Breitling Superocean  Silver Dial Rubber Men's Watch A13341C3/G782-153S\",\n",
              "       'New ListingBREITLING AEROSPACE TITANIUM QUARTZ 40MM BEAUTIFUL BLUE DIAL MENS WATCH E65062',\n",
              "       \"New ListingNew Breitling Professional Digital Dial Rubber Men's Watch A7836434/G653-131S\",\n",
              "       \"New ListingVintage Timex manual wind men's watch Day Date Gold Tone\",\n",
              "       \"New ListingWenger Swiss Military Men's Watch Urban Classic Blue/Silver Dial 01.1743.201S\",\n",
              "       'BERNOULLI DISCLOSURE BLACK LEATHER MENS WATCH',\n",
              "       'Silvertone Watch, Metal Link Bracelet Band, Blue Dial, WORKING!',\n",
              "       \"New ListingMen's Rolex Yacht-Master 16622 Stainless Steel Platinum Rolesium 40mm Date Watch\",\n",
              "       'New ListingVintage Gold ESQ Watch...Esquire Watch Co ...Swiss Made  ....Summer Special!',\n",
              "       \"New ListingMen's Citizen Eco-Drive Silver-Tone Watch Silver Dial (Model: E111-S022240)\",\n",
              "       'New ListingRolex Datejust 116263 Turn-O-Graph White Dial SS/ 18K Yellow Gold Watch *MINT',\n",
              "       'New ListingFossil ES4881 Gwen Three-Hand Date Two-Tone Stainless Steel Watch',\n",
              "       'New Listingrolex watch men new Cost Me  7k',\n",
              "       'New ListingInvicta 29761 Venom 54MM Black Dial Chronograph Quartz Silicone Strap Watch NEW',\n",
              "       'New ListingRolex Explorer II 16570 Black Dial Automatic Watch U Series with Papers',\n",
              "       'New ListingVintage Homer Gold Plate Japan Quartz Watch Brooch Running',\n",
              "       'New ListingKENNETH COLE Reaction Rectangular Stainless Silver- Dial Date Watch KC2250  ',\n",
              "       'New ListingPatek Philippe Complications Annual Calendar 18k Rose Gold Black Watch 5205R-010',\n",
              "       'Michael Kors Watch Women Crystals Dial Gold Band Gold Case MK5720 Genuine VIP',\n",
              "       'watch men', 'New ListingZenith Defy Automatic',\n",
              "       'New ListingTONINO LAMBORGHINI WATCH',\n",
              "       \"New ListingNixon Men's Watch Patrol Quartz Rose Gold Case Brown Leather Strap A12433210\",\n",
              "       'New ListingRare Movado Museum watch', ' NEW MENS GIOVINE WATCH',\n",
              "       \"Victorinox Swiss Army Men's Watch I.N.O.X. Blue Dial 241724.1 Authorized Dealer\",\n",
              "       \"New ListingNixon Women's Watch Kensington Quartz Silver Tone Dial Bracelet A3611920\",\n",
              "       'New ListingVintage Gold & Black Chanel Premiere 1987 Watch',\n",
              "       'Mens Silver Automatic Mechanical Watch White Dial Date Day Blue Leather Strap',\n",
              "       'Mens Automatic Mechanical Watch Date Day Silver White Brown Leather Strap'],\n",
              "      dtype=object)"
            ]
          },
          "metadata": {
            "tags": []
          },
          "execution_count": 88
        }
      ]
    },
    {
      "cell_type": "code",
      "metadata": {
        "id": "Z3Uj0QNYqJJN"
      },
      "source": [
        "## to fill NaNs with the most frequent value from one column\n",
        "\n",
        "df['Title'] = df['Title'].fillna(df['Title'].value_counts().index[0])"
      ],
      "execution_count": 89,
      "outputs": []
    },
    {
      "cell_type": "code",
      "metadata": {
        "colab": {
          "base_uri": "https://localhost:8080/",
          "height": 542
        },
        "id": "x3NKzazpqOtq",
        "outputId": "bc224d04-290d-4949-8d11-9d9606d445ed"
      },
      "source": [
        "feature_show(df['Title'])"
      ],
      "execution_count": 90,
      "outputs": [
        {
          "output_type": "display_data",
          "data": {
            "text/html": [
              "<html>\n",
              "<head><meta charset=\"utf-8\" /></head>\n",
              "<body>\n",
              "    <div>\n",
              "            <script src=\"https://cdnjs.cloudflare.com/ajax/libs/mathjax/2.7.5/MathJax.js?config=TeX-AMS-MML_SVG\"></script><script type=\"text/javascript\">if (window.MathJax) {MathJax.Hub.Config({SVG: {font: \"STIX-Web\"}});}</script>\n",
              "                <script type=\"text/javascript\">window.PlotlyConfig = {MathJaxConfig: 'local'};</script>\n",
              "        <script src=\"https://cdn.plot.ly/plotly-latest.min.js\"></script>    \n",
              "            <div id=\"8eb2bca4-870a-430b-b3a6-b412088687f9\" class=\"plotly-graph-div\" style=\"height:525px; width:100%;\"></div>\n",
              "            <script type=\"text/javascript\">\n",
              "                \n",
              "                    window.PLOTLYENV=window.PLOTLYENV || {};\n",
              "                    \n",
              "                if (document.getElementById(\"8eb2bca4-870a-430b-b3a6-b412088687f9\")) {\n",
              "                    Plotly.newPlot(\n",
              "                        '8eb2bca4-870a-430b-b3a6-b412088687f9',\n",
              "                        [{\"type\": \"bar\", \"y\": [\"New ListingVintage Duval Swiss manual wind date Watch Working\", \"Mens Dual Time Flywheel Automatic Mechanical Watch Rose Gold White Dial Brown \", \"Invicta Men's 32632 Specialty Mechanical 3 Hand Black Dial Watch\", \"Invicta Men's Watch Pro Diver Blue Dial Quartz Dive Silver Tone Bracelet 9204OB\", \"Invicta Men's Watch Aviator Chronograph Gunmetal Dial Steel Bracelet 17204\", \"One Hand Luch Mechanical Wristwatch Men's leather Vintage White 77471146 RUS\", \"Invicta Men's Pro Diver Gold-Tone Quartz Black Dial Stainless Steel Watch 22414\", \"New ListingRAYMOND WEIL - Swiss Quarts Men's Watch  \", \"New ListingBulova Automatic Watch\", \"Timex Men's Watch Command Digital Black Dial Orange Rubber Strap TW5M26500\", \"New Listing#1 MENSWEAR Tissot 1853 T063639A Traditional Silver Black Dial Wristwatch Watch\", \"New ListingMens or Ladies Tag Heuer 2000 18K Gold plate & SS Professional watch - Gold Dial\", \"New ListingVintage Helbros Two-Tone Black-Dial womens quartz watch  \", \"New ListingLL BEAN BY Hamilton mens automatic watch \", \"New ListingSeiko 100m Chronograph 3 register watch 7A28 nice \", \"Luminox Watch Navy Seal Men's Swiss Colormark Blackout 3051.BO AUTHORIZED DEALER\", \"Luminox 0321.BO Sea Turtle Giant 0320 Men's Black Band Watch\", \"Mens Rose Gold Bridge Manual Mechanical Watch - Blue Leather DIASTERIA 1688\", \"New ListingRegulateur 24K Goldplated Watch Antique 1910's Vintage Watch Men's, Hand Engravi\", \"New ListingRare Vintage 1940's Military Mimocean (MIMO-Girard Perregaux) WW2  Men's watch\", \"New ListingGivenchy Paris Men Lady Dual Tone Swiss Analog Quartz Watch Hour~Date~New Batter\", \"Invicta Women's Watch Pro Diver Quartz Blue Dial Stainless Steel Bracelet 29187\", \"New ListingLadies Omega Speedmaster 18K Gold & SS Watch - Automatic - Gold Dial\", \"New ListingFERO FEIDMANN 17J GOLD TONE BLUE CLOISONNE 22mm BALL PENDANT WATCH - RUNS\", \"Invicta Women's Watch Pro Diver Blue MOP Dial Two Tone Steel Bracelet 2961\", \"New ListingLadies Omega Constellation 18K ROSE Gold & SS Watch - DIAMOND BEZEL - 1360.75\", \"New ListingVintage Men's Seiko 6139-8029 Stainless Automatic Chronograph Wristwatch Running\", \"Invicta Women's Watch Pro Diver Quartz Black Dial Silver Tone Bracelet 29186\", \"New Listing1917 WWI Waltham Trench Watch, 15j, BIG 0s, Fahys ARMORED Case, Khaki Strap\", \"New ListingCartier Tank Solo watch Stainless Steel with Diamonds,Blue Sapphires\", \"New Listingtimex watch women vintage\", \"New Tissot Seastar 1000 Green Dial Stainless Men's Watch T120.407.11.091.00\", \"New ListingPulsar YM92-X231 Men Silver Steel Chronograph Analog Quartz Watch Hours~New Batt\", \"New ListingZENITH SOLID  18K  GOLD DATE WATCH\", \"Invicta Women's Watch Pro Diver Quartz Blue Dial Two Tone Steel Bracelet 8942\", \"New ListingVintage Guess Gold -Tone White -Dial Leather Band Womens Watch \", \"New ListingVacheron Constantin Phidias 48020 18K Gold/SS Diamond Bezel Automatic Watch 35mm\", \"New ListingNew Mens Invicta 24254 Subaqua Chronograph Black Rubber Strap Watch \", \"New ListingVintage NINE WEST Black-Dial Silver-Tone Case Women's Watch\", \"New ListingRussian Military Soviet Vintage Watch Gift Men's Gift . 1950's\", \"New ListingVersace Mens Hellenyium Gold 42mmmm Bracelet Fashion Watch\", \"New ListingLadies Tag Heuer Link Watch - Pink DIAMOND Dial - Automatic - WAT2313\", \"New ListingNew Mens Invicta 24255 52mm Subaqua Chronograph Silicone Strap Watch\", \"New ListingRolex Submariner 16610 Oyster Stainless Steel Blue Bezel Diamond Dial Watch MINT\", \"New ListingZeno Watch Basel OS Pilot Pointer Date 47mm Swiss ETA Automatic Black Dial\", \"Wenger Men's Watch Urban Classic White Dial Brown Leather Strap 01.1741.108\", \"New ListingSECTOR $395 MENS  PILOT-MASTER CHRONOGRAPH WATCH, SILVER/BLACK, R3273679025\", \"New ListingKaventsmann Bronze Triggerfish 1/1 Dial 40mm Swiss Automatic 1000m Diver\", \"New ListingCitizen Quartz Watch\", \"New ListingVintage Gruen 510ss CD Men's manual winding watch day/date 17Jewels swiss 1960s\", \"New ListingTRUSSARDI Watch T-WORLD 40 mm Blue Dial Stainless Steel Mesh R2453116003\", \"New ListingVintage 1947 Omega 14k Solid Yellow Gold Bumper Automatic Men's Watch \", \"New ListingTommy Hilfiger Women Quartz Analog White Silicone Watch (1781073) USED\", \"New ListingVINTAGE SUPER SHELL 17 JEWEL MECHANICAL WRIST WATCH\", \"New ListingArmani Exchange Lady Banks Quartz Black Dial Ladies Watch AX4369\", \"New ListingVtg CASIO A168 ALARM CHRONO ILLUMINATOR WATER RESIST WATCH w/ORIG BAND - RUNS\", \"New ListingRenato Men's Vintage Beast Watch, Swiss Ronda 715, Green Dial, Limited\", \"New Tissot T-Race Chronograph Cycling Rose Gold Men's Watch T111.417.37.441.07\", \"New ListingLadies' Hamilton Vintage Watch\", \"New ListingVintage Lucerne Men's Wrist Watch\", \"New ListingVintage Kronotron Men's Wrist Watch\", \"Mens Double Flywheel Automatic Mechanical Watch Silver White Stainless Steel\", \"New ListingRussian Soviet Vintage Watch Gift Men's Gift . 1950's\", \"New ListingVintage Duval Swiss manual wind date Watch Working\", \"GENUINE SEIKO (SII) NH35/NH35A AUTOMATIC WATCH MOVEMENT DATE 3 W/WHITE DATE NEW\", \"New ListingTRUSSARDI Watch T-Evolution Ladies Stainless Steel Blue Leather R2451120504\", \"LEON 1.22tcw Diamond Stainless Steel Chronograph Wrist Watch\", \"Mens Silver Army Automatic Mechanical Watch Lumious White Dial Stainless Steel\", \"New Omega Seamaster  Blue Men's Watch 210.30.42.20.03.001\", \"Bebe Crystal Chronograph Watch\", \"New Listingfossil watch men blue\", \"New ListingRADO DIASTAR DAY DATE SEALED AUTOMATIC MEN'S EXCELLENT WRIST WATCH.'\", \"New ListingRADO DIASTAR DAY DATE SEALED AUTOMATIC MEN'S EXCELLENT WRIST WATCH.\", \"Invicta Men's Watch Pro Diver Black Dial Stainless Steel Bracelet 24764\", \"New ListingLadies Omega Deville Prestige SS Watch - 27MM - MOP Dial - 424.10.27.60.05.001\", \"New Frederique Constant Classic Worldtimer Grey Dial Men's Watch FC-718DGWM4H4\", \"New ListingINVICTA WATCH CHRONOGRAPH NEW IN BOX  BEAUTIFUL TIMEPIECE !!\", \"New ListingCartier Watch\", \"Mens Silver Bridge Manual Mechanical Watch - Stainless Steel DIASTERIA 1688W\", \"New ListingVersace Mens Hellenyium Two Tone 42mmmm Bracelet Fashion Watch\", \"New ListingRussian USSR Soviet Vintage Watch Gift Men's Gift . 1950's\", \"Mens Double Flywheel Automatic Mechanical Watch Silver Black Dial Purple Leather\", \"New ListingHoraflex mens 17J windup running swiss watch\", \"New ListingModern Croton Ladies Wrist Watch\", \"Invicta 33472 Pro Diver Men's Watch NEW 45MM Silver Dial Swiss Quartz Bracelet\", \"New ListingVintage Waltham Ladies Wrist Watch\", \"New ListingNew Bulova 96B219 Men's Chronograph Steel Dress BLUE Dial Watch\", \"New ListingCitizen 8 DIAMOND Eco-drive Ladies Bracelet Watch White CERAMIC NEW +BOX\", \"New ListingWatch Lot Deimos\", \"New Movado Ultra Slim Green Dial Green Leather Strap Men's Watch 0607258\", \"New ListingLacoste Madrid Men's Watch Leather Black Strap Watch 2011032 New \", \"New Listingfossil watch women silver\", \"New ListinglK Colouring automatic mens running watch 98226G\", \"New ListingSwiss Legend Chronograph Black Dial Stainless Steel Running Men's Watch \", \"New ListingBOSS ORANGE MENS DIGITAL watch HB147.1.29.2380\", \"New Listing1961 Men's Bulova Accutron 14K Yellow Gold Alpha Wristwatch Parts/Repair/Gold\", \"New ListingMAN'S IWC SCHAFFNAUSEN SOLID 18K GOLD WATCH\", \"New ListingLot of 38 Stauer Casio Caravelle Timex Citizen Quartz Men's Watches\", \"New ListingBulova Ambassador\", \"New ListingRare Vintage 1930s Art Deco Bulova Miss America Sapphire Ladies Watch Jewelry\", \"New ListingRolex Submariner 16610 Steel Blue Bezel Diamond Dial Watch MINT FULLY SERVICE!\", \"New ListingCitizen 90s Vintage Quartz Chronograph Watch Daytona Style Blue Dial\", \"New ListingVostok Komandirskie 650852 automatic Russia Military Watch\", \"New ListingTRUSSARDI Watch T-Princess Stainless Steel Blue Leather R2451119506\", \"New ListingRoberto Cavalli R7253692145 Venom White Dial Chronograph Date Mens Swiss Watch\", \"New ListingRolex Datejust 26 Pink Dial Jubilee Bracelet Diamond Women\\u2019s Watch 179174-PNKDJ\", \"New ListingNew Seiko Prospex  Limited Edition 140th Anniversary Watch SPB207\", \"New ListingDaniel JeanRichard Paramount Ref 31108 Chronograph Men`s Watch\", \"New ListingVintage 1969 Men's Bulova Oceanographer 333 Feet Automatic Wristwatch Running \", \"New ListingMENS CITIZEN ECO DRIVE BLACK SOLAR WATCH E111 S049377\", \"New ListingSwiss Army Victorinox Men 100m Black Steel Analog Quartz Watch Hours~New Battery\", \"New ListingOmega Speedmaster Moonwatch Steel 39.7mm Chronograph Watch 311.32.40.30.01.001\", \"New Tag Heuer Connected Modular 45 Digital Dial Men's Watch SBG8A10.BT6219\", \"New ListingMINT 2008 Rolex GMT-Master II Black Stainless Steel 40mm Ceramic 116710 LN Watch\", \"New ListingLady Hamilton 14K White Gold Ladies Watch w Diamonds 769 17j Case Works 13.6g\", \"New ListingRolex Explorer I 114270 Stainless Steel Oyster 36mm Black Dial Watch *MINT*\", \"New ListingESQ Mens running swiss watch 300213\", \"New ListingAquacy Hei Matau Cave Diver Open Heart Men's AUTOMATIC 200M Abalone Dive Watch\", \"New ListingVINTAGE WALTHAM DAY-DATE CAL 1563 BROWN DIAL WRISTWATCH 17 JEWEL STAINLESS STEEL\", \"New ListingCroton Women's diamond bezel watch New Battery \", \"100% Authentic PatekPhilippe Calatrava 18K White Gold MENS Watch Box\", \"New ListingJudith Ripka Diamonique Rose Gold Tone Chronograph Watch NEW Battery \", \"New ListingLadies Tag Heuer Formula One F1 Watch - Black / Yellow - Rare Combo\", \"New ListingWomens Fossil Date Watch All Stainless Steel White Waffle Face JA208\", \"New ListingJules Jurgensen Mens Gold Tone Analog Quartz Chronograph Watch Hours~New Battery\", \"AXEL QUARTZ watch, silver bracelet green face  \", \"Authentic Mood Watch Stainless Steel Mesh Band\", \"New ListingVintage Duval Swiss manual wind date Watch Working\", \"New ListingVintage Duval Swiss manual wind date Watch Working\", \"New ListingVintage Duval Swiss manual wind date Watch Working\", \"Ammon Watch Black Leather Band Silver Tone Rectangle Face 100M WR WORKING!\", \"Mens Automatic Mechanical Watch - Rose Gold Black Dial Leather DIASTERIA 13868\", \"Mens Automatic Mechanical Watch Date Day Watch Silver Black Purple Leather\", \"Mens Automatic Mechanical Date Watch Silver White Dial Blue Leather Deployant\", \"Citizen Men's AW1490-50A Eco-Drive Stainless Steel Day-Date Silver Tone Watch\", \"Mens Double Flywheel Automatic Mechanical Watch Silver White Dial Blue Leather\", \"New ListingSwarovski 5158544 Rose-Gold Tone PVD Grey Leather Crystalline Watch\", \"New ListingCitizen Diamond Accent Eco Drive Date Watch Gold Tone \", \"New Listing$385 Mephisto Women's Stainless Steel Black Leather Band Chronograph Watch\", \" NWT. DUXOT MENS LEATHER STRAP BRONZE COLOR WATCH\", \"New ListingMens Movado Kingmatic HS360 35mm 14k Solid Gold 1960s Automatic Swiss LV437\", \"New ListingRolex Sky-Dweller 326938 18K Yellow Gold Oyster Men's Watch BOX/PAPERS MINT\", \"New Listing$1,000 13.15CT NATURAL GARNET, BLACK ONYX & CRYSTAL .925 SILVER WOMEN'S WATCH \", \"One Hand Luch Mechanical Wristwatch Men's leather Vintage Silver 77471762 RUS\", \"Mens Double Flywheel Automatic Mechanical Watch Rose Gold White Green Deployant\", \"Bebe Women's Crysytal Chronograph Watch\", \"Caravelle Watch\", \"Mens Automatic Mechanical Watch Rose Gold Black Green Leather Deployant Buckle\", \"New ListingWEIDE Men's Sports Quartz Analog and LCD Digital Watch Alarm Stopwatch\", \"New ListingMOVADO LIMITED EDITION MAN'S SOLID 18K   WATCH  W BOX\", \"New ListingGenuine BMW Luminox Tritium Classic Design Watch 99000002290\", \"New Listingvintage gruen precision mens watch\", \"New ListingVictorinox Swiss Army Men's Maverick Sport Black Nylon Strap Watch 241674\", \"New ListingMAN'S VACHERON CONSTANTIN 18K ULTRA SLIM WATCH\", \"New ListingLadies Roger Dubuis horloger genevois 18K White Gold Watch & BOX\", \"New ListingRolex DateJust 26mm Steel - 18 Karat Gold Women's Watch with White Diamond Dial\", \"New ListingNew Thomas Earnshaw Beaufort Anatolia Automatic Mechanical Watch\", \"New ListingStunning! Vintage 1965 Bulova Automatic Roman Numerals Dial Men's Watch\", \"New Listing1969 ACCUTRON 214 M9 SPACEVIEW CUSHION TUNING FORK WATCH w/TURQUOISE BRACELET\", \"New ListingNew Oris Classic Date Silver Dial Women's Watch 01 561 7718 4371-07 5 14 32\", \"New Listingtimex watch mens indiglo\", \"New ListingVintage 1962 Bulova 10K R.G.P. Bezel Self-Winding Men\\u2019s Watch\", \"New ListingVintage USSR Wostok 2214 Vostok 18J Mechanical Men's Russian Wrist Watch #2206\", \"New ListingDEEP BLUE MASTER 1000 AUTOMATIC DIVER-  NORTH AMERICA SATELLITE FULL LUME DIAL\", \"New ListingBRAND NEW Rolex Sky-Dweller Steel White Gold BLUE DIAL 42mm Oyster Watch 326934\", \"New ListingBulova Accutron 214 M3 1963 Watch Case Back Stainless Steel 30.5mm Excellent\", \"Invicta 33423 Pro Diver Men 54MM Red Metal Dial Automatic SS Bracelet Watch NEW\", \"New ListingJaeger-LeCoultre Master Compressor Stainless Steel Watch\", \"Mens Luxury Bling Bridge Automatic Mechanical Watch - Rose Gold Black Dial\", \"Mens Double Flywheel Automatic Mechanical Watch Silver Black Dial Blue Leather\", \"New ListingIWC Portofino Automatic Silver Dial Black Leather Men's Watch IW356517-PO\", \"New ListingNew Breitling Chronomat 44 Silver Dial Steel Men's Watch AB011011/G676-375A\", \"New ListingTrussardi T Genus Men\\u2019s Watch Camouflage NATO Blue Fabric Strap R2451113005\", \"New ListingVictorinox Swiss Army Men's Watch Airboss Mechanical Automatic Strap 249150\", \"New ListingDAVID YURMAN 18K GOLD DIAMOND THOROUGHBRED WATCH\", \"New ListingMAN'S RARE GIRARD PERREGAUX 18K CHRONOMETRE SINEWAVE APRIOR  WATCH\", \"New ListingZIXEN 24 HOUR G.C.T, RARE 48MM USA MOVEMENT PILOT WATCH, MECHANICAL WIND\", \"New ListingRARE! Raymond Weil Tango 5563 Men's Quartz Wristwatch Red Bezel\", \"New ListingNew Breitling Superocean Black Dial Steel Men's Watch A1334102/BA81-134A\", \"New ListingDAVID YURMAN 18K GOLD CASE , SS CABLE BRACELET WATCH \", \"New ListingRolex DateJust 26mm Steel and 18 Karat Gold Women's Watch with Black 1.35 Carat\", \"New ListingVintage Duval Swiss manual wind date Watch Working\", \"New Listing$3750 DAVID YURMAN 14K GOLD CASE , SS CABLE WATCH \", \"New ListingVTG Seiko 5Y30-7009 Men Ultra Thin Gold Tone Analog Quartz Watch Hour~New Batter\", \"Invicta Men's Watch Speedway Chronograph Quartz Diver Stainless Bracelet 17023\", \"New ListingSEIKO KINETIC Automatic Quartz Mens Stainless Steel Wristwatch 5M62-OCXO\", \"New Baume & Mercier Clifton Automatic Limited Edition Indian Men's Watch 10402\", \"New ListingFossil NIT MENS New RUNNING WATCH FS-2445\", \"New ListingHamilton LL Bean Vintage 24hr Military Pilot/Field Watch 9931 Swiss 7j ETA 955\", \"New ListingTen Beats Men Lady 30m Green Black Rubber Analog Quartz Watch Hours~New Battery\", \"New ListingOMEGA SPEEDMASTER 3513.50 AUTOMATIC CHRONOGRAPH BLACK MENS STEEL DATE WATCH\", \"Mens Automatic Mechanical Watch Date Day Silver White Blue Leather Deployant\", \"Mens Automatic Mechanical Watch Date Day Watch Silver Black Orange Leather\", \"New ListingVintage Duval Swiss manual wind date Watch Working\", \"Mens Double Flywheel Automatic Mechanical Watch Rose Gold White Blue Deployant\", \"men's watex automatic swiss made original watch black and red\", \"One Hand Luch Mechanical Wristwatch Men's leather Vintage Black 37471763 RUS\", \"Invicta Men's 13785 Specialty Chronograph Dark Blue Dial 18k Gold Ion-Plated ...\", \"New ListingVintage Duval Swiss manual wind date Watch Working\", \"Mens Automatic Mechanical Watch Date Day Silver White Blue Leather Deployant\", \"New Listing$3750 DAVID YURMAN 14K GOLD CASE , SS CABLE WATCH \", \"New ListingVTG Seiko 5Y30-7009 Men Ultra Thin Gold Tone Analog Quartz Watch Hour~New Batter\", \"New ListingSEIKO KINETIC Automatic Quartz Mens Stainless Steel Wristwatch 5M62-OCXO\", \"New Baume & Mercier Clifton Automatic Limited Edition Indian Men's Watch 10402\", \"Invicta Men's Watch Speedway Chronograph Quartz Diver Stainless Bracelet 17023\", \"New ListingFossil NIT MENS New RUNNING WATCH FS-2445\", \"New ListingHamilton LL Bean Vintage 24hr Military Pilot/Field Watch 9931 Swiss 7j ETA 955\", \"New ListingTen Beats Men Lady 30m Green Black Rubber Analog Quartz Watch Hours~New Battery\", \"Stainless Steel Automatic Movement Luxury Icy Band Bezel Custom Analog Watch\", \"New Listing1970s NOS Mint Gold & White Lausanne Ladies  Direct Read Jump Hour Windup Watch\", \"Mens Silver Bridge Manual Mechanical Watch - Orange Leather DIASTERIA 1688\", \"One Hand Luch Mechanical Wristwatch Men's leather Vintage White 77471760 RUS\", \"New ListingAntique Julgar Ladies Wrist Watch\", \"New ListingTimex Red Dot QUARTZ Watch W/wave Dial\", \"New ListingOMEGA SPEEDMASTER 3513.50 AUTOMATIC CHRONOGRAPH BLACK MENS STEEL DATE WATCH\", \"New ListingMAN'S RARE GIRARD PERREGAUX   18K CHRONOMETRE SINEWAVE APRIOR  WATCH\", \" 1972 Timex with Date Vintage Men's Watch\", \"New Listinggucci watch women leather\", \"New ListingVintage Elgin Art Deco Watch (Thrift series #674). Excellent Original Condition.\", \"New ListingModern Timex Indiglo Men's Wrist Watch\", \"New ListingModern Timex Expedition Men's Wrist Watch\", \"New ListingParis Hilton Watch \\ufffc 11159W\", \"New ListingVtg Men's Seiko 5606-5019 Automatic 23j Stainless Wristwatch Green Dial Running\", \"New ListingNixon Women's Watch Sala Quartz Black IP Stainless Steel Bracelet A994010\", \"New ListingMOVADO MUSEUM 84-41-860 BLACK STAINLESS STEEL QUARTZ WATCH \", \"New ListingFossil watch women\", \"New ListingUnused Batman By Accutime Mens Japan Movt Analog Quartz Watch Hours~New Battery\", \"New ListingNew Breitling Superocean  Silver Dial Rubber Men's Watch A13341C3/G782-153S\", \"New ListingBREITLING AEROSPACE TITANIUM QUARTZ 40MM BEAUTIFUL BLUE DIAL MENS WATCH E65062\", \"New ListingNew Breitling Professional Digital Dial Rubber Men's Watch A7836434/G653-131S\", \"New ListingVintage Timex manual wind men's watch Day Date Gold Tone\", \"New ListingWenger Swiss Military Men's Watch Urban Classic Blue/Silver Dial 01.1743.201S\", \"BERNOULLI DISCLOSURE BLACK LEATHER MENS WATCH\", \"Silvertone Watch, Metal Link Bracelet Band, Blue Dial, WORKING!\", \"New ListingMen's Rolex Yacht-Master 16622 Stainless Steel Platinum Rolesium 40mm Date Watch\", \"New ListingVintage Gold ESQ Watch...Esquire Watch Co ...Swiss Made  ....Summer Special!\", \"New ListingMen's Citizen Eco-Drive Silver-Tone Watch Silver Dial (Model: E111-S022240)\", \"New ListingRolex Datejust 116263 Turn-O-Graph White Dial SS/ 18K Yellow Gold Watch *MINT\", \"New ListingFossil ES4881 Gwen Three-Hand Date Two-Tone Stainless Steel Watch\", \"New Listingrolex watch men new Cost Me  7k\", \"New ListingInvicta 29761 Venom 54MM Black Dial Chronograph Quartz Silicone Strap Watch NEW\", \"New ListingRolex Explorer II 16570 Black Dial Automatic Watch U Series with Papers\", \"New ListingVintage Homer Gold Plate Japan Quartz Watch Brooch Running\", \"New ListingKENNETH COLE Reaction Rectangular Stainless Silver- Dial Date Watch KC2250  \", \"New ListingPatek Philippe Complications Annual Calendar 18k Rose Gold Black Watch 5205R-010\", \"Michael Kors Watch Women Crystals Dial Gold Band Gold Case MK5720 Genuine VIP\", \"watch men\", \"New ListingZenith Defy Automatic\", \"New ListingTONINO LAMBORGHINI WATCH\", \"New ListingNixon Men's Watch Patrol Quartz Rose Gold Case Brown Leather Strap A12433210\", \"New ListingRare Movado Museum watch\", \" NEW MENS GIOVINE WATCH\", \"Victorinox Swiss Army Men's Watch I.N.O.X. Blue Dial 241724.1 Authorized Dealer\", \"New ListingNixon Women's Watch Kensington Quartz Silver Tone Dial Bracelet A3611920\", \"New ListingVintage Gold & Black Chanel Premiere 1987 Watch\", \"Mens Silver Automatic Mechanical Watch White Dial Date Day Blue Leather Strap\", \"Mens Automatic Mechanical Watch Date Day Silver White Brown Leather Strap\"]}],\n",
              "                        {\"template\": {\"data\": {\"bar\": [{\"error_x\": {\"color\": \"#2a3f5f\"}, \"error_y\": {\"color\": \"#2a3f5f\"}, \"marker\": {\"line\": {\"color\": \"#E5ECF6\", \"width\": 0.5}}, \"type\": \"bar\"}], \"barpolar\": [{\"marker\": {\"line\": {\"color\": \"#E5ECF6\", \"width\": 0.5}}, \"type\": \"barpolar\"}], \"carpet\": [{\"aaxis\": {\"endlinecolor\": \"#2a3f5f\", \"gridcolor\": \"white\", \"linecolor\": \"white\", \"minorgridcolor\": \"white\", \"startlinecolor\": \"#2a3f5f\"}, \"baxis\": {\"endlinecolor\": \"#2a3f5f\", \"gridcolor\": \"white\", \"linecolor\": \"white\", \"minorgridcolor\": \"white\", \"startlinecolor\": \"#2a3f5f\"}, \"type\": \"carpet\"}], \"choropleth\": [{\"colorbar\": {\"outlinewidth\": 0, \"ticks\": \"\"}, \"type\": \"choropleth\"}], \"contour\": [{\"colorbar\": {\"outlinewidth\": 0, \"ticks\": \"\"}, \"colorscale\": [[0.0, \"#0d0887\"], [0.1111111111111111, \"#46039f\"], [0.2222222222222222, \"#7201a8\"], [0.3333333333333333, \"#9c179e\"], [0.4444444444444444, \"#bd3786\"], [0.5555555555555556, \"#d8576b\"], [0.6666666666666666, \"#ed7953\"], [0.7777777777777778, \"#fb9f3a\"], [0.8888888888888888, \"#fdca26\"], [1.0, \"#f0f921\"]], \"type\": \"contour\"}], \"contourcarpet\": [{\"colorbar\": {\"outlinewidth\": 0, \"ticks\": \"\"}, \"type\": \"contourcarpet\"}], \"heatmap\": [{\"colorbar\": {\"outlinewidth\": 0, \"ticks\": \"\"}, \"colorscale\": [[0.0, \"#0d0887\"], [0.1111111111111111, \"#46039f\"], [0.2222222222222222, \"#7201a8\"], [0.3333333333333333, \"#9c179e\"], [0.4444444444444444, \"#bd3786\"], [0.5555555555555556, \"#d8576b\"], [0.6666666666666666, \"#ed7953\"], [0.7777777777777778, \"#fb9f3a\"], [0.8888888888888888, \"#fdca26\"], [1.0, \"#f0f921\"]], \"type\": \"heatmap\"}], \"heatmapgl\": [{\"colorbar\": {\"outlinewidth\": 0, \"ticks\": \"\"}, \"colorscale\": [[0.0, \"#0d0887\"], [0.1111111111111111, \"#46039f\"], [0.2222222222222222, \"#7201a8\"], [0.3333333333333333, \"#9c179e\"], [0.4444444444444444, \"#bd3786\"], [0.5555555555555556, \"#d8576b\"], [0.6666666666666666, \"#ed7953\"], [0.7777777777777778, \"#fb9f3a\"], [0.8888888888888888, \"#fdca26\"], [1.0, \"#f0f921\"]], \"type\": \"heatmapgl\"}], \"histogram\": [{\"marker\": {\"colorbar\": {\"outlinewidth\": 0, \"ticks\": \"\"}}, \"type\": \"histogram\"}], \"histogram2d\": [{\"colorbar\": {\"outlinewidth\": 0, \"ticks\": \"\"}, \"colorscale\": [[0.0, \"#0d0887\"], [0.1111111111111111, \"#46039f\"], [0.2222222222222222, \"#7201a8\"], [0.3333333333333333, \"#9c179e\"], [0.4444444444444444, \"#bd3786\"], [0.5555555555555556, \"#d8576b\"], [0.6666666666666666, \"#ed7953\"], [0.7777777777777778, \"#fb9f3a\"], [0.8888888888888888, \"#fdca26\"], [1.0, \"#f0f921\"]], \"type\": \"histogram2d\"}], \"histogram2dcontour\": [{\"colorbar\": {\"outlinewidth\": 0, \"ticks\": \"\"}, \"colorscale\": [[0.0, \"#0d0887\"], [0.1111111111111111, \"#46039f\"], [0.2222222222222222, \"#7201a8\"], [0.3333333333333333, \"#9c179e\"], [0.4444444444444444, \"#bd3786\"], [0.5555555555555556, \"#d8576b\"], [0.6666666666666666, \"#ed7953\"], [0.7777777777777778, \"#fb9f3a\"], [0.8888888888888888, \"#fdca26\"], [1.0, \"#f0f921\"]], \"type\": \"histogram2dcontour\"}], \"mesh3d\": [{\"colorbar\": {\"outlinewidth\": 0, \"ticks\": \"\"}, \"type\": \"mesh3d\"}], \"parcoords\": [{\"line\": {\"colorbar\": {\"outlinewidth\": 0, \"ticks\": \"\"}}, \"type\": \"parcoords\"}], \"pie\": [{\"automargin\": true, \"type\": \"pie\"}], \"scatter\": [{\"marker\": {\"colorbar\": {\"outlinewidth\": 0, \"ticks\": \"\"}}, \"type\": \"scatter\"}], \"scatter3d\": [{\"line\": {\"colorbar\": {\"outlinewidth\": 0, \"ticks\": \"\"}}, \"marker\": {\"colorbar\": {\"outlinewidth\": 0, \"ticks\": \"\"}}, \"type\": \"scatter3d\"}], \"scattercarpet\": [{\"marker\": {\"colorbar\": {\"outlinewidth\": 0, \"ticks\": \"\"}}, \"type\": \"scattercarpet\"}], \"scattergeo\": [{\"marker\": {\"colorbar\": {\"outlinewidth\": 0, \"ticks\": \"\"}}, \"type\": \"scattergeo\"}], \"scattergl\": [{\"marker\": {\"colorbar\": {\"outlinewidth\": 0, \"ticks\": \"\"}}, \"type\": \"scattergl\"}], \"scattermapbox\": [{\"marker\": {\"colorbar\": {\"outlinewidth\": 0, \"ticks\": \"\"}}, \"type\": \"scattermapbox\"}], \"scatterpolar\": [{\"marker\": {\"colorbar\": {\"outlinewidth\": 0, \"ticks\": \"\"}}, \"type\": \"scatterpolar\"}], \"scatterpolargl\": [{\"marker\": {\"colorbar\": {\"outlinewidth\": 0, \"ticks\": \"\"}}, \"type\": \"scatterpolargl\"}], \"scatterternary\": [{\"marker\": {\"colorbar\": {\"outlinewidth\": 0, \"ticks\": \"\"}}, \"type\": \"scatterternary\"}], \"surface\": [{\"colorbar\": {\"outlinewidth\": 0, \"ticks\": \"\"}, \"colorscale\": [[0.0, \"#0d0887\"], [0.1111111111111111, \"#46039f\"], [0.2222222222222222, \"#7201a8\"], [0.3333333333333333, \"#9c179e\"], [0.4444444444444444, \"#bd3786\"], [0.5555555555555556, \"#d8576b\"], [0.6666666666666666, \"#ed7953\"], [0.7777777777777778, \"#fb9f3a\"], [0.8888888888888888, \"#fdca26\"], [1.0, \"#f0f921\"]], \"type\": \"surface\"}], \"table\": [{\"cells\": {\"fill\": {\"color\": \"#EBF0F8\"}, \"line\": {\"color\": \"white\"}}, \"header\": {\"fill\": {\"color\": \"#C8D4E3\"}, \"line\": {\"color\": \"white\"}}, \"type\": \"table\"}]}, \"layout\": {\"annotationdefaults\": {\"arrowcolor\": \"#2a3f5f\", \"arrowhead\": 0, \"arrowwidth\": 1}, \"coloraxis\": {\"colorbar\": {\"outlinewidth\": 0, \"ticks\": \"\"}}, \"colorscale\": {\"diverging\": [[0, \"#8e0152\"], [0.1, \"#c51b7d\"], [0.2, \"#de77ae\"], [0.3, \"#f1b6da\"], [0.4, \"#fde0ef\"], [0.5, \"#f7f7f7\"], [0.6, \"#e6f5d0\"], [0.7, \"#b8e186\"], [0.8, \"#7fbc41\"], [0.9, \"#4d9221\"], [1, \"#276419\"]], \"sequential\": [[0.0, \"#0d0887\"], [0.1111111111111111, \"#46039f\"], [0.2222222222222222, \"#7201a8\"], [0.3333333333333333, \"#9c179e\"], [0.4444444444444444, \"#bd3786\"], [0.5555555555555556, \"#d8576b\"], [0.6666666666666666, \"#ed7953\"], [0.7777777777777778, \"#fb9f3a\"], [0.8888888888888888, \"#fdca26\"], [1.0, \"#f0f921\"]], \"sequentialminus\": [[0.0, \"#0d0887\"], [0.1111111111111111, \"#46039f\"], [0.2222222222222222, \"#7201a8\"], [0.3333333333333333, \"#9c179e\"], [0.4444444444444444, \"#bd3786\"], [0.5555555555555556, \"#d8576b\"], [0.6666666666666666, \"#ed7953\"], [0.7777777777777778, \"#fb9f3a\"], [0.8888888888888888, \"#fdca26\"], [1.0, \"#f0f921\"]]}, \"colorway\": [\"#636efa\", \"#EF553B\", \"#00cc96\", \"#ab63fa\", \"#FFA15A\", \"#19d3f3\", \"#FF6692\", \"#B6E880\", \"#FF97FF\", \"#FECB52\"], \"font\": {\"color\": \"#2a3f5f\"}, \"geo\": {\"bgcolor\": \"white\", \"lakecolor\": \"white\", \"landcolor\": \"#E5ECF6\", \"showlakes\": true, \"showland\": true, \"subunitcolor\": \"white\"}, \"hoverlabel\": {\"align\": \"left\"}, \"hovermode\": \"closest\", \"mapbox\": {\"style\": \"light\"}, \"paper_bgcolor\": \"white\", \"plot_bgcolor\": \"#E5ECF6\", \"polar\": {\"angularaxis\": {\"gridcolor\": \"white\", \"linecolor\": \"white\", \"ticks\": \"\"}, \"bgcolor\": \"#E5ECF6\", \"radialaxis\": {\"gridcolor\": \"white\", \"linecolor\": \"white\", \"ticks\": \"\"}}, \"scene\": {\"xaxis\": {\"backgroundcolor\": \"#E5ECF6\", \"gridcolor\": \"white\", \"gridwidth\": 2, \"linecolor\": \"white\", \"showbackground\": true, \"ticks\": \"\", \"zerolinecolor\": \"white\"}, \"yaxis\": {\"backgroundcolor\": \"#E5ECF6\", \"gridcolor\": \"white\", \"gridwidth\": 2, \"linecolor\": \"white\", \"showbackground\": true, \"ticks\": \"\", \"zerolinecolor\": \"white\"}, \"zaxis\": {\"backgroundcolor\": \"#E5ECF6\", \"gridcolor\": \"white\", \"gridwidth\": 2, \"linecolor\": \"white\", \"showbackground\": true, \"ticks\": \"\", \"zerolinecolor\": \"white\"}}, \"shapedefaults\": {\"line\": {\"color\": \"#2a3f5f\"}}, \"ternary\": {\"aaxis\": {\"gridcolor\": \"white\", \"linecolor\": \"white\", \"ticks\": \"\"}, \"baxis\": {\"gridcolor\": \"white\", \"linecolor\": \"white\", \"ticks\": \"\"}, \"bgcolor\": \"#E5ECF6\", \"caxis\": {\"gridcolor\": \"white\", \"linecolor\": \"white\", \"ticks\": \"\"}}, \"title\": {\"x\": 0.05}, \"xaxis\": {\"automargin\": true, \"gridcolor\": \"white\", \"linecolor\": \"white\", \"ticks\": \"\", \"title\": {\"standoff\": 15}, \"zerolinecolor\": \"white\", \"zerolinewidth\": 2}, \"yaxis\": {\"automargin\": true, \"gridcolor\": \"white\", \"linecolor\": \"white\", \"ticks\": \"\", \"title\": {\"standoff\": 15}, \"zerolinecolor\": \"white\", \"zerolinewidth\": 2}}}},\n",
              "                        {\"responsive\": true}\n",
              "                    ).then(function(){\n",
              "                            \n",
              "var gd = document.getElementById('8eb2bca4-870a-430b-b3a6-b412088687f9');\n",
              "var x = new MutationObserver(function (mutations, observer) {{\n",
              "        var display = window.getComputedStyle(gd).display;\n",
              "        if (!display || display === 'none') {{\n",
              "            console.log([gd, 'removed!']);\n",
              "            Plotly.purge(gd);\n",
              "            observer.disconnect();\n",
              "        }}\n",
              "}});\n",
              "\n",
              "// Listen for the removal of the full notebook cells\n",
              "var notebookContainer = gd.closest('#notebook-container');\n",
              "if (notebookContainer) {{\n",
              "    x.observe(notebookContainer, {childList: true});\n",
              "}}\n",
              "\n",
              "// Listen for the clearing of the current output cell\n",
              "var outputEl = gd.closest('.output');\n",
              "if (outputEl) {{\n",
              "    x.observe(outputEl, {childList: true});\n",
              "}}\n",
              "\n",
              "                        })\n",
              "                };\n",
              "                \n",
              "            </script>\n",
              "        </div>\n",
              "</body>\n",
              "</html>"
            ]
          },
          "metadata": {
            "tags": []
          }
        }
      ]
    },
    {
      "cell_type": "markdown",
      "metadata": {
        "id": "D1Xu4OS-qd2a"
      },
      "source": [
        "now all together "
      ]
    },
    {
      "cell_type": "code",
      "metadata": {
        "colab": {
          "base_uri": "https://localhost:8080/",
          "height": 297
        },
        "id": "aOzN14-QqTlW",
        "outputId": "b7bb52e9-470b-4794-a68e-401cfc1e0758"
      },
      "source": [
        "## Title vs Price\n",
        "x = df.Title\n",
        "y = df.Price\n",
        "plt.xlabel('Title')\n",
        "plt.ylabel('Price')\n",
        "plt.scatter(x,y)"
      ],
      "execution_count": 91,
      "outputs": [
        {
          "output_type": "execute_result",
          "data": {
            "text/plain": [
              "<matplotlib.collections.PathCollection at 0x7fce1257d090>"
            ]
          },
          "metadata": {
            "tags": []
          },
          "execution_count": 91
        },
        {
          "output_type": "display_data",
          "data": {
            "image/png": "[encoded data removed]",
            "text/plain": [
              "<Figure size 432x288 with 1 Axes>"
            ]
          },
          "metadata": {
            "tags": [],
            "needs_background": "light"
          }
        }
      ]
    },
    {
      "cell_type": "code",
      "metadata": {
        "colab": {
          "base_uri": "https://localhost:8080/",
          "height": 296
        },
        "id": "_ZSZk2MoqgjF",
        "outputId": "0be7c8cc-920b-4348-953d-542a4c0d358c"
      },
      "source": [
        "## Rating vs Price\n",
        "x = df.Rating\n",
        "y = df.Price\n",
        "plt.xlabel('Rating')\n",
        "plt.ylabel('Price')\n",
        "plt.scatter(x,y)"
      ],
      "execution_count": 92,
      "outputs": [
        {
          "output_type": "execute_result",
          "data": {
            "text/plain": [
              "<matplotlib.collections.PathCollection at 0x7fce1226a890>"
            ]
          },
          "metadata": {
            "tags": []
          },
          "execution_count": 92
        },
        {
          "output_type": "display_data",
          "data": {
            "image/png": "[encoded data removed]",
            "text/plain": [
              "<Figure size 432x288 with 1 Axes>"
            ]
          },
          "metadata": {
            "tags": [],
            "needs_background": "light"
          }
        }
      ]
    },
    {
      "cell_type": "code",
      "metadata": {
        "colab": {
          "base_uri": "https://localhost:8080/",
          "height": 296
        },
        "id": "MYlZv4A2qkYf",
        "outputId": "52b05fde-d979-45b6-fc90-78e7dc798caf"
      },
      "source": [
        "## sold vs Price \n",
        "x = df.Sold\n",
        "y = df.Price\n",
        "plt.xlabel('Sold')\n",
        "plt.ylabel('Price')\n",
        "plt.scatter(x,y)"
      ],
      "execution_count": 93,
      "outputs": [
        {
          "output_type": "execute_result",
          "data": {
            "text/plain": [
              "<matplotlib.collections.PathCollection at 0x7fce1222c790>"
            ]
          },
          "metadata": {
            "tags": []
          },
          "execution_count": 93
        },
        {
          "output_type": "display_data",
          "data": {
            "image/png": "[encoded data removed]",
            "text/plain": [
              "<Figure size 432x288 with 1 Axes>"
            ]
          },
          "metadata": {
            "tags": [],
            "needs_background": "light"
          }
        }
      ]
    },
    {
      "cell_type": "code",
      "metadata": {
        "colab": {
          "base_uri": "https://localhost:8080/"
        },
        "id": "mbmChrYqqnMw",
        "outputId": "8d39da9c-2fbd-4a02-f4b7-e3d12dabb202"
      },
      "source": [
        "## how many unique category present for a feature\n",
        "\n",
        "len(df['Title'].unique())"
      ],
      "execution_count": 94,
      "outputs": [
        {
          "output_type": "execute_result",
          "data": {
            "text/plain": [
              "240"
            ]
          },
          "metadata": {
            "tags": []
          },
          "execution_count": 94
        }
      ]
    },
    {
      "cell_type": "markdown",
      "metadata": {
        "id": "fMw_nvKfqxmP"
      },
      "source": [
        "As Title contains catecogical feature model will not understand that .\n",
        "\n",
        "So doing one hot encoding to make it numeric. But as we have many categories of a same feature this will lead to accuracy issue for the model.\n",
        "\n",
        "So taking the top 20 mose frequent featurers for model prediction"
      ]
    },
    {
      "cell_type": "code",
      "metadata": {
        "colab": {
          "base_uri": "https://localhost:8080/"
        },
        "id": "KGyKWvFXqq1R",
        "outputId": "272dbe9a-73cd-4a36-941c-93e6f314ffe3"
      },
      "source": [
        "### getting the to 20 most frequent category for the variable Title\n",
        "\n",
        "df.Title.value_counts().sort_values(ascending=False).head(20)"
      ],
      "execution_count": 95,
      "outputs": [
        {
          "output_type": "execute_result",
          "data": {
            "text/plain": [
              "New ListingVintage Duval Swiss manual wind date Watch Working                                  8\n",
              "Mens Automatic Mechanical Watch Date Day Silver White Blue Leather Deployant                   2\n",
              "New ListingOMEGA SPEEDMASTER 3513.50 AUTOMATIC CHRONOGRAPH BLACK MENS STEEL DATE WATCH         2\n",
              "New ListingSEIKO KINETIC Automatic Quartz Mens Stainless Steel Wristwatch 5M62-OCXO            2\n",
              "New Baume & Mercier Clifton Automatic Limited Edition Indian Men's Watch 10402                 2\n",
              "New ListingFossil NIT MENS New RUNNING WATCH FS-2445                                           2\n",
              "Invicta Men's Watch Speedway Chronograph Quartz Diver Stainless Bracelet 17023                 2\n",
              "New ListingVTG Seiko 5Y30-7009 Men Ultra Thin Gold Tone Analog Quartz Watch Hour~New Batter    2\n",
              "New Listing$3750 DAVID YURMAN 14K GOLD CASE , SS CABLE WATCH                                   2\n",
              "New ListingHamilton LL Bean Vintage 24hr Military Pilot/Field Watch 9931 Swiss 7j ETA 955      2\n",
              "New ListingTen Beats Men Lady 30m Green Black Rubber Analog Quartz Watch Hours~New Battery     2\n",
              "New ListingRADO DIASTAR DAY DATE SEALED AUTOMATIC MEN'S EXCELLENT WRIST WATCH.                 1\n",
              "New ListingFERO FEIDMANN 17J GOLD TONE BLUE CLOISONNE 22mm BALL PENDANT WATCH - RUNS           1\n",
              "New ListingVintage NINE WEST Black-Dial Silver-Tone Case Women's Watch                         1\n",
              "New ListingCitizen Diamond Accent Eco Drive Date Watch Gold Tone                               1\n",
              "Mens Silver Bridge Manual Mechanical Watch - Stainless Steel DIASTERIA 1688W                   1\n",
              "GENUINE SEIKO (SII) NH35/NH35A AUTOMATIC WATCH MOVEMENT DATE 3 W/WHITE DATE NEW                1\n",
              "AXEL QUARTZ watch, silver bracelet green face                                                  1\n",
              "New ListingZenith Defy Automatic                                                               1\n",
              "Mens Automatic Mechanical Date Watch Silver White Dial Blue Leather Deployant                  1\n",
              "Name: Title, dtype: int64"
            ]
          },
          "metadata": {
            "tags": []
          },
          "execution_count": 95
        }
      ]
    },
    {
      "cell_type": "code",
      "metadata": {
        "colab": {
          "base_uri": "https://localhost:8080/"
        },
        "id": "uPTU4vvTrh_d",
        "outputId": "a977c3ee-fecc-49c3-bacd-b8fc0acc8770"
      },
      "source": [
        "## making a list with top 20 categories of a variable \n",
        "\n",
        "top_20 = [ x for x in df.Title.value_counts().sort_values(ascending=False).head(20).index]\n",
        "top_20"
      ],
      "execution_count": 96,
      "outputs": [
        {
          "output_type": "execute_result",
          "data": {
            "text/plain": [
              "['New ListingVintage Duval Swiss manual wind date Watch Working',\n",
              " 'Mens Automatic Mechanical Watch Date Day Silver White Blue Leather Deployant',\n",
              " 'New ListingOMEGA SPEEDMASTER 3513.50 AUTOMATIC CHRONOGRAPH BLACK MENS STEEL DATE WATCH',\n",
              " 'New ListingSEIKO KINETIC Automatic Quartz Mens Stainless Steel Wristwatch 5M62-OCXO',\n",
              " \"New Baume & Mercier Clifton Automatic Limited Edition Indian Men's Watch 10402\",\n",
              " 'New ListingFossil NIT MENS New RUNNING WATCH FS-2445',\n",
              " \"Invicta Men's Watch Speedway Chronograph Quartz Diver Stainless Bracelet 17023\",\n",
              " 'New ListingVTG Seiko 5Y30-7009 Men Ultra Thin Gold Tone Analog Quartz Watch Hour~New Batter',\n",
              " 'New Listing$3750 DAVID YURMAN 14K GOLD CASE , SS CABLE WATCH ',\n",
              " 'New ListingHamilton LL Bean Vintage 24hr Military Pilot/Field Watch 9931 Swiss 7j ETA 955',\n",
              " 'New ListingTen Beats Men Lady 30m Green Black Rubber Analog Quartz Watch Hours~New Battery',\n",
              " \"New ListingRADO DIASTAR DAY DATE SEALED AUTOMATIC MEN'S EXCELLENT WRIST WATCH.\",\n",
              " 'New ListingFERO FEIDMANN 17J GOLD TONE BLUE CLOISONNE 22mm BALL PENDANT WATCH - RUNS',\n",
              " \"New ListingVintage NINE WEST Black-Dial Silver-Tone Case Women's Watch\",\n",
              " 'New ListingCitizen Diamond Accent Eco Drive Date Watch Gold Tone ',\n",
              " 'Mens Silver Bridge Manual Mechanical Watch - Stainless Steel DIASTERIA 1688W',\n",
              " 'GENUINE SEIKO (SII) NH35/NH35A AUTOMATIC WATCH MOVEMENT DATE 3 W/WHITE DATE NEW',\n",
              " 'AXEL QUARTZ watch, silver bracelet green face  ',\n",
              " 'New ListingZenith Defy Automatic',\n",
              " 'Mens Automatic Mechanical Date Watch Silver White Dial Blue Leather Deployant']"
            ]
          },
          "metadata": {
            "tags": []
          },
          "execution_count": 96
        }
      ]
    },
    {
      "cell_type": "code",
      "metadata": {
        "id": "GINDu2t4rlAT"
      },
      "source": [
        "## making 20 binary variables for that categories\n",
        "\n",
        "for label in top_20:\n",
        "  df[label]=np.where(df['Title'] == label, 1, 0)\n",
        "\n",
        "df1 = df[['Title'] + top_20]"
      ],
      "execution_count": 97,
      "outputs": []
    },
    {
      "cell_type": "code",
      "metadata": {
        "colab": {
          "base_uri": "https://localhost:8080/"
        },
        "id": "xJK1Yw-Frovm",
        "outputId": "1c96e88c-afd3-4d9d-9566-d1b85ac7c449"
      },
      "source": [
        "df1.drop('Title',axis=1,inplace=True)"
      ],
      "execution_count": 98,
      "outputs": [
        {
          "output_type": "stream",
          "text": [
            "/usr/local/lib/python3.7/dist-packages/pandas/core/frame.py:4174: SettingWithCopyWarning:\n",
            "\n",
            "\n",
            "A value is trying to be set on a copy of a slice from a DataFrame\n",
            "\n",
            "See the caveats in the documentation: https://pandas.pydata.org/pandas-docs/stable/user_guide/indexing.html#returning-a-view-versus-a-copy\n",
            "\n"
          ],
          "name": "stderr"
        }
      ]
    },
    {
      "cell_type": "code",
      "metadata": {
        "colab": {
          "base_uri": "https://localhost:8080/"
        },
        "id": "-aDhsDRmrtxT",
        "outputId": "41ad0f4f-d603-4573-8d8b-777baf790b91"
      },
      "source": [
        "df1.shape"
      ],
      "execution_count": 99,
      "outputs": [
        {
          "output_type": "execute_result",
          "data": {
            "text/plain": [
              "(257, 20)"
            ]
          },
          "metadata": {
            "tags": []
          },
          "execution_count": 99
        }
      ]
    },
    {
      "cell_type": "code",
      "metadata": {
        "id": "T4qcJ08crwkP"
      },
      "source": [
        "new_df=pd.concat([df1,df],axis=1)"
      ],
      "execution_count": 100,
      "outputs": []
    },
    {
      "cell_type": "code",
      "metadata": {
        "colab": {
          "base_uri": "https://localhost:8080/",
          "height": 471
        },
        "id": "DE_vH6xyr1Up",
        "outputId": "c6d4abf5-a429-4f65-d112-c69eaf1ae51d"
      },
      "source": [
        "new_df.head(2)"
      ],
      "execution_count": 101,
      "outputs": [
        {
          "output_type": "execute_result",
          "data": {
            "text/html": [
              "<div>\n",
              "<style scoped>\n",
              "    .dataframe tbody tr th:only-of-type {\n",
              "        vertical-align: middle;\n",
              "    }\n",
              "\n",
              "    .dataframe tbody tr th {\n",
              "        vertical-align: top;\n",
              "    }\n",
              "\n",
              "    .dataframe thead th {\n",
              "        text-align: right;\n",
              "    }\n",
              "</style>\n",
              "<table border=\"1\" class=\"dataframe\">\n",
              "  <thead>\n",
              "    <tr style=\"text-align: right;\">\n",
              "      <th></th>\n",
              "      <th>New ListingVintage Duval Swiss manual wind date Watch Working</th>\n",
              "      <th>Mens Automatic Mechanical Watch Date Day Silver White Blue Leather Deployant</th>\n",
              "      <th>New ListingOMEGA SPEEDMASTER 3513.50 AUTOMATIC CHRONOGRAPH BLACK MENS STEEL DATE WATCH</th>\n",
              "      <th>New ListingSEIKO KINETIC Automatic Quartz Mens Stainless Steel Wristwatch 5M62-OCXO</th>\n",
              "      <th>New Baume &amp; Mercier Clifton Automatic Limited Edition Indian Men's Watch 10402</th>\n",
              "      <th>New ListingFossil NIT MENS New RUNNING WATCH FS-2445</th>\n",
              "      <th>Invicta Men's Watch Speedway Chronograph Quartz Diver Stainless Bracelet 17023</th>\n",
              "      <th>New ListingVTG Seiko 5Y30-7009 Men Ultra Thin Gold Tone Analog Quartz Watch Hour~New Batter</th>\n",
              "      <th>New Listing$3750 DAVID YURMAN 14K GOLD CASE , SS CABLE WATCH</th>\n",
              "      <th>New ListingHamilton LL Bean Vintage 24hr Military Pilot/Field Watch 9931 Swiss 7j ETA 955</th>\n",
              "      <th>New ListingTen Beats Men Lady 30m Green Black Rubber Analog Quartz Watch Hours~New Battery</th>\n",
              "      <th>New ListingRADO DIASTAR DAY DATE SEALED AUTOMATIC MEN'S EXCELLENT WRIST WATCH.</th>\n",
              "      <th>New ListingFERO FEIDMANN 17J GOLD TONE BLUE CLOISONNE 22mm BALL PENDANT WATCH - RUNS</th>\n",
              "      <th>New ListingVintage NINE WEST Black-Dial Silver-Tone Case Women's Watch</th>\n",
              "      <th>New ListingCitizen Diamond Accent Eco Drive Date Watch Gold Tone</th>\n",
              "      <th>Mens Silver Bridge Manual Mechanical Watch - Stainless Steel DIASTERIA 1688W</th>\n",
              "      <th>GENUINE SEIKO (SII) NH35/NH35A AUTOMATIC WATCH MOVEMENT DATE 3 W/WHITE DATE NEW</th>\n",
              "      <th>AXEL QUARTZ watch, silver bracelet green face</th>\n",
              "      <th>New ListingZenith Defy Automatic</th>\n",
              "      <th>Mens Automatic Mechanical Date Watch Silver White Dial Blue Leather Deployant</th>\n",
              "      <th>Title</th>\n",
              "      <th>Price</th>\n",
              "      <th>Rating</th>\n",
              "      <th>Sold</th>\n",
              "      <th>New ListingVintage Duval Swiss manual wind date Watch Working</th>\n",
              "      <th>Mens Automatic Mechanical Watch Date Day Silver White Blue Leather Deployant</th>\n",
              "      <th>New ListingOMEGA SPEEDMASTER 3513.50 AUTOMATIC CHRONOGRAPH BLACK MENS STEEL DATE WATCH</th>\n",
              "      <th>New ListingSEIKO KINETIC Automatic Quartz Mens Stainless Steel Wristwatch 5M62-OCXO</th>\n",
              "      <th>New Baume &amp; Mercier Clifton Automatic Limited Edition Indian Men's Watch 10402</th>\n",
              "      <th>New ListingFossil NIT MENS New RUNNING WATCH FS-2445</th>\n",
              "      <th>Invicta Men's Watch Speedway Chronograph Quartz Diver Stainless Bracelet 17023</th>\n",
              "      <th>New ListingVTG Seiko 5Y30-7009 Men Ultra Thin Gold Tone Analog Quartz Watch Hour~New Batter</th>\n",
              "      <th>New Listing$3750 DAVID YURMAN 14K GOLD CASE , SS CABLE WATCH</th>\n",
              "      <th>New ListingHamilton LL Bean Vintage 24hr Military Pilot/Field Watch 9931 Swiss 7j ETA 955</th>\n",
              "      <th>New ListingTen Beats Men Lady 30m Green Black Rubber Analog Quartz Watch Hours~New Battery</th>\n",
              "      <th>New ListingRADO DIASTAR DAY DATE SEALED AUTOMATIC MEN'S EXCELLENT WRIST WATCH.</th>\n",
              "      <th>New ListingFERO FEIDMANN 17J GOLD TONE BLUE CLOISONNE 22mm BALL PENDANT WATCH - RUNS</th>\n",
              "      <th>New ListingVintage NINE WEST Black-Dial Silver-Tone Case Women's Watch</th>\n",
              "      <th>New ListingCitizen Diamond Accent Eco Drive Date Watch Gold Tone</th>\n",
              "      <th>Mens Silver Bridge Manual Mechanical Watch - Stainless Steel DIASTERIA 1688W</th>\n",
              "      <th>GENUINE SEIKO (SII) NH35/NH35A AUTOMATIC WATCH MOVEMENT DATE 3 W/WHITE DATE NEW</th>\n",
              "      <th>AXEL QUARTZ watch, silver bracelet green face</th>\n",
              "      <th>New ListingZenith Defy Automatic</th>\n",
              "      <th>Mens Automatic Mechanical Date Watch Silver White Dial Blue Leather Deployant</th>\n",
              "    </tr>\n",
              "  </thead>\n",
              "  <tbody>\n",
              "    <tr>\n",
              "      <th>0</th>\n",
              "      <td>1</td>\n",
              "      <td>0</td>\n",
              "      <td>0</td>\n",
              "      <td>0</td>\n",
              "      <td>0</td>\n",
              "      <td>0</td>\n",
              "      <td>0</td>\n",
              "      <td>0</td>\n",
              "      <td>0</td>\n",
              "      <td>0</td>\n",
              "      <td>0</td>\n",
              "      <td>0</td>\n",
              "      <td>0</td>\n",
              "      <td>0</td>\n",
              "      <td>0</td>\n",
              "      <td>0</td>\n",
              "      <td>0</td>\n",
              "      <td>0</td>\n",
              "      <td>0</td>\n",
              "      <td>0</td>\n",
              "      <td>New ListingVintage Duval Swiss manual wind dat...</td>\n",
              "      <td>68.95</td>\n",
              "      <td>6326323.0</td>\n",
              "      <td>135</td>\n",
              "      <td>1</td>\n",
              "      <td>0</td>\n",
              "      <td>0</td>\n",
              "      <td>0</td>\n",
              "      <td>0</td>\n",
              "      <td>0</td>\n",
              "      <td>0</td>\n",
              "      <td>0</td>\n",
              "      <td>0</td>\n",
              "      <td>0</td>\n",
              "      <td>0</td>\n",
              "      <td>0</td>\n",
              "      <td>0</td>\n",
              "      <td>0</td>\n",
              "      <td>0</td>\n",
              "      <td>0</td>\n",
              "      <td>0</td>\n",
              "      <td>0</td>\n",
              "      <td>0</td>\n",
              "      <td>0</td>\n",
              "    </tr>\n",
              "    <tr>\n",
              "      <th>1</th>\n",
              "      <td>0</td>\n",
              "      <td>0</td>\n",
              "      <td>0</td>\n",
              "      <td>0</td>\n",
              "      <td>0</td>\n",
              "      <td>0</td>\n",
              "      <td>0</td>\n",
              "      <td>0</td>\n",
              "      <td>0</td>\n",
              "      <td>0</td>\n",
              "      <td>0</td>\n",
              "      <td>0</td>\n",
              "      <td>0</td>\n",
              "      <td>0</td>\n",
              "      <td>0</td>\n",
              "      <td>0</td>\n",
              "      <td>0</td>\n",
              "      <td>0</td>\n",
              "      <td>0</td>\n",
              "      <td>0</td>\n",
              "      <td>Mens Dual Time Flywheel Automatic Mechanical W...</td>\n",
              "      <td>59.94</td>\n",
              "      <td>169204.0</td>\n",
              "      <td>134</td>\n",
              "      <td>0</td>\n",
              "      <td>0</td>\n",
              "      <td>0</td>\n",
              "      <td>0</td>\n",
              "      <td>0</td>\n",
              "      <td>0</td>\n",
              "      <td>0</td>\n",
              "      <td>0</td>\n",
              "      <td>0</td>\n",
              "      <td>0</td>\n",
              "      <td>0</td>\n",
              "      <td>0</td>\n",
              "      <td>0</td>\n",
              "      <td>0</td>\n",
              "      <td>0</td>\n",
              "      <td>0</td>\n",
              "      <td>0</td>\n",
              "      <td>0</td>\n",
              "      <td>0</td>\n",
              "      <td>0</td>\n",
              "    </tr>\n",
              "  </tbody>\n",
              "</table>\n",
              "</div>"
            ],
            "text/plain": [
              "   New ListingVintage Duval Swiss manual wind date Watch Working  ...  Mens Automatic Mechanical Date Watch Silver White Dial Blue Leather Deployant\n",
              "0                                                  1              ...                                                  0                            \n",
              "1                                                  0              ...                                                  0                            \n",
              "\n",
              "[2 rows x 44 columns]"
            ]
          },
          "metadata": {
            "tags": []
          },
          "execution_count": 101
        }
      ]
    },
    {
      "cell_type": "code",
      "metadata": {
        "colab": {
          "base_uri": "https://localhost:8080/"
        },
        "id": "uZotBOutr4xj",
        "outputId": "37c4ba03-ff93-40a4-c4e3-2502bbe0c089"
      },
      "source": [
        "y=new_df['Price']\n",
        "y.head()"
      ],
      "execution_count": 102,
      "outputs": [
        {
          "output_type": "execute_result",
          "data": {
            "text/plain": [
              "0    68.95\n",
              "1    59.94\n",
              "2    49.99\n",
              "3    78.99\n",
              "4    48.98\n",
              "Name: Price, dtype: float64"
            ]
          },
          "metadata": {
            "tags": []
          },
          "execution_count": 102
        }
      ]
    },
    {
      "cell_type": "code",
      "metadata": {
        "id": "cjDf6Jogr8UX"
      },
      "source": [
        "new_df.drop('Price',axis=1,inplace=True)"
      ],
      "execution_count": 103,
      "outputs": []
    },
    {
      "cell_type": "code",
      "metadata": {
        "id": "N7O6EsgZsAav"
      },
      "source": [
        "new_df.drop('Title',axis=1,inplace=True)"
      ],
      "execution_count": 104,
      "outputs": []
    },
    {
      "cell_type": "code",
      "metadata": {
        "colab": {
          "base_uri": "https://localhost:8080/",
          "height": 411
        },
        "id": "O3BCBiIWsCbq",
        "outputId": "59c9c684-2420-47d0-e494-e9653c345c7c"
      },
      "source": [
        "x=new_df\n",
        "x.tail()"
      ],
      "execution_count": 105,
      "outputs": [
        {
          "output_type": "execute_result",
          "data": {
            "text/html": [
              "<div>\n",
              "<style scoped>\n",
              "    .dataframe tbody tr th:only-of-type {\n",
              "        vertical-align: middle;\n",
              "    }\n",
              "\n",
              "    .dataframe tbody tr th {\n",
              "        vertical-align: top;\n",
              "    }\n",
              "\n",
              "    .dataframe thead th {\n",
              "        text-align: right;\n",
              "    }\n",
              "</style>\n",
              "<table border=\"1\" class=\"dataframe\">\n",
              "  <thead>\n",
              "    <tr style=\"text-align: right;\">\n",
              "      <th></th>\n",
              "      <th>New ListingVintage Duval Swiss manual wind date Watch Working</th>\n",
              "      <th>Mens Automatic Mechanical Watch Date Day Silver White Blue Leather Deployant</th>\n",
              "      <th>New ListingOMEGA SPEEDMASTER 3513.50 AUTOMATIC CHRONOGRAPH BLACK MENS STEEL DATE WATCH</th>\n",
              "      <th>New ListingSEIKO KINETIC Automatic Quartz Mens Stainless Steel Wristwatch 5M62-OCXO</th>\n",
              "      <th>New Baume &amp; Mercier Clifton Automatic Limited Edition Indian Men's Watch 10402</th>\n",
              "      <th>New ListingFossil NIT MENS New RUNNING WATCH FS-2445</th>\n",
              "      <th>Invicta Men's Watch Speedway Chronograph Quartz Diver Stainless Bracelet 17023</th>\n",
              "      <th>New ListingVTG Seiko 5Y30-7009 Men Ultra Thin Gold Tone Analog Quartz Watch Hour~New Batter</th>\n",
              "      <th>New Listing$3750 DAVID YURMAN 14K GOLD CASE , SS CABLE WATCH</th>\n",
              "      <th>New ListingHamilton LL Bean Vintage 24hr Military Pilot/Field Watch 9931 Swiss 7j ETA 955</th>\n",
              "      <th>New ListingTen Beats Men Lady 30m Green Black Rubber Analog Quartz Watch Hours~New Battery</th>\n",
              "      <th>New ListingRADO DIASTAR DAY DATE SEALED AUTOMATIC MEN'S EXCELLENT WRIST WATCH.</th>\n",
              "      <th>New ListingFERO FEIDMANN 17J GOLD TONE BLUE CLOISONNE 22mm BALL PENDANT WATCH - RUNS</th>\n",
              "      <th>New ListingVintage NINE WEST Black-Dial Silver-Tone Case Women's Watch</th>\n",
              "      <th>New ListingCitizen Diamond Accent Eco Drive Date Watch Gold Tone</th>\n",
              "      <th>Mens Silver Bridge Manual Mechanical Watch - Stainless Steel DIASTERIA 1688W</th>\n",
              "      <th>GENUINE SEIKO (SII) NH35/NH35A AUTOMATIC WATCH MOVEMENT DATE 3 W/WHITE DATE NEW</th>\n",
              "      <th>AXEL QUARTZ watch, silver bracelet green face</th>\n",
              "      <th>New ListingZenith Defy Automatic</th>\n",
              "      <th>Mens Automatic Mechanical Date Watch Silver White Dial Blue Leather Deployant</th>\n",
              "      <th>Rating</th>\n",
              "      <th>Sold</th>\n",
              "      <th>New ListingVintage Duval Swiss manual wind date Watch Working</th>\n",
              "      <th>Mens Automatic Mechanical Watch Date Day Silver White Blue Leather Deployant</th>\n",
              "      <th>New ListingOMEGA SPEEDMASTER 3513.50 AUTOMATIC CHRONOGRAPH BLACK MENS STEEL DATE WATCH</th>\n",
              "      <th>New ListingSEIKO KINETIC Automatic Quartz Mens Stainless Steel Wristwatch 5M62-OCXO</th>\n",
              "      <th>New Baume &amp; Mercier Clifton Automatic Limited Edition Indian Men's Watch 10402</th>\n",
              "      <th>New ListingFossil NIT MENS New RUNNING WATCH FS-2445</th>\n",
              "      <th>Invicta Men's Watch Speedway Chronograph Quartz Diver Stainless Bracelet 17023</th>\n",
              "      <th>New ListingVTG Seiko 5Y30-7009 Men Ultra Thin Gold Tone Analog Quartz Watch Hour~New Batter</th>\n",
              "      <th>New Listing$3750 DAVID YURMAN 14K GOLD CASE , SS CABLE WATCH</th>\n",
              "      <th>New ListingHamilton LL Bean Vintage 24hr Military Pilot/Field Watch 9931 Swiss 7j ETA 955</th>\n",
              "      <th>New ListingTen Beats Men Lady 30m Green Black Rubber Analog Quartz Watch Hours~New Battery</th>\n",
              "      <th>New ListingRADO DIASTAR DAY DATE SEALED AUTOMATIC MEN'S EXCELLENT WRIST WATCH.</th>\n",
              "      <th>New ListingFERO FEIDMANN 17J GOLD TONE BLUE CLOISONNE 22mm BALL PENDANT WATCH - RUNS</th>\n",
              "      <th>New ListingVintage NINE WEST Black-Dial Silver-Tone Case Women's Watch</th>\n",
              "      <th>New ListingCitizen Diamond Accent Eco Drive Date Watch Gold Tone</th>\n",
              "      <th>Mens Silver Bridge Manual Mechanical Watch - Stainless Steel DIASTERIA 1688W</th>\n",
              "      <th>GENUINE SEIKO (SII) NH35/NH35A AUTOMATIC WATCH MOVEMENT DATE 3 W/WHITE DATE NEW</th>\n",
              "      <th>AXEL QUARTZ watch, silver bracelet green face</th>\n",
              "      <th>New ListingZenith Defy Automatic</th>\n",
              "      <th>Mens Automatic Mechanical Date Watch Silver White Dial Blue Leather Deployant</th>\n",
              "    </tr>\n",
              "  </thead>\n",
              "  <tbody>\n",
              "    <tr>\n",
              "      <th>252</th>\n",
              "      <td>0</td>\n",
              "      <td>0</td>\n",
              "      <td>0</td>\n",
              "      <td>0</td>\n",
              "      <td>0</td>\n",
              "      <td>0</td>\n",
              "      <td>0</td>\n",
              "      <td>0</td>\n",
              "      <td>0</td>\n",
              "      <td>0</td>\n",
              "      <td>0</td>\n",
              "      <td>0</td>\n",
              "      <td>0</td>\n",
              "      <td>0</td>\n",
              "      <td>0</td>\n",
              "      <td>0</td>\n",
              "      <td>0</td>\n",
              "      <td>0</td>\n",
              "      <td>0</td>\n",
              "      <td>0</td>\n",
              "      <td>2.601154e+16</td>\n",
              "      <td>197</td>\n",
              "      <td>0</td>\n",
              "      <td>0</td>\n",
              "      <td>0</td>\n",
              "      <td>0</td>\n",
              "      <td>0</td>\n",
              "      <td>0</td>\n",
              "      <td>0</td>\n",
              "      <td>0</td>\n",
              "      <td>0</td>\n",
              "      <td>0</td>\n",
              "      <td>0</td>\n",
              "      <td>0</td>\n",
              "      <td>0</td>\n",
              "      <td>0</td>\n",
              "      <td>0</td>\n",
              "      <td>0</td>\n",
              "      <td>0</td>\n",
              "      <td>0</td>\n",
              "      <td>0</td>\n",
              "      <td>0</td>\n",
              "    </tr>\n",
              "    <tr>\n",
              "      <th>253</th>\n",
              "      <td>0</td>\n",
              "      <td>0</td>\n",
              "      <td>0</td>\n",
              "      <td>0</td>\n",
              "      <td>0</td>\n",
              "      <td>0</td>\n",
              "      <td>0</td>\n",
              "      <td>0</td>\n",
              "      <td>0</td>\n",
              "      <td>0</td>\n",
              "      <td>0</td>\n",
              "      <td>0</td>\n",
              "      <td>0</td>\n",
              "      <td>0</td>\n",
              "      <td>0</td>\n",
              "      <td>0</td>\n",
              "      <td>0</td>\n",
              "      <td>0</td>\n",
              "      <td>0</td>\n",
              "      <td>0</td>\n",
              "      <td>2.601154e+16</td>\n",
              "      <td>197</td>\n",
              "      <td>0</td>\n",
              "      <td>0</td>\n",
              "      <td>0</td>\n",
              "      <td>0</td>\n",
              "      <td>0</td>\n",
              "      <td>0</td>\n",
              "      <td>0</td>\n",
              "      <td>0</td>\n",
              "      <td>0</td>\n",
              "      <td>0</td>\n",
              "      <td>0</td>\n",
              "      <td>0</td>\n",
              "      <td>0</td>\n",
              "      <td>0</td>\n",
              "      <td>0</td>\n",
              "      <td>0</td>\n",
              "      <td>0</td>\n",
              "      <td>0</td>\n",
              "      <td>0</td>\n",
              "      <td>0</td>\n",
              "    </tr>\n",
              "    <tr>\n",
              "      <th>254</th>\n",
              "      <td>0</td>\n",
              "      <td>0</td>\n",
              "      <td>0</td>\n",
              "      <td>0</td>\n",
              "      <td>0</td>\n",
              "      <td>0</td>\n",
              "      <td>0</td>\n",
              "      <td>0</td>\n",
              "      <td>0</td>\n",
              "      <td>0</td>\n",
              "      <td>0</td>\n",
              "      <td>0</td>\n",
              "      <td>0</td>\n",
              "      <td>0</td>\n",
              "      <td>0</td>\n",
              "      <td>0</td>\n",
              "      <td>0</td>\n",
              "      <td>0</td>\n",
              "      <td>0</td>\n",
              "      <td>0</td>\n",
              "      <td>2.601154e+16</td>\n",
              "      <td>197</td>\n",
              "      <td>0</td>\n",
              "      <td>0</td>\n",
              "      <td>0</td>\n",
              "      <td>0</td>\n",
              "      <td>0</td>\n",
              "      <td>0</td>\n",
              "      <td>0</td>\n",
              "      <td>0</td>\n",
              "      <td>0</td>\n",
              "      <td>0</td>\n",
              "      <td>0</td>\n",
              "      <td>0</td>\n",
              "      <td>0</td>\n",
              "      <td>0</td>\n",
              "      <td>0</td>\n",
              "      <td>0</td>\n",
              "      <td>0</td>\n",
              "      <td>0</td>\n",
              "      <td>0</td>\n",
              "      <td>0</td>\n",
              "    </tr>\n",
              "    <tr>\n",
              "      <th>255</th>\n",
              "      <td>0</td>\n",
              "      <td>0</td>\n",
              "      <td>0</td>\n",
              "      <td>0</td>\n",
              "      <td>0</td>\n",
              "      <td>0</td>\n",
              "      <td>0</td>\n",
              "      <td>0</td>\n",
              "      <td>0</td>\n",
              "      <td>0</td>\n",
              "      <td>0</td>\n",
              "      <td>0</td>\n",
              "      <td>0</td>\n",
              "      <td>0</td>\n",
              "      <td>0</td>\n",
              "      <td>0</td>\n",
              "      <td>0</td>\n",
              "      <td>0</td>\n",
              "      <td>0</td>\n",
              "      <td>0</td>\n",
              "      <td>2.601154e+16</td>\n",
              "      <td>197</td>\n",
              "      <td>0</td>\n",
              "      <td>0</td>\n",
              "      <td>0</td>\n",
              "      <td>0</td>\n",
              "      <td>0</td>\n",
              "      <td>0</td>\n",
              "      <td>0</td>\n",
              "      <td>0</td>\n",
              "      <td>0</td>\n",
              "      <td>0</td>\n",
              "      <td>0</td>\n",
              "      <td>0</td>\n",
              "      <td>0</td>\n",
              "      <td>0</td>\n",
              "      <td>0</td>\n",
              "      <td>0</td>\n",
              "      <td>0</td>\n",
              "      <td>0</td>\n",
              "      <td>0</td>\n",
              "      <td>0</td>\n",
              "    </tr>\n",
              "    <tr>\n",
              "      <th>256</th>\n",
              "      <td>0</td>\n",
              "      <td>0</td>\n",
              "      <td>0</td>\n",
              "      <td>0</td>\n",
              "      <td>0</td>\n",
              "      <td>0</td>\n",
              "      <td>0</td>\n",
              "      <td>0</td>\n",
              "      <td>0</td>\n",
              "      <td>0</td>\n",
              "      <td>0</td>\n",
              "      <td>0</td>\n",
              "      <td>0</td>\n",
              "      <td>0</td>\n",
              "      <td>0</td>\n",
              "      <td>0</td>\n",
              "      <td>0</td>\n",
              "      <td>0</td>\n",
              "      <td>0</td>\n",
              "      <td>0</td>\n",
              "      <td>2.601154e+16</td>\n",
              "      <td>197</td>\n",
              "      <td>0</td>\n",
              "      <td>0</td>\n",
              "      <td>0</td>\n",
              "      <td>0</td>\n",
              "      <td>0</td>\n",
              "      <td>0</td>\n",
              "      <td>0</td>\n",
              "      <td>0</td>\n",
              "      <td>0</td>\n",
              "      <td>0</td>\n",
              "      <td>0</td>\n",
              "      <td>0</td>\n",
              "      <td>0</td>\n",
              "      <td>0</td>\n",
              "      <td>0</td>\n",
              "      <td>0</td>\n",
              "      <td>0</td>\n",
              "      <td>0</td>\n",
              "      <td>0</td>\n",
              "      <td>0</td>\n",
              "    </tr>\n",
              "  </tbody>\n",
              "</table>\n",
              "</div>"
            ],
            "text/plain": [
              "     New ListingVintage Duval Swiss manual wind date Watch Working  ...  Mens Automatic Mechanical Date Watch Silver White Dial Blue Leather Deployant\n",
              "252                                                  0              ...                                                  0                            \n",
              "253                                                  0              ...                                                  0                            \n",
              "254                                                  0              ...                                                  0                            \n",
              "255                                                  0              ...                                                  0                            \n",
              "256                                                  0              ...                                                  0                            \n",
              "\n",
              "[5 rows x 42 columns]"
            ]
          },
          "metadata": {
            "tags": []
          },
          "execution_count": 105
        }
      ]
    },
    {
      "cell_type": "markdown",
      "metadata": {
        "id": "bttbCa-msJAj"
      },
      "source": [
        "Making model"
      ]
    },
    {
      "cell_type": "code",
      "metadata": {
        "id": "bgDs8QV6sEvs"
      },
      "source": [
        "from sklearn.model_selection import train_test_split\n",
        "\n",
        "x_train,x_test,y_train,y_test = train_test_split(x,y,test_size=0.05)"
      ],
      "execution_count": 106,
      "outputs": []
    },
    {
      "cell_type": "code",
      "metadata": {
        "colab": {
          "base_uri": "https://localhost:8080/"
        },
        "id": "I-_J4akUsLB-",
        "outputId": "8d4720d3-b6ae-427f-c08f-2a02843ab952"
      },
      "source": [
        "from sklearn.linear_model import LinearRegression\n",
        "regression=LinearRegression()\n",
        "\n",
        "regression.fit(x_train,y_train)"
      ],
      "execution_count": 107,
      "outputs": [
        {
          "output_type": "execute_result",
          "data": {
            "text/plain": [
              "LinearRegression(copy_X=True, fit_intercept=True, n_jobs=None, normalize=False)"
            ]
          },
          "metadata": {
            "tags": []
          },
          "execution_count": 107
        }
      ]
    },
    {
      "cell_type": "code",
      "metadata": {
        "id": "7ulDVYVYsNVm"
      },
      "source": [
        "y_pred=regression.predict(x_test)"
      ],
      "execution_count": 108,
      "outputs": []
    },
    {
      "cell_type": "code",
      "metadata": {
        "colab": {
          "base_uri": "https://localhost:8080/",
          "height": 659
        },
        "id": "MOuoBFR7sPnc",
        "outputId": "a1d8d7cc-6d65-46b4-e333-1531119b13e5"
      },
      "source": [
        "x_test"
      ],
      "execution_count": 109,
      "outputs": [
        {
          "output_type": "execute_result",
          "data": {
            "text/html": [
              "<div>\n",
              "<style scoped>\n",
              "    .dataframe tbody tr th:only-of-type {\n",
              "        vertical-align: middle;\n",
              "    }\n",
              "\n",
              "    .dataframe tbody tr th {\n",
              "        vertical-align: top;\n",
              "    }\n",
              "\n",
              "    .dataframe thead th {\n",
              "        text-align: right;\n",
              "    }\n",
              "</style>\n",
              "<table border=\"1\" class=\"dataframe\">\n",
              "  <thead>\n",
              "    <tr style=\"text-align: right;\">\n",
              "      <th></th>\n",
              "      <th>New ListingVintage Duval Swiss manual wind date Watch Working</th>\n",
              "      <th>Mens Automatic Mechanical Watch Date Day Silver White Blue Leather Deployant</th>\n",
              "      <th>New ListingOMEGA SPEEDMASTER 3513.50 AUTOMATIC CHRONOGRAPH BLACK MENS STEEL DATE WATCH</th>\n",
              "      <th>New ListingSEIKO KINETIC Automatic Quartz Mens Stainless Steel Wristwatch 5M62-OCXO</th>\n",
              "      <th>New Baume &amp; Mercier Clifton Automatic Limited Edition Indian Men's Watch 10402</th>\n",
              "      <th>New ListingFossil NIT MENS New RUNNING WATCH FS-2445</th>\n",
              "      <th>Invicta Men's Watch Speedway Chronograph Quartz Diver Stainless Bracelet 17023</th>\n",
              "      <th>New ListingVTG Seiko 5Y30-7009 Men Ultra Thin Gold Tone Analog Quartz Watch Hour~New Batter</th>\n",
              "      <th>New Listing$3750 DAVID YURMAN 14K GOLD CASE , SS CABLE WATCH</th>\n",
              "      <th>New ListingHamilton LL Bean Vintage 24hr Military Pilot/Field Watch 9931 Swiss 7j ETA 955</th>\n",
              "      <th>New ListingTen Beats Men Lady 30m Green Black Rubber Analog Quartz Watch Hours~New Battery</th>\n",
              "      <th>New ListingRADO DIASTAR DAY DATE SEALED AUTOMATIC MEN'S EXCELLENT WRIST WATCH.</th>\n",
              "      <th>New ListingFERO FEIDMANN 17J GOLD TONE BLUE CLOISONNE 22mm BALL PENDANT WATCH - RUNS</th>\n",
              "      <th>New ListingVintage NINE WEST Black-Dial Silver-Tone Case Women's Watch</th>\n",
              "      <th>New ListingCitizen Diamond Accent Eco Drive Date Watch Gold Tone</th>\n",
              "      <th>Mens Silver Bridge Manual Mechanical Watch - Stainless Steel DIASTERIA 1688W</th>\n",
              "      <th>GENUINE SEIKO (SII) NH35/NH35A AUTOMATIC WATCH MOVEMENT DATE 3 W/WHITE DATE NEW</th>\n",
              "      <th>AXEL QUARTZ watch, silver bracelet green face</th>\n",
              "      <th>New ListingZenith Defy Automatic</th>\n",
              "      <th>Mens Automatic Mechanical Date Watch Silver White Dial Blue Leather Deployant</th>\n",
              "      <th>Rating</th>\n",
              "      <th>Sold</th>\n",
              "      <th>New ListingVintage Duval Swiss manual wind date Watch Working</th>\n",
              "      <th>Mens Automatic Mechanical Watch Date Day Silver White Blue Leather Deployant</th>\n",
              "      <th>New ListingOMEGA SPEEDMASTER 3513.50 AUTOMATIC CHRONOGRAPH BLACK MENS STEEL DATE WATCH</th>\n",
              "      <th>New ListingSEIKO KINETIC Automatic Quartz Mens Stainless Steel Wristwatch 5M62-OCXO</th>\n",
              "      <th>New Baume &amp; Mercier Clifton Automatic Limited Edition Indian Men's Watch 10402</th>\n",
              "      <th>New ListingFossil NIT MENS New RUNNING WATCH FS-2445</th>\n",
              "      <th>Invicta Men's Watch Speedway Chronograph Quartz Diver Stainless Bracelet 17023</th>\n",
              "      <th>New ListingVTG Seiko 5Y30-7009 Men Ultra Thin Gold Tone Analog Quartz Watch Hour~New Batter</th>\n",
              "      <th>New Listing$3750 DAVID YURMAN 14K GOLD CASE , SS CABLE WATCH</th>\n",
              "      <th>New ListingHamilton LL Bean Vintage 24hr Military Pilot/Field Watch 9931 Swiss 7j ETA 955</th>\n",
              "      <th>New ListingTen Beats Men Lady 30m Green Black Rubber Analog Quartz Watch Hours~New Battery</th>\n",
              "      <th>New ListingRADO DIASTAR DAY DATE SEALED AUTOMATIC MEN'S EXCELLENT WRIST WATCH.</th>\n",
              "      <th>New ListingFERO FEIDMANN 17J GOLD TONE BLUE CLOISONNE 22mm BALL PENDANT WATCH - RUNS</th>\n",
              "      <th>New ListingVintage NINE WEST Black-Dial Silver-Tone Case Women's Watch</th>\n",
              "      <th>New ListingCitizen Diamond Accent Eco Drive Date Watch Gold Tone</th>\n",
              "      <th>Mens Silver Bridge Manual Mechanical Watch - Stainless Steel DIASTERIA 1688W</th>\n",
              "      <th>GENUINE SEIKO (SII) NH35/NH35A AUTOMATIC WATCH MOVEMENT DATE 3 W/WHITE DATE NEW</th>\n",
              "      <th>AXEL QUARTZ watch, silver bracelet green face</th>\n",
              "      <th>New ListingZenith Defy Automatic</th>\n",
              "      <th>Mens Automatic Mechanical Date Watch Silver White Dial Blue Leather Deployant</th>\n",
              "    </tr>\n",
              "  </thead>\n",
              "  <tbody>\n",
              "    <tr>\n",
              "      <th>47</th>\n",
              "      <td>0</td>\n",
              "      <td>0</td>\n",
              "      <td>0</td>\n",
              "      <td>0</td>\n",
              "      <td>0</td>\n",
              "      <td>0</td>\n",
              "      <td>0</td>\n",
              "      <td>0</td>\n",
              "      <td>0</td>\n",
              "      <td>0</td>\n",
              "      <td>0</td>\n",
              "      <td>0</td>\n",
              "      <td>0</td>\n",
              "      <td>0</td>\n",
              "      <td>0</td>\n",
              "      <td>0</td>\n",
              "      <td>0</td>\n",
              "      <td>0</td>\n",
              "      <td>0</td>\n",
              "      <td>0</td>\n",
              "      <td>2.601154e+16</td>\n",
              "      <td>197</td>\n",
              "      <td>0</td>\n",
              "      <td>0</td>\n",
              "      <td>0</td>\n",
              "      <td>0</td>\n",
              "      <td>0</td>\n",
              "      <td>0</td>\n",
              "      <td>0</td>\n",
              "      <td>0</td>\n",
              "      <td>0</td>\n",
              "      <td>0</td>\n",
              "      <td>0</td>\n",
              "      <td>0</td>\n",
              "      <td>0</td>\n",
              "      <td>0</td>\n",
              "      <td>0</td>\n",
              "      <td>0</td>\n",
              "      <td>0</td>\n",
              "      <td>0</td>\n",
              "      <td>0</td>\n",
              "      <td>0</td>\n",
              "    </tr>\n",
              "    <tr>\n",
              "      <th>40</th>\n",
              "      <td>0</td>\n",
              "      <td>0</td>\n",
              "      <td>0</td>\n",
              "      <td>0</td>\n",
              "      <td>0</td>\n",
              "      <td>0</td>\n",
              "      <td>0</td>\n",
              "      <td>0</td>\n",
              "      <td>0</td>\n",
              "      <td>0</td>\n",
              "      <td>0</td>\n",
              "      <td>0</td>\n",
              "      <td>0</td>\n",
              "      <td>0</td>\n",
              "      <td>0</td>\n",
              "      <td>0</td>\n",
              "      <td>0</td>\n",
              "      <td>0</td>\n",
              "      <td>0</td>\n",
              "      <td>0</td>\n",
              "      <td>2.601154e+16</td>\n",
              "      <td>197</td>\n",
              "      <td>0</td>\n",
              "      <td>0</td>\n",
              "      <td>0</td>\n",
              "      <td>0</td>\n",
              "      <td>0</td>\n",
              "      <td>0</td>\n",
              "      <td>0</td>\n",
              "      <td>0</td>\n",
              "      <td>0</td>\n",
              "      <td>0</td>\n",
              "      <td>0</td>\n",
              "      <td>0</td>\n",
              "      <td>0</td>\n",
              "      <td>0</td>\n",
              "      <td>0</td>\n",
              "      <td>0</td>\n",
              "      <td>0</td>\n",
              "      <td>0</td>\n",
              "      <td>0</td>\n",
              "      <td>0</td>\n",
              "    </tr>\n",
              "    <tr>\n",
              "      <th>237</th>\n",
              "      <td>0</td>\n",
              "      <td>0</td>\n",
              "      <td>0</td>\n",
              "      <td>0</td>\n",
              "      <td>0</td>\n",
              "      <td>0</td>\n",
              "      <td>0</td>\n",
              "      <td>0</td>\n",
              "      <td>0</td>\n",
              "      <td>0</td>\n",
              "      <td>0</td>\n",
              "      <td>0</td>\n",
              "      <td>0</td>\n",
              "      <td>0</td>\n",
              "      <td>0</td>\n",
              "      <td>0</td>\n",
              "      <td>0</td>\n",
              "      <td>0</td>\n",
              "      <td>0</td>\n",
              "      <td>0</td>\n",
              "      <td>2.601154e+16</td>\n",
              "      <td>197</td>\n",
              "      <td>0</td>\n",
              "      <td>0</td>\n",
              "      <td>0</td>\n",
              "      <td>0</td>\n",
              "      <td>0</td>\n",
              "      <td>0</td>\n",
              "      <td>0</td>\n",
              "      <td>0</td>\n",
              "      <td>0</td>\n",
              "      <td>0</td>\n",
              "      <td>0</td>\n",
              "      <td>0</td>\n",
              "      <td>0</td>\n",
              "      <td>0</td>\n",
              "      <td>0</td>\n",
              "      <td>0</td>\n",
              "      <td>0</td>\n",
              "      <td>0</td>\n",
              "      <td>0</td>\n",
              "      <td>0</td>\n",
              "    </tr>\n",
              "    <tr>\n",
              "      <th>131</th>\n",
              "      <td>0</td>\n",
              "      <td>0</td>\n",
              "      <td>0</td>\n",
              "      <td>0</td>\n",
              "      <td>0</td>\n",
              "      <td>0</td>\n",
              "      <td>0</td>\n",
              "      <td>0</td>\n",
              "      <td>0</td>\n",
              "      <td>0</td>\n",
              "      <td>0</td>\n",
              "      <td>0</td>\n",
              "      <td>0</td>\n",
              "      <td>0</td>\n",
              "      <td>0</td>\n",
              "      <td>0</td>\n",
              "      <td>0</td>\n",
              "      <td>0</td>\n",
              "      <td>0</td>\n",
              "      <td>0</td>\n",
              "      <td>3.774718e+08</td>\n",
              "      <td>31</td>\n",
              "      <td>0</td>\n",
              "      <td>0</td>\n",
              "      <td>0</td>\n",
              "      <td>0</td>\n",
              "      <td>0</td>\n",
              "      <td>0</td>\n",
              "      <td>0</td>\n",
              "      <td>0</td>\n",
              "      <td>0</td>\n",
              "      <td>0</td>\n",
              "      <td>0</td>\n",
              "      <td>0</td>\n",
              "      <td>0</td>\n",
              "      <td>0</td>\n",
              "      <td>0</td>\n",
              "      <td>0</td>\n",
              "      <td>0</td>\n",
              "      <td>0</td>\n",
              "      <td>0</td>\n",
              "      <td>0</td>\n",
              "    </tr>\n",
              "    <tr>\n",
              "      <th>176</th>\n",
              "      <td>0</td>\n",
              "      <td>0</td>\n",
              "      <td>0</td>\n",
              "      <td>0</td>\n",
              "      <td>0</td>\n",
              "      <td>0</td>\n",
              "      <td>0</td>\n",
              "      <td>0</td>\n",
              "      <td>0</td>\n",
              "      <td>0</td>\n",
              "      <td>0</td>\n",
              "      <td>0</td>\n",
              "      <td>0</td>\n",
              "      <td>0</td>\n",
              "      <td>0</td>\n",
              "      <td>0</td>\n",
              "      <td>0</td>\n",
              "      <td>0</td>\n",
              "      <td>0</td>\n",
              "      <td>0</td>\n",
              "      <td>2.601154e+16</td>\n",
              "      <td>197</td>\n",
              "      <td>0</td>\n",
              "      <td>0</td>\n",
              "      <td>0</td>\n",
              "      <td>0</td>\n",
              "      <td>0</td>\n",
              "      <td>0</td>\n",
              "      <td>0</td>\n",
              "      <td>0</td>\n",
              "      <td>0</td>\n",
              "      <td>0</td>\n",
              "      <td>0</td>\n",
              "      <td>0</td>\n",
              "      <td>0</td>\n",
              "      <td>0</td>\n",
              "      <td>0</td>\n",
              "      <td>0</td>\n",
              "      <td>0</td>\n",
              "      <td>0</td>\n",
              "      <td>0</td>\n",
              "      <td>0</td>\n",
              "    </tr>\n",
              "    <tr>\n",
              "      <th>178</th>\n",
              "      <td>0</td>\n",
              "      <td>0</td>\n",
              "      <td>0</td>\n",
              "      <td>0</td>\n",
              "      <td>0</td>\n",
              "      <td>0</td>\n",
              "      <td>0</td>\n",
              "      <td>0</td>\n",
              "      <td>0</td>\n",
              "      <td>0</td>\n",
              "      <td>0</td>\n",
              "      <td>0</td>\n",
              "      <td>0</td>\n",
              "      <td>0</td>\n",
              "      <td>0</td>\n",
              "      <td>0</td>\n",
              "      <td>0</td>\n",
              "      <td>0</td>\n",
              "      <td>0</td>\n",
              "      <td>0</td>\n",
              "      <td>2.601154e+16</td>\n",
              "      <td>197</td>\n",
              "      <td>0</td>\n",
              "      <td>0</td>\n",
              "      <td>0</td>\n",
              "      <td>0</td>\n",
              "      <td>0</td>\n",
              "      <td>0</td>\n",
              "      <td>0</td>\n",
              "      <td>0</td>\n",
              "      <td>0</td>\n",
              "      <td>0</td>\n",
              "      <td>0</td>\n",
              "      <td>0</td>\n",
              "      <td>0</td>\n",
              "      <td>0</td>\n",
              "      <td>0</td>\n",
              "      <td>0</td>\n",
              "      <td>0</td>\n",
              "      <td>0</td>\n",
              "      <td>0</td>\n",
              "      <td>0</td>\n",
              "    </tr>\n",
              "    <tr>\n",
              "      <th>92</th>\n",
              "      <td>0</td>\n",
              "      <td>0</td>\n",
              "      <td>0</td>\n",
              "      <td>0</td>\n",
              "      <td>0</td>\n",
              "      <td>0</td>\n",
              "      <td>0</td>\n",
              "      <td>0</td>\n",
              "      <td>0</td>\n",
              "      <td>0</td>\n",
              "      <td>0</td>\n",
              "      <td>0</td>\n",
              "      <td>0</td>\n",
              "      <td>0</td>\n",
              "      <td>0</td>\n",
              "      <td>0</td>\n",
              "      <td>0</td>\n",
              "      <td>0</td>\n",
              "      <td>0</td>\n",
              "      <td>0</td>\n",
              "      <td>2.601154e+16</td>\n",
              "      <td>197</td>\n",
              "      <td>0</td>\n",
              "      <td>0</td>\n",
              "      <td>0</td>\n",
              "      <td>0</td>\n",
              "      <td>0</td>\n",
              "      <td>0</td>\n",
              "      <td>0</td>\n",
              "      <td>0</td>\n",
              "      <td>0</td>\n",
              "      <td>0</td>\n",
              "      <td>0</td>\n",
              "      <td>0</td>\n",
              "      <td>0</td>\n",
              "      <td>0</td>\n",
              "      <td>0</td>\n",
              "      <td>0</td>\n",
              "      <td>0</td>\n",
              "      <td>0</td>\n",
              "      <td>0</td>\n",
              "      <td>0</td>\n",
              "    </tr>\n",
              "    <tr>\n",
              "      <th>76</th>\n",
              "      <td>0</td>\n",
              "      <td>0</td>\n",
              "      <td>0</td>\n",
              "      <td>0</td>\n",
              "      <td>0</td>\n",
              "      <td>0</td>\n",
              "      <td>0</td>\n",
              "      <td>0</td>\n",
              "      <td>0</td>\n",
              "      <td>0</td>\n",
              "      <td>0</td>\n",
              "      <td>0</td>\n",
              "      <td>0</td>\n",
              "      <td>0</td>\n",
              "      <td>0</td>\n",
              "      <td>0</td>\n",
              "      <td>0</td>\n",
              "      <td>0</td>\n",
              "      <td>0</td>\n",
              "      <td>0</td>\n",
              "      <td>2.601154e+16</td>\n",
              "      <td>197</td>\n",
              "      <td>0</td>\n",
              "      <td>0</td>\n",
              "      <td>0</td>\n",
              "      <td>0</td>\n",
              "      <td>0</td>\n",
              "      <td>0</td>\n",
              "      <td>0</td>\n",
              "      <td>0</td>\n",
              "      <td>0</td>\n",
              "      <td>0</td>\n",
              "      <td>0</td>\n",
              "      <td>0</td>\n",
              "      <td>0</td>\n",
              "      <td>0</td>\n",
              "      <td>0</td>\n",
              "      <td>0</td>\n",
              "      <td>0</td>\n",
              "      <td>0</td>\n",
              "      <td>0</td>\n",
              "      <td>0</td>\n",
              "    </tr>\n",
              "    <tr>\n",
              "      <th>35</th>\n",
              "      <td>0</td>\n",
              "      <td>0</td>\n",
              "      <td>0</td>\n",
              "      <td>0</td>\n",
              "      <td>0</td>\n",
              "      <td>0</td>\n",
              "      <td>0</td>\n",
              "      <td>0</td>\n",
              "      <td>0</td>\n",
              "      <td>0</td>\n",
              "      <td>0</td>\n",
              "      <td>0</td>\n",
              "      <td>0</td>\n",
              "      <td>0</td>\n",
              "      <td>0</td>\n",
              "      <td>0</td>\n",
              "      <td>0</td>\n",
              "      <td>0</td>\n",
              "      <td>0</td>\n",
              "      <td>0</td>\n",
              "      <td>2.601154e+16</td>\n",
              "      <td>197</td>\n",
              "      <td>0</td>\n",
              "      <td>0</td>\n",
              "      <td>0</td>\n",
              "      <td>0</td>\n",
              "      <td>0</td>\n",
              "      <td>0</td>\n",
              "      <td>0</td>\n",
              "      <td>0</td>\n",
              "      <td>0</td>\n",
              "      <td>0</td>\n",
              "      <td>0</td>\n",
              "      <td>0</td>\n",
              "      <td>0</td>\n",
              "      <td>0</td>\n",
              "      <td>0</td>\n",
              "      <td>0</td>\n",
              "      <td>0</td>\n",
              "      <td>0</td>\n",
              "      <td>0</td>\n",
              "      <td>0</td>\n",
              "    </tr>\n",
              "    <tr>\n",
              "      <th>248</th>\n",
              "      <td>0</td>\n",
              "      <td>0</td>\n",
              "      <td>0</td>\n",
              "      <td>0</td>\n",
              "      <td>0</td>\n",
              "      <td>0</td>\n",
              "      <td>0</td>\n",
              "      <td>0</td>\n",
              "      <td>0</td>\n",
              "      <td>0</td>\n",
              "      <td>0</td>\n",
              "      <td>0</td>\n",
              "      <td>0</td>\n",
              "      <td>0</td>\n",
              "      <td>0</td>\n",
              "      <td>0</td>\n",
              "      <td>0</td>\n",
              "      <td>0</td>\n",
              "      <td>0</td>\n",
              "      <td>0</td>\n",
              "      <td>2.601154e+16</td>\n",
              "      <td>197</td>\n",
              "      <td>0</td>\n",
              "      <td>0</td>\n",
              "      <td>0</td>\n",
              "      <td>0</td>\n",
              "      <td>0</td>\n",
              "      <td>0</td>\n",
              "      <td>0</td>\n",
              "      <td>0</td>\n",
              "      <td>0</td>\n",
              "      <td>0</td>\n",
              "      <td>0</td>\n",
              "      <td>0</td>\n",
              "      <td>0</td>\n",
              "      <td>0</td>\n",
              "      <td>0</td>\n",
              "      <td>0</td>\n",
              "      <td>0</td>\n",
              "      <td>0</td>\n",
              "      <td>0</td>\n",
              "      <td>0</td>\n",
              "    </tr>\n",
              "    <tr>\n",
              "      <th>11</th>\n",
              "      <td>0</td>\n",
              "      <td>0</td>\n",
              "      <td>0</td>\n",
              "      <td>0</td>\n",
              "      <td>0</td>\n",
              "      <td>0</td>\n",
              "      <td>0</td>\n",
              "      <td>0</td>\n",
              "      <td>0</td>\n",
              "      <td>0</td>\n",
              "      <td>0</td>\n",
              "      <td>0</td>\n",
              "      <td>0</td>\n",
              "      <td>0</td>\n",
              "      <td>0</td>\n",
              "      <td>0</td>\n",
              "      <td>0</td>\n",
              "      <td>0</td>\n",
              "      <td>0</td>\n",
              "      <td>0</td>\n",
              "      <td>1.338942e+06</td>\n",
              "      <td>25</td>\n",
              "      <td>0</td>\n",
              "      <td>0</td>\n",
              "      <td>0</td>\n",
              "      <td>0</td>\n",
              "      <td>0</td>\n",
              "      <td>0</td>\n",
              "      <td>0</td>\n",
              "      <td>0</td>\n",
              "      <td>0</td>\n",
              "      <td>0</td>\n",
              "      <td>0</td>\n",
              "      <td>0</td>\n",
              "      <td>0</td>\n",
              "      <td>0</td>\n",
              "      <td>0</td>\n",
              "      <td>0</td>\n",
              "      <td>0</td>\n",
              "      <td>0</td>\n",
              "      <td>0</td>\n",
              "      <td>0</td>\n",
              "    </tr>\n",
              "    <tr>\n",
              "      <th>110</th>\n",
              "      <td>0</td>\n",
              "      <td>0</td>\n",
              "      <td>0</td>\n",
              "      <td>0</td>\n",
              "      <td>0</td>\n",
              "      <td>0</td>\n",
              "      <td>0</td>\n",
              "      <td>0</td>\n",
              "      <td>0</td>\n",
              "      <td>0</td>\n",
              "      <td>0</td>\n",
              "      <td>0</td>\n",
              "      <td>0</td>\n",
              "      <td>0</td>\n",
              "      <td>0</td>\n",
              "      <td>0</td>\n",
              "      <td>0</td>\n",
              "      <td>0</td>\n",
              "      <td>0</td>\n",
              "      <td>0</td>\n",
              "      <td>2.601154e+16</td>\n",
              "      <td>197</td>\n",
              "      <td>0</td>\n",
              "      <td>0</td>\n",
              "      <td>0</td>\n",
              "      <td>0</td>\n",
              "      <td>0</td>\n",
              "      <td>0</td>\n",
              "      <td>0</td>\n",
              "      <td>0</td>\n",
              "      <td>0</td>\n",
              "      <td>0</td>\n",
              "      <td>0</td>\n",
              "      <td>0</td>\n",
              "      <td>0</td>\n",
              "      <td>0</td>\n",
              "      <td>0</td>\n",
              "      <td>0</td>\n",
              "      <td>0</td>\n",
              "      <td>0</td>\n",
              "      <td>0</td>\n",
              "      <td>0</td>\n",
              "    </tr>\n",
              "    <tr>\n",
              "      <th>219</th>\n",
              "      <td>0</td>\n",
              "      <td>0</td>\n",
              "      <td>0</td>\n",
              "      <td>0</td>\n",
              "      <td>0</td>\n",
              "      <td>0</td>\n",
              "      <td>0</td>\n",
              "      <td>0</td>\n",
              "      <td>0</td>\n",
              "      <td>0</td>\n",
              "      <td>0</td>\n",
              "      <td>0</td>\n",
              "      <td>0</td>\n",
              "      <td>0</td>\n",
              "      <td>0</td>\n",
              "      <td>0</td>\n",
              "      <td>0</td>\n",
              "      <td>0</td>\n",
              "      <td>0</td>\n",
              "      <td>0</td>\n",
              "      <td>2.601154e+16</td>\n",
              "      <td>197</td>\n",
              "      <td>0</td>\n",
              "      <td>0</td>\n",
              "      <td>0</td>\n",
              "      <td>0</td>\n",
              "      <td>0</td>\n",
              "      <td>0</td>\n",
              "      <td>0</td>\n",
              "      <td>0</td>\n",
              "      <td>0</td>\n",
              "      <td>0</td>\n",
              "      <td>0</td>\n",
              "      <td>0</td>\n",
              "      <td>0</td>\n",
              "      <td>0</td>\n",
              "      <td>0</td>\n",
              "      <td>0</td>\n",
              "      <td>0</td>\n",
              "      <td>0</td>\n",
              "      <td>0</td>\n",
              "      <td>0</td>\n",
              "    </tr>\n",
              "  </tbody>\n",
              "</table>\n",
              "</div>"
            ],
            "text/plain": [
              "     New ListingVintage Duval Swiss manual wind date Watch Working  ...  Mens Automatic Mechanical Date Watch Silver White Dial Blue Leather Deployant\n",
              "47                                                   0              ...                                                  0                            \n",
              "40                                                   0              ...                                                  0                            \n",
              "237                                                  0              ...                                                  0                            \n",
              "131                                                  0              ...                                                  0                            \n",
              "176                                                  0              ...                                                  0                            \n",
              "178                                                  0              ...                                                  0                            \n",
              "92                                                   0              ...                                                  0                            \n",
              "76                                                   0              ...                                                  0                            \n",
              "35                                                   0              ...                                                  0                            \n",
              "248                                                  0              ...                                                  0                            \n",
              "11                                                   0              ...                                                  0                            \n",
              "110                                                  0              ...                                                  0                            \n",
              "219                                                  0              ...                                                  0                            \n",
              "\n",
              "[13 rows x 42 columns]"
            ]
          },
          "metadata": {
            "tags": []
          },
          "execution_count": 109
        }
      ]
    },
    {
      "cell_type": "code",
      "metadata": {
        "id": "zrxOD77csRyM"
      },
      "source": [
        "## for predicting a value .. change the value with comma for different observation\n",
        "\n",
        "y_pred_1=regression.predict([[0,\t0,\t0,\t0,\t0,\t0,\t0,\t0,\t0,\t0,\t0,\t0,\t0,\t0,\t0,\t0,\t0,\t0,\t0,\t0,\t1.338942e+06,\t25,\t0,\t0,\t0,\t0,\t0,\t0,\t0,\t0,\t0,\t0,\t0,\t0,\t0,\t0,\t0,\t0,\t0,\t0,\t0,\t0]])"
      ],
      "execution_count": 110,
      "outputs": []
    },
    {
      "cell_type": "code",
      "metadata": {
        "colab": {
          "base_uri": "https://localhost:8080/"
        },
        "id": "XuifATkzsV30",
        "outputId": "ceaea8fc-725d-4e99-bb13-0703fe335b8a"
      },
      "source": [
        "## so you can see a predicted value for a particular data\n",
        "\n",
        "y_pred_1"
      ],
      "execution_count": 111,
      "outputs": [
        {
          "output_type": "execute_result",
          "data": {
            "text/plain": [
              "array([1603.86740854])"
            ]
          },
          "metadata": {
            "tags": []
          },
          "execution_count": 111
        }
      ]
    },
    {
      "cell_type": "code",
      "metadata": {
        "id": "mWm5ojFNsZP2"
      },
      "source": [
        ""
      ],
      "execution_count": null,
      "outputs": []
    }
  ]
}